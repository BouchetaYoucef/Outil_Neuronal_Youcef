{
 "cells": [
  {
   "cell_type": "code",
   "execution_count": 2,
   "id": "a57f8693",
   "metadata": {},
   "outputs": [
    {
     "name": "stdout",
     "output_type": "stream",
     "text": [
      "Collecting keras/n",
      "  Downloading keras-2.7.0-py2.py3-none-any.whl (1.3 MB)/n",
      "Installing collected packages: keras/n",
      "Successfully installed keras-2.7.0/n",
      "Note: you may need to restart the kernel to use updated packages./n"
     ]
    }
   ],
   "source": [
    "pip install keras"
   ]
  },
  {
   "cell_type": "code",
   "execution_count": 4,
   "id": "d31e600c",
   "metadata": {},
   "outputs": [
    {
     "name": "stdout",
     "output_type": "stream",
     "text": [
      "Collecting tensorflow/n",
      "  Downloading tensorflow-2.7.0-cp38-cp38-win_amd64.whl (430.8 MB)/n",
      "Requirement already satisfied: typing-extensions>=3.6.6 in c://users//simplon//anaconda3//lib//site-packages (from tensorflow) (3.7.4.3)/n",
      "Requirement already satisfied: six>=1.12.0 in c://users//simplon//anaconda3//lib//site-packages (from tensorflow) (1.15.0)/n",
      "Requirement already satisfied: protobuf>=3.9.2 in c://users//simplon//anaconda3//lib//site-packages (from tensorflow) (3.17.3)/n",
      "Collecting gast<0.5.0,>=0.2.1/n",
      "  Downloading gast-0.4.0-py3-none-any.whl (9.8 kB)/n",
      "Collecting grpcio<2.0,>=1.24.3/n",
      "  Downloading grpcio-1.42.0-cp38-cp38-win_amd64.whl (3.3 MB)/n",
      "Collecting astunparse>=1.6.0/n",
      "  Downloading astunparse-1.6.3-py2.py3-none-any.whl (12 kB)/n",
      "Requirement already satisfied: h5py>=2.9.0 in c://users//simplon//anaconda3//lib//site-packages (from tensorflow) (2.10.0)/n",
      "Collecting flatbuffers<3.0,>=1.12/n",
      "  Downloading flatbuffers-2.0-py2.py3-none-any.whl (26 kB)/n",
      "Collecting keras-preprocessing>=1.1.1/n",
      "  Downloading Keras_Preprocessing-1.1.2-py2.py3-none-any.whl (42 kB)/n",
      "Requirement already satisfied: wrapt>=1.11.0 in c://users//simplon//anaconda3//lib//site-packages (from tensorflow) (1.12.1)/n",
      "Collecting absl-py>=0.4.0/n",
      "  Downloading absl_py-1.0.0-py3-none-any.whl (126 kB)/n",
      "Collecting google-pasta>=0.1.1/n",
      "  Downloading google_pasta-0.2.0-py3-none-any.whl (57 kB)/n",
      "Collecting opt-einsum>=2.3.2/n",
      "  Downloading opt_einsum-3.3.0-py3-none-any.whl (65 kB)/n",
      "Collecting termcolor>=1.1.0/n",
      "  Downloading termcolor-1.1.0.tar.gz (3.9 kB)/n",
      "Requirement already satisfied: keras<2.8,>=2.7.0rc0 in c://users//simplon//anaconda3//lib//site-packages (from tensorflow) (2.7.0)/n",
      "Requirement already satisfied: numpy>=1.14.5 in c://users//simplon//anaconda3//lib//site-packages (from tensorflow) (1.19.5)/n",
      "Collecting tensorboard~=2.6/n",
      "  Downloading tensorboard-2.7.0-py3-none-any.whl (5.8 MB)/n",
      "Collecting libclang>=9.0.1/n",
      "  Downloading libclang-12.0.0-py2.py3-none-win_amd64.whl (13.1 MB)/n",
      "Requirement already satisfied: wheel<1.0,>=0.32.0 in c://users//simplon//anaconda3//lib//site-packages (from tensorflow) (0.36.2)/n",
      "Collecting tensorflow-io-gcs-filesystem>=0.21.0/n",
      "  Downloading tensorflow_io_gcs_filesystem-0.22.0-cp38-cp38-win_amd64.whl (1.5 MB)/n",
      "Collecting tensorflow-estimator<2.8,~=2.7.0rc0/n",
      "  Downloading tensorflow_estimator-2.7.0-py2.py3-none-any.whl (463 kB)/n",
      "Collecting tensorboard-plugin-wit>=1.6.0/n",
      "  Downloading tensorboard_plugin_wit-1.8.0-py3-none-any.whl (781 kB)/n",
      "Requirement already satisfied: setuptools>=41.0.0 in c://users//simplon//anaconda3//lib//site-packages (from tensorboard~=2.6->tensorflow) (52.0.0.post20210125)/n",
      "Collecting tensorboard-data-server<0.7.0,>=0.6.0/n",
      "  Downloading tensorboard_data_server-0.6.1-py3-none-any.whl (2.4 kB)/n",
      "Requirement already satisfied: requests<3,>=2.21.0 in c://users//simplon//anaconda3//lib//site-packages (from tensorboard~=2.6->tensorflow) (2.25.1)/n",
      "Collecting markdown>=2.6.8/n",
      "  Downloading Markdown-3.3.6-py3-none-any.whl (97 kB)/n",
      "Requirement already satisfied: werkzeug>=0.11.15 in c://users//simplon//anaconda3//lib//site-packages (from tensorboard~=2.6->tensorflow) (1.0.1)/n",
      "Collecting google-auth<3,>=1.6.3/n",
      "  Downloading google_auth-2.3.3-py2.py3-none-any.whl (155 kB)/n",
      "Collecting google-auth-oauthlib<0.5,>=0.4.1/n",
      "  Downloading google_auth_oauthlib-0.4.6-py2.py3-none-any.whl (18 kB)/n",
      "Requirement already satisfied: cachetools<5.0,>=2.0.0 in c://users//simplon//anaconda3//lib//site-packages (from google-auth<3,>=1.6.3->tensorboard~=2.6->tensorflow) (4.2.4)/n",
      "Collecting pyasn1-modules>=0.2.1/n",
      "  Downloading pyasn1_modules-0.2.8-py2.py3-none-any.whl (155 kB)/n",
      "Collecting rsa<5,>=3.1.4/n",
      "  Downloading rsa-4.8-py3-none-any.whl (39 kB)/n",
      "Collecting requests-oauthlib>=0.7.0/n",
      "  Using cached requests_oauthlib-1.3.0-py2.py3-none-any.whl (23 kB)/n",
      "Collecting importlib-metadata>=4.4/n",
      "  Downloading importlib_metadata-4.8.2-py3-none-any.whl (17 kB)/n",
      "Requirement already satisfied: zipp>=0.5 in c://users//simplon//anaconda3//lib//site-packages (from importlib-metadata>=4.4->markdown>=2.6.8->tensorboard~=2.6->tensorflow) (3.4.1)/n",
      "Collecting pyasn1<0.5.0,>=0.4.6/n",
      "  Downloading pyasn1-0.4.8-py2.py3-none-any.whl (77 kB)/n",
      "Requirement already satisfied: idna<3,>=2.5 in c://users//simplon//anaconda3//lib//site-packages (from requests<3,>=2.21.0->tensorboard~=2.6->tensorflow) (2.10)/n",
      "Requirement already satisfied: certifi>=2017.4.17 in c://users//simplon//anaconda3//lib//site-packages (from requests<3,>=2.21.0->tensorboard~=2.6->tensorflow) (2020.12.5)/n",
      "Requirement already satisfied: urllib3<1.27,>=1.21.1 in c://users//simplon//anaconda3//lib//site-packages (from requests<3,>=2.21.0->tensorboard~=2.6->tensorflow) (1.26.4)/n",
      "Requirement already satisfied: chardet<5,>=3.0.2 in c://users//simplon//anaconda3//lib//site-packages (from requests<3,>=2.21.0->tensorboard~=2.6->tensorflow) (4.0.0)/n",
      "Collecting oauthlib>=3.0.0/n",
      "  Using cached oauthlib-3.1.1-py2.py3-none-any.whl (146 kB)/n",
      "Building wheels for collected packages: termcolor/n",
      "  Building wheel for termcolor (setup.py): started/n",
      "  Building wheel for termcolor (setup.py): finished with status 'done'/n",
      "  Created wheel for termcolor: filename=termcolor-1.1.0-py3-none-any.whl size=4829 sha256=ff6595cb2c95b50b833daf15e33ba6cf697c598600e8bc2312f4d71153e3e70d/n",
      "  Stored in directory: c://users//simplon//appdata//local//pip//cache//wheels//a0//16//9c//5473df82468f958445479c59e784896fa24f4a5fc024b0f501/n",
      "Successfully built termcolor/n",
      "Installing collected packages: pyasn1, rsa, pyasn1-modules, oauthlib, requests-oauthlib, importlib-metadata, google-auth, tensorboard-plugin-wit, tensorboard-data-server, markdown, grpcio, google-auth-oauthlib, absl-py, termcolor, tensorflow-io-gcs-filesystem, tensorflow-estimator, tensorboard, opt-einsum, libclang, keras-preprocessing, google-pasta, gast, flatbuffers, astunparse, tensorflow/n",
      "  Attempting uninstall: importlib-metadata/n",
      "    Found existing installation: importlib-metadata 3.10.0/n",
      "    Uninstalling importlib-metadata-3.10.0:/n",
      "      Successfully uninstalled importlib-metadata-3.10.0/n",
      "Successfully installed absl-py-1.0.0 astunparse-1.6.3 flatbuffers-2.0 gast-0.4.0 google-auth-2.3.3 google-auth-oauthlib-0.4.6 google-pasta-0.2.0 grpcio-1.42.0 importlib-metadata-4.8.2 keras-preprocessing-1.1.2 libclang-12.0.0 markdown-3.3.6 oauthlib-3.1.1 opt-einsum-3.3.0 pyasn1-0.4.8 pyasn1-modules-0.2.8 requests-oauthlib-1.3.0 rsa-4.8 tensorboard-2.7.0 tensorboard-data-server-0.6.1 tensorboard-plugin-wit-1.8.0 tensorflow-2.7.0 tensorflow-estimator-2.7.0 tensorflow-io-gcs-filesystem-0.22.0 termcolor-1.1.0/n",
      "Note: you may need to restart the kernel to use updated packages./n"
     ]
    }
   ],
   "source": [
    "pip install --upgrade tensorflow"
   ]
  },
  {
   "cell_type": "code",
   "execution_count": 2,
   "id": "9e89cc01",
   "metadata": {},
   "outputs": [],
   "source": [
    "# Pandas and Numpy/n",
    "import pandas as pd/n",
    "import numpy as np/n",
    "import seaborn as sns/n",
    "/n",
    "# Matplotlib/n",
    "import matplotlib.pyplot as plt/n",
    "/n",
    "# Tensorflow/n",
    "import tensorflow as tf/n",
    "from tensorflow.keras.models import Sequential/n",
    "from tensorflow.keras.layers import Dense/n",
    "from tensorflow import keras/n",
    "/n",
    "from tensorflow.keras.models import Sequential/n",
    "from tensorflow.keras.layers import Dense, Activation/n",
    "from tensorflow.keras.callbacks import EarlyStopping/n",
    "from tensorflow.keras.optimizers import Adam, SGD, Adamax, RMSprop,Adadelta/n",
    "from tensorflow.keras.layers import Dropout/n",
    "from sklearn.utils import class_weight/n",
    "from tensorflow.keras.wrappers.scikit_learn import KerasClassifier/n",
    "from sklearn.metrics import classification_report, confusion_matrix/n",
    "from sklearn.metrics import plot_roc_curve, roc_auc_score, roc_curve, average_precision_score/n",
    "from sklearn.model_selection import cross_val_score, cross_validate/n",
    "from sklearn.model_selection import GridSearchCV/n",
    "from sklearn.model_selection import train_test_split/n",
    "/n",
    "# autre import/n",
    "import sys/n"
   ]
  },
  {
   "cell_type": "markdown",
   "id": "edcbdf17",
   "metadata": {},
   "source": [
    "# Load the dataset "
   ]
  },
  {
   "cell_type": "code",
   "execution_count": 3,
   "id": "130f96be",
   "metadata": {},
   "outputs": [],
   "source": [
    "# test_csv = tf.keras.dataset.test_csv/n",
    "# (images, targets), (_, _) = fashion_test_csv.load_data()/n",
    "/n",
    "# test_csv = pd.data(/"test_csv/")/n",
    "dataX = pd.read_csv('train.csv')/n",
    "datay = pd.read_csv('test.csv')"
   ]
  },
  {
   "cell_type": "code",
   "execution_count": 4,
   "id": "0314a98e",
   "metadata": {},
   "outputs": [
    {
     "data": {
      "text/html": [
       "<div>/n",
       "<style scoped>/n",
       "    .dataframe tbody tr th:only-of-type {/n",
       "        vertical-align: middle;/n",
       "    }/n",
       "/n",
       "    .dataframe tbody tr th {/n",
       "        vertical-align: top;/n",
       "    }/n",
       "/n",
       "    .dataframe thead th {/n",
       "        text-align: right;/n",
       "    }/n",
       "</style>/n",
       "<table border=/"1/" class=/"dataframe/">/n",
       "  <thead>/n",
       "    <tr style=/"text-align: right;/">/n",
       "      <th></th>/n",
       "      <th>label</th>/n",
       "      <th>pixel0</th>/n",
       "      <th>pixel1</th>/n",
       "      <th>pixel2</th>/n",
       "      <th>pixel3</th>/n",
       "      <th>pixel4</th>/n",
       "      <th>pixel5</th>/n",
       "      <th>pixel6</th>/n",
       "      <th>pixel7</th>/n",
       "      <th>pixel8</th>/n",
       "      <th>...</th>/n",
       "      <th>pixel774</th>/n",
       "      <th>pixel775</th>/n",
       "      <th>pixel776</th>/n",
       "      <th>pixel777</th>/n",
       "      <th>pixel778</th>/n",
       "      <th>pixel779</th>/n",
       "      <th>pixel780</th>/n",
       "      <th>pixel781</th>/n",
       "      <th>pixel782</th>/n",
       "      <th>pixel783</th>/n",
       "    </tr>/n",
       "  </thead>/n",
       "  <tbody>/n",
       "    <tr>/n",
       "      <th>0</th>/n",
       "      <td>1</td>/n",
       "      <td>0</td>/n",
       "      <td>0</td>/n",
       "      <td>0</td>/n",
       "      <td>0</td>/n",
       "      <td>0</td>/n",
       "      <td>0</td>/n",
       "      <td>0</td>/n",
       "      <td>0</td>/n",
       "      <td>0</td>/n",
       "      <td>...</td>/n",
       "      <td>0</td>/n",
       "      <td>0</td>/n",
       "      <td>0</td>/n",
       "      <td>0</td>/n",
       "      <td>0</td>/n",
       "      <td>0</td>/n",
       "      <td>0</td>/n",
       "      <td>0</td>/n",
       "      <td>0</td>/n",
       "      <td>0</td>/n",
       "    </tr>/n",
       "    <tr>/n",
       "      <th>1</th>/n",
       "      <td>0</td>/n",
       "      <td>0</td>/n",
       "      <td>0</td>/n",
       "      <td>0</td>/n",
       "      <td>0</td>/n",
       "      <td>0</td>/n",
       "      <td>0</td>/n",
       "      <td>0</td>/n",
       "      <td>0</td>/n",
       "      <td>0</td>/n",
       "      <td>...</td>/n",
       "      <td>0</td>/n",
       "      <td>0</td>/n",
       "      <td>0</td>/n",
       "      <td>0</td>/n",
       "      <td>0</td>/n",
       "      <td>0</td>/n",
       "      <td>0</td>/n",
       "      <td>0</td>/n",
       "      <td>0</td>/n",
       "      <td>0</td>/n",
       "    </tr>/n",
       "    <tr>/n",
       "      <th>2</th>/n",
       "      <td>1</td>/n",
       "      <td>0</td>/n",
       "      <td>0</td>/n",
       "      <td>0</td>/n",
       "      <td>0</td>/n",
       "      <td>0</td>/n",
       "      <td>0</td>/n",
       "      <td>0</td>/n",
       "      <td>0</td>/n",
       "      <td>0</td>/n",
       "      <td>...</td>/n",
       "      <td>0</td>/n",
       "      <td>0</td>/n",
       "      <td>0</td>/n",
       "      <td>0</td>/n",
       "      <td>0</td>/n",
       "      <td>0</td>/n",
       "      <td>0</td>/n",
       "      <td>0</td>/n",
       "      <td>0</td>/n",
       "      <td>0</td>/n",
       "    </tr>/n",
       "    <tr>/n",
       "      <th>3</th>/n",
       "      <td>4</td>/n",
       "      <td>0</td>/n",
       "      <td>0</td>/n",
       "      <td>0</td>/n",
       "      <td>0</td>/n",
       "      <td>0</td>/n",
       "      <td>0</td>/n",
       "      <td>0</td>/n",
       "      <td>0</td>/n",
       "      <td>0</td>/n",
       "      <td>...</td>/n",
       "      <td>0</td>/n",
       "      <td>0</td>/n",
       "      <td>0</td>/n",
       "      <td>0</td>/n",
       "      <td>0</td>/n",
       "      <td>0</td>/n",
       "      <td>0</td>/n",
       "      <td>0</td>/n",
       "      <td>0</td>/n",
       "      <td>0</td>/n",
       "    </tr>/n",
       "    <tr>/n",
       "      <th>4</th>/n",
       "      <td>0</td>/n",
       "      <td>0</td>/n",
       "      <td>0</td>/n",
       "      <td>0</td>/n",
       "      <td>0</td>/n",
       "      <td>0</td>/n",
       "      <td>0</td>/n",
       "      <td>0</td>/n",
       "      <td>0</td>/n",
       "      <td>0</td>/n",
       "      <td>...</td>/n",
       "      <td>0</td>/n",
       "      <td>0</td>/n",
       "      <td>0</td>/n",
       "      <td>0</td>/n",
       "      <td>0</td>/n",
       "      <td>0</td>/n",
       "      <td>0</td>/n",
       "      <td>0</td>/n",
       "      <td>0</td>/n",
       "      <td>0</td>/n",
       "    </tr>/n",
       "    <tr>/n",
       "      <th>...</th>/n",
       "      <td>...</td>/n",
       "      <td>...</td>/n",
       "      <td>...</td>/n",
       "      <td>...</td>/n",
       "      <td>...</td>/n",
       "      <td>...</td>/n",
       "      <td>...</td>/n",
       "      <td>...</td>/n",
       "      <td>...</td>/n",
       "      <td>...</td>/n",
       "      <td>...</td>/n",
       "      <td>...</td>/n",
       "      <td>...</td>/n",
       "      <td>...</td>/n",
       "      <td>...</td>/n",
       "      <td>...</td>/n",
       "      <td>...</td>/n",
       "      <td>...</td>/n",
       "      <td>...</td>/n",
       "      <td>...</td>/n",
       "      <td>...</td>/n",
       "    </tr>/n",
       "    <tr>/n",
       "      <th>41995</th>/n",
       "      <td>0</td>/n",
       "      <td>0</td>/n",
       "      <td>0</td>/n",
       "      <td>0</td>/n",
       "      <td>0</td>/n",
       "      <td>0</td>/n",
       "      <td>0</td>/n",
       "      <td>0</td>/n",
       "      <td>0</td>/n",
       "      <td>0</td>/n",
       "      <td>...</td>/n",
       "      <td>0</td>/n",
       "      <td>0</td>/n",
       "      <td>0</td>/n",
       "      <td>0</td>/n",
       "      <td>0</td>/n",
       "      <td>0</td>/n",
       "      <td>0</td>/n",
       "      <td>0</td>/n",
       "      <td>0</td>/n",
       "      <td>0</td>/n",
       "    </tr>/n",
       "    <tr>/n",
       "      <th>41996</th>/n",
       "      <td>1</td>/n",
       "      <td>0</td>/n",
       "      <td>0</td>/n",
       "      <td>0</td>/n",
       "      <td>0</td>/n",
       "      <td>0</td>/n",
       "      <td>0</td>/n",
       "      <td>0</td>/n",
       "      <td>0</td>/n",
       "      <td>0</td>/n",
       "      <td>...</td>/n",
       "      <td>0</td>/n",
       "      <td>0</td>/n",
       "      <td>0</td>/n",
       "      <td>0</td>/n",
       "      <td>0</td>/n",
       "      <td>0</td>/n",
       "      <td>0</td>/n",
       "      <td>0</td>/n",
       "      <td>0</td>/n",
       "      <td>0</td>/n",
       "    </tr>/n",
       "    <tr>/n",
       "      <th>41997</th>/n",
       "      <td>7</td>/n",
       "      <td>0</td>/n",
       "      <td>0</td>/n",
       "      <td>0</td>/n",
       "      <td>0</td>/n",
       "      <td>0</td>/n",
       "      <td>0</td>/n",
       "      <td>0</td>/n",
       "      <td>0</td>/n",
       "      <td>0</td>/n",
       "      <td>...</td>/n",
       "      <td>0</td>/n",
       "      <td>0</td>/n",
       "      <td>0</td>/n",
       "      <td>0</td>/n",
       "      <td>0</td>/n",
       "      <td>0</td>/n",
       "      <td>0</td>/n",
       "      <td>0</td>/n",
       "      <td>0</td>/n",
       "      <td>0</td>/n",
       "    </tr>/n",
       "    <tr>/n",
       "      <th>41998</th>/n",
       "      <td>6</td>/n",
       "      <td>0</td>/n",
       "      <td>0</td>/n",
       "      <td>0</td>/n",
       "      <td>0</td>/n",
       "      <td>0</td>/n",
       "      <td>0</td>/n",
       "      <td>0</td>/n",
       "      <td>0</td>/n",
       "      <td>0</td>/n",
       "      <td>...</td>/n",
       "      <td>0</td>/n",
       "      <td>0</td>/n",
       "      <td>0</td>/n",
       "      <td>0</td>/n",
       "      <td>0</td>/n",
       "      <td>0</td>/n",
       "      <td>0</td>/n",
       "      <td>0</td>/n",
       "      <td>0</td>/n",
       "      <td>0</td>/n",
       "    </tr>/n",
       "    <tr>/n",
       "      <th>41999</th>/n",
       "      <td>9</td>/n",
       "      <td>0</td>/n",
       "      <td>0</td>/n",
       "      <td>0</td>/n",
       "      <td>0</td>/n",
       "      <td>0</td>/n",
       "      <td>0</td>/n",
       "      <td>0</td>/n",
       "      <td>0</td>/n",
       "      <td>0</td>/n",
       "      <td>...</td>/n",
       "      <td>0</td>/n",
       "      <td>0</td>/n",
       "      <td>0</td>/n",
       "      <td>0</td>/n",
       "      <td>0</td>/n",
       "      <td>0</td>/n",
       "      <td>0</td>/n",
       "      <td>0</td>/n",
       "      <td>0</td>/n",
       "      <td>0</td>/n",
       "    </tr>/n",
       "  </tbody>/n",
       "</table>/n",
       "<p>42000 rows × 785 columns</p>/n",
       "</div>"
      ],
      "text/plain": [
       "       label  pixel0  pixel1  pixel2  pixel3  pixel4  pixel5  pixel6  pixel7  ///n",
       "0          1       0       0       0       0       0       0       0       0   /n",
       "1          0       0       0       0       0       0       0       0       0   /n",
       "2          1       0       0       0       0       0       0       0       0   /n",
       "3          4       0       0       0       0       0       0       0       0   /n",
       "4          0       0       0       0       0       0       0       0       0   /n",
       "...      ...     ...     ...     ...     ...     ...     ...     ...     ...   /n",
       "41995      0       0       0       0       0       0       0       0       0   /n",
       "41996      1       0       0       0       0       0       0       0       0   /n",
       "41997      7       0       0       0       0       0       0       0       0   /n",
       "41998      6       0       0       0       0       0       0       0       0   /n",
       "41999      9       0       0       0       0       0       0       0       0   /n",
       "/n",
       "       pixel8  ...  pixel774  pixel775  pixel776  pixel777  pixel778  ///n",
       "0           0  ...         0         0         0         0         0   /n",
       "1           0  ...         0         0         0         0         0   /n",
       "2           0  ...         0         0         0         0         0   /n",
       "3           0  ...         0         0         0         0         0   /n",
       "4           0  ...         0         0         0         0         0   /n",
       "...       ...  ...       ...       ...       ...       ...       ...   /n",
       "41995       0  ...         0         0         0         0         0   /n",
       "41996       0  ...         0         0         0         0         0   /n",
       "41997       0  ...         0         0         0         0         0   /n",
       "41998       0  ...         0         0         0         0         0   /n",
       "41999       0  ...         0         0         0         0         0   /n",
       "/n",
       "       pixel779  pixel780  pixel781  pixel782  pixel783  /n",
       "0             0         0         0         0         0  /n",
       "1             0         0         0         0         0  /n",
       "2             0         0         0         0         0  /n",
       "3             0         0         0         0         0  /n",
       "4             0         0         0         0         0  /n",
       "...         ...       ...       ...       ...       ...  /n",
       "41995         0         0         0         0         0  /n",
       "41996         0         0         0         0         0  /n",
       "41997         0         0         0         0         0  /n",
       "41998         0         0         0         0         0  /n",
       "41999         0         0         0         0         0  /n",
       "/n",
       "[42000 rows x 785 columns]"
      ]
     },
     "execution_count": 4,
     "metadata": {},
     "output_type": "execute_result"
    }
   ],
   "source": [
    "dataX"
   ]
  },
  {
   "cell_type": "code",
   "execution_count": 5,
   "id": "90f2bae0",
   "metadata": {},
   "outputs": [
    {
     "data": {
      "text/html": [
       "<div>/n",
       "<style scoped>/n",
       "    .dataframe tbody tr th:only-of-type {/n",
       "        vertical-align: middle;/n",
       "    }/n",
       "/n",
       "    .dataframe tbody tr th {/n",
       "        vertical-align: top;/n",
       "    }/n",
       "/n",
       "    .dataframe thead th {/n",
       "        text-align: right;/n",
       "    }/n",
       "</style>/n",
       "<table border=/"1/" class=/"dataframe/">/n",
       "  <thead>/n",
       "    <tr style=/"text-align: right;/">/n",
       "      <th></th>/n",
       "      <th>pixel0</th>/n",
       "      <th>pixel1</th>/n",
       "      <th>pixel2</th>/n",
       "      <th>pixel3</th>/n",
       "      <th>pixel4</th>/n",
       "      <th>pixel5</th>/n",
       "      <th>pixel6</th>/n",
       "      <th>pixel7</th>/n",
       "      <th>pixel8</th>/n",
       "      <th>pixel9</th>/n",
       "      <th>...</th>/n",
       "      <th>pixel774</th>/n",
       "      <th>pixel775</th>/n",
       "      <th>pixel776</th>/n",
       "      <th>pixel777</th>/n",
       "      <th>pixel778</th>/n",
       "      <th>pixel779</th>/n",
       "      <th>pixel780</th>/n",
       "      <th>pixel781</th>/n",
       "      <th>pixel782</th>/n",
       "      <th>pixel783</th>/n",
       "    </tr>/n",
       "  </thead>/n",
       "  <tbody>/n",
       "    <tr>/n",
       "      <th>0</th>/n",
       "      <td>0</td>/n",
       "      <td>0</td>/n",
       "      <td>0</td>/n",
       "      <td>0</td>/n",
       "      <td>0</td>/n",
       "      <td>0</td>/n",
       "      <td>0</td>/n",
       "      <td>0</td>/n",
       "      <td>0</td>/n",
       "      <td>0</td>/n",
       "      <td>...</td>/n",
       "      <td>0</td>/n",
       "      <td>0</td>/n",
       "      <td>0</td>/n",
       "      <td>0</td>/n",
       "      <td>0</td>/n",
       "      <td>0</td>/n",
       "      <td>0</td>/n",
       "      <td>0</td>/n",
       "      <td>0</td>/n",
       "      <td>0</td>/n",
       "    </tr>/n",
       "    <tr>/n",
       "      <th>1</th>/n",
       "      <td>0</td>/n",
       "      <td>0</td>/n",
       "      <td>0</td>/n",
       "      <td>0</td>/n",
       "      <td>0</td>/n",
       "      <td>0</td>/n",
       "      <td>0</td>/n",
       "      <td>0</td>/n",
       "      <td>0</td>/n",
       "      <td>0</td>/n",
       "      <td>...</td>/n",
       "      <td>0</td>/n",
       "      <td>0</td>/n",
       "      <td>0</td>/n",
       "      <td>0</td>/n",
       "      <td>0</td>/n",
       "      <td>0</td>/n",
       "      <td>0</td>/n",
       "      <td>0</td>/n",
       "      <td>0</td>/n",
       "      <td>0</td>/n",
       "    </tr>/n",
       "    <tr>/n",
       "      <th>2</th>/n",
       "      <td>0</td>/n",
       "      <td>0</td>/n",
       "      <td>0</td>/n",
       "      <td>0</td>/n",
       "      <td>0</td>/n",
       "      <td>0</td>/n",
       "      <td>0</td>/n",
       "      <td>0</td>/n",
       "      <td>0</td>/n",
       "      <td>0</td>/n",
       "      <td>...</td>/n",
       "      <td>0</td>/n",
       "      <td>0</td>/n",
       "      <td>0</td>/n",
       "      <td>0</td>/n",
       "      <td>0</td>/n",
       "      <td>0</td>/n",
       "      <td>0</td>/n",
       "      <td>0</td>/n",
       "      <td>0</td>/n",
       "      <td>0</td>/n",
       "    </tr>/n",
       "    <tr>/n",
       "      <th>3</th>/n",
       "      <td>0</td>/n",
       "      <td>0</td>/n",
       "      <td>0</td>/n",
       "      <td>0</td>/n",
       "      <td>0</td>/n",
       "      <td>0</td>/n",
       "      <td>0</td>/n",
       "      <td>0</td>/n",
       "      <td>0</td>/n",
       "      <td>0</td>/n",
       "      <td>...</td>/n",
       "      <td>0</td>/n",
       "      <td>0</td>/n",
       "      <td>0</td>/n",
       "      <td>0</td>/n",
       "      <td>0</td>/n",
       "      <td>0</td>/n",
       "      <td>0</td>/n",
       "      <td>0</td>/n",
       "      <td>0</td>/n",
       "      <td>0</td>/n",
       "    </tr>/n",
       "    <tr>/n",
       "      <th>4</th>/n",
       "      <td>0</td>/n",
       "      <td>0</td>/n",
       "      <td>0</td>/n",
       "      <td>0</td>/n",
       "      <td>0</td>/n",
       "      <td>0</td>/n",
       "      <td>0</td>/n",
       "      <td>0</td>/n",
       "      <td>0</td>/n",
       "      <td>0</td>/n",
       "      <td>...</td>/n",
       "      <td>0</td>/n",
       "      <td>0</td>/n",
       "      <td>0</td>/n",
       "      <td>0</td>/n",
       "      <td>0</td>/n",
       "      <td>0</td>/n",
       "      <td>0</td>/n",
       "      <td>0</td>/n",
       "      <td>0</td>/n",
       "      <td>0</td>/n",
       "    </tr>/n",
       "    <tr>/n",
       "      <th>...</th>/n",
       "      <td>...</td>/n",
       "      <td>...</td>/n",
       "      <td>...</td>/n",
       "      <td>...</td>/n",
       "      <td>...</td>/n",
       "      <td>...</td>/n",
       "      <td>...</td>/n",
       "      <td>...</td>/n",
       "      <td>...</td>/n",
       "      <td>...</td>/n",
       "      <td>...</td>/n",
       "      <td>...</td>/n",
       "      <td>...</td>/n",
       "      <td>...</td>/n",
       "      <td>...</td>/n",
       "      <td>...</td>/n",
       "      <td>...</td>/n",
       "      <td>...</td>/n",
       "      <td>...</td>/n",
       "      <td>...</td>/n",
       "      <td>...</td>/n",
       "    </tr>/n",
       "    <tr>/n",
       "      <th>27995</th>/n",
       "      <td>0</td>/n",
       "      <td>0</td>/n",
       "      <td>0</td>/n",
       "      <td>0</td>/n",
       "      <td>0</td>/n",
       "      <td>0</td>/n",
       "      <td>0</td>/n",
       "      <td>0</td>/n",
       "      <td>0</td>/n",
       "      <td>0</td>/n",
       "      <td>...</td>/n",
       "      <td>0</td>/n",
       "      <td>0</td>/n",
       "      <td>0</td>/n",
       "      <td>0</td>/n",
       "      <td>0</td>/n",
       "      <td>0</td>/n",
       "      <td>0</td>/n",
       "      <td>0</td>/n",
       "      <td>0</td>/n",
       "      <td>0</td>/n",
       "    </tr>/n",
       "    <tr>/n",
       "      <th>27996</th>/n",
       "      <td>0</td>/n",
       "      <td>0</td>/n",
       "      <td>0</td>/n",
       "      <td>0</td>/n",
       "      <td>0</td>/n",
       "      <td>0</td>/n",
       "      <td>0</td>/n",
       "      <td>0</td>/n",
       "      <td>0</td>/n",
       "      <td>0</td>/n",
       "      <td>...</td>/n",
       "      <td>0</td>/n",
       "      <td>0</td>/n",
       "      <td>0</td>/n",
       "      <td>0</td>/n",
       "      <td>0</td>/n",
       "      <td>0</td>/n",
       "      <td>0</td>/n",
       "      <td>0</td>/n",
       "      <td>0</td>/n",
       "      <td>0</td>/n",
       "    </tr>/n",
       "    <tr>/n",
       "      <th>27997</th>/n",
       "      <td>0</td>/n",
       "      <td>0</td>/n",
       "      <td>0</td>/n",
       "      <td>0</td>/n",
       "      <td>0</td>/n",
       "      <td>0</td>/n",
       "      <td>0</td>/n",
       "      <td>0</td>/n",
       "      <td>0</td>/n",
       "      <td>0</td>/n",
       "      <td>...</td>/n",
       "      <td>0</td>/n",
       "      <td>0</td>/n",
       "      <td>0</td>/n",
       "      <td>0</td>/n",
       "      <td>0</td>/n",
       "      <td>0</td>/n",
       "      <td>0</td>/n",
       "      <td>0</td>/n",
       "      <td>0</td>/n",
       "      <td>0</td>/n",
       "    </tr>/n",
       "    <tr>/n",
       "      <th>27998</th>/n",
       "      <td>0</td>/n",
       "      <td>0</td>/n",
       "      <td>0</td>/n",
       "      <td>0</td>/n",
       "      <td>0</td>/n",
       "      <td>0</td>/n",
       "      <td>0</td>/n",
       "      <td>0</td>/n",
       "      <td>0</td>/n",
       "      <td>0</td>/n",
       "      <td>...</td>/n",
       "      <td>0</td>/n",
       "      <td>0</td>/n",
       "      <td>0</td>/n",
       "      <td>0</td>/n",
       "      <td>0</td>/n",
       "      <td>0</td>/n",
       "      <td>0</td>/n",
       "      <td>0</td>/n",
       "      <td>0</td>/n",
       "      <td>0</td>/n",
       "    </tr>/n",
       "    <tr>/n",
       "      <th>27999</th>/n",
       "      <td>0</td>/n",
       "      <td>0</td>/n",
       "      <td>0</td>/n",
       "      <td>0</td>/n",
       "      <td>0</td>/n",
       "      <td>0</td>/n",
       "      <td>0</td>/n",
       "      <td>0</td>/n",
       "      <td>0</td>/n",
       "      <td>0</td>/n",
       "      <td>...</td>/n",
       "      <td>0</td>/n",
       "      <td>0</td>/n",
       "      <td>0</td>/n",
       "      <td>0</td>/n",
       "      <td>0</td>/n",
       "      <td>0</td>/n",
       "      <td>0</td>/n",
       "      <td>0</td>/n",
       "      <td>0</td>/n",
       "      <td>0</td>/n",
       "    </tr>/n",
       "  </tbody>/n",
       "</table>/n",
       "<p>28000 rows × 784 columns</p>/n",
       "</div>"
      ],
      "text/plain": [
       "       pixel0  pixel1  pixel2  pixel3  pixel4  pixel5  pixel6  pixel7  pixel8  ///n",
       "0           0       0       0       0       0       0       0       0       0   /n",
       "1           0       0       0       0       0       0       0       0       0   /n",
       "2           0       0       0       0       0       0       0       0       0   /n",
       "3           0       0       0       0       0       0       0       0       0   /n",
       "4           0       0       0       0       0       0       0       0       0   /n",
       "...       ...     ...     ...     ...     ...     ...     ...     ...     ...   /n",
       "27995       0       0       0       0       0       0       0       0       0   /n",
       "27996       0       0       0       0       0       0       0       0       0   /n",
       "27997       0       0       0       0       0       0       0       0       0   /n",
       "27998       0       0       0       0       0       0       0       0       0   /n",
       "27999       0       0       0       0       0       0       0       0       0   /n",
       "/n",
       "       pixel9  ...  pixel774  pixel775  pixel776  pixel777  pixel778  ///n",
       "0           0  ...         0         0         0         0         0   /n",
       "1           0  ...         0         0         0         0         0   /n",
       "2           0  ...         0         0         0         0         0   /n",
       "3           0  ...         0         0         0         0         0   /n",
       "4           0  ...         0         0         0         0         0   /n",
       "...       ...  ...       ...       ...       ...       ...       ...   /n",
       "27995       0  ...         0         0         0         0         0   /n",
       "27996       0  ...         0         0         0         0         0   /n",
       "27997       0  ...         0         0         0         0         0   /n",
       "27998       0  ...         0         0         0         0         0   /n",
       "27999       0  ...         0         0         0         0         0   /n",
       "/n",
       "       pixel779  pixel780  pixel781  pixel782  pixel783  /n",
       "0             0         0         0         0         0  /n",
       "1             0         0         0         0         0  /n",
       "2             0         0         0         0         0  /n",
       "3             0         0         0         0         0  /n",
       "4             0         0         0         0         0  /n",
       "...         ...       ...       ...       ...       ...  /n",
       "27995         0         0         0         0         0  /n",
       "27996         0         0         0         0         0  /n",
       "27997         0         0         0         0         0  /n",
       "27998         0         0         0         0         0  /n",
       "27999         0         0         0         0         0  /n",
       "/n",
       "[28000 rows x 784 columns]"
      ]
     },
     "execution_count": 5,
     "metadata": {},
     "output_type": "execute_result"
    }
   ],
   "source": [
    "datay"
   ]
  },
  {
   "cell_type": "code",
   "execution_count": 6,
   "id": "4d395123",
   "metadata": {},
   "outputs": [
    {
     "data": {
      "text/plain": [
       "42000"
      ]
     },
     "execution_count": 6,
     "metadata": {},
     "output_type": "execute_result"
    }
   ],
   "source": [
    "len(dataX)"
   ]
  },
  {
   "cell_type": "code",
   "execution_count": 7,
   "id": "f6a16a01",
   "metadata": {},
   "outputs": [
    {
     "data": {
      "text/plain": [
       "28000"
      ]
     },
     "execution_count": 7,
     "metadata": {},
     "output_type": "execute_result"
    }
   ],
   "source": [
    "len(datay)"
   ]
  },
  {
   "cell_type": "markdown",
   "id": "cd30041d",
   "metadata": {},
   "source": [
    "# prendre 80% de dataX pour en faire le jeu d'entrainement et garder 20% pour les reste"
   ]
  },
  {
   "cell_type": "code",
   "execution_count": 8,
   "id": "98281a60",
   "metadata": {},
   "outputs": [],
   "source": [
    "# TRAIN = dataX.iloc[0:33600, :]/n",
    "# TRAIN"
   ]
  },
  {
   "cell_type": "code",
   "execution_count": 9,
   "id": "80438ada",
   "metadata": {
    "scrolled": true
   },
   "outputs": [],
   "source": [
    "# TEST = dataX.iloc[33600::, :]/n",
    "# TEST"
   ]
  },
  {
   "cell_type": "code",
   "execution_count": 10,
   "id": "8ab0adcd",
   "metadata": {},
   "outputs": [],
   "source": [
    "X = dataX.drop(/"label/", axis=1)/n",
    "y = dataX.label"
   ]
  },
  {
   "cell_type": "code",
   "execution_count": 11,
   "id": "3c0f235f",
   "metadata": {},
   "outputs": [
    {
     "data": {
      "text/plain": [
       "((42000, 784), (42000,))"
      ]
     },
     "execution_count": 11,
     "metadata": {},
     "output_type": "execute_result"
    }
   ],
   "source": [
    "X.shape, y.shape"
   ]
  },
  {
   "cell_type": "code",
   "execution_count": 12,
   "id": "1a11be49",
   "metadata": {},
   "outputs": [],
   "source": [
    "X = np.expand_dims(X, axis=+2)"
   ]
  },
  {
   "cell_type": "code",
   "execution_count": 13,
   "id": "b19a474c",
   "metadata": {},
   "outputs": [],
   "source": [
    "X = X.reshape(-1, 28, 28, 1)"
   ]
  },
  {
   "cell_type": "code",
   "execution_count": 14,
   "id": "f5b5d488",
   "metadata": {},
   "outputs": [
    {
     "data": {
      "text/plain": [
       "(42000, 28, 28, 1)"
      ]
     },
     "execution_count": 14,
     "metadata": {},
     "output_type": "execute_result"
    }
   ],
   "source": [
    "X.shape"
   ]
  },
  {
   "cell_type": "code",
   "execution_count": 15,
   "id": "87b5fe95",
   "metadata": {},
   "outputs": [],
   "source": [
    "X_train, X_test, y_train, y_test = train_test_split(X, y, stratify = y, test_size = 0.2, random_state =42)"
   ]
  },
  {
   "cell_type": "code",
   "execution_count": 16,
   "id": "7d38b166",
   "metadata": {},
   "outputs": [
    {
     "data": {
      "text/plain": [
       "(33600, 33600, 8400, 8400)"
      ]
     },
     "execution_count": 16,
     "metadata": {},
     "output_type": "execute_result"
    }
   ],
   "source": [
    "len(X_train), len(y_train), len(X_test), len(y_test)"
   ]
  },
  {
   "cell_type": "code",
   "execution_count": null,
   "id": "40c33de0",
   "metadata": {},
   "outputs": [],
   "source": []
  },
  {
   "cell_type": "code",
   "execution_count": 17,
   "id": "5c6fc155",
   "metadata": {},
   "outputs": [],
   "source": [
    "# plot instances frequency per digit/n",
    "# sns.countplot(data=X, x=y)/n",
    "/n",
    "# plt.xlabel(/"digits/",fontsize=16)/n",
    "# plt.ylabel(/"frequency/",fontsize=16)/n",
    "# plt.title(/"Frequency Graph/",fontsize=20)/n",
    "# plt.show()"
   ]
  },
  {
   "cell_type": "code",
   "execution_count": 18,
   "id": "8ab6228d",
   "metadata": {},
   "outputs": [],
   "source": [
    "# add 3d dimension for image plot/n",
    "# X = np.expand_dims(X, axis=+2"
   ]
  },
  {
   "cell_type": "code",
   "execution_count": 19,
   "id": "05528caa",
   "metadata": {},
   "outputs": [],
   "source": [
    "# normalizing pixels to convert into digit image/n",
    "digit_img = X/255.0"
   ]
  },
  {
   "cell_type": "code",
   "execution_count": 20,
   "id": "c4fe293f",
   "metadata": {},
   "outputs": [
    {
     "data": {
      "image/png": "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/n",
      "text/plain": [
       "<Figure size 864x720 with 30 Axes>"
      ]
     },
     "metadata": {
      "needs_background": "light"
     },
     "output_type": "display_data"
    }
   ],
   "source": [
    "rows = 5 # defining no. of rows/n",
    "cols = 6 # defining no. of columns/n",
    "/n",
    "f = plt.figure(figsize=(2*cols, 2*rows)) # defining a figure/n",
    "/n",
    "for i in range(rows*cols):/n",
    "    f.add_subplot(rows, cols, i+1) # adding sub plot to figure on each iteration/n",
    "    plt.imshow(digit_img[i].reshape([28,28]), cmap=/"Blues/")/n",
    "    plt.axis(/"off/")/n",
    "    plt.title(str(y[i]), y=-0.15, color=/"green/")"
   ]
  },
  {
   "cell_type": "markdown",
   "id": "8ece6cee",
   "metadata": {},
   "source": [
    "# Model/n",
    "/n",
    "from tensorflow.keras.models import Sequential/n",
    "from tensorflow.keras.layers import Dense, Dropout, Conv2D, MaxPooling2D, Flatten/n",
    "from tensorflow.keras.optimizers import RMSprop"
   ]
  },
  {
   "cell_type": "code",
   "execution_count": 21,
   "id": "5e990e15",
   "metadata": {},
   "outputs": [],
   "source": [
    "model = keras.models.Sequential()/n",
    "/n",
    "model.add( keras.layers.Input((28, 28, 1)) )/n",
    "/n",
    "model.add( keras.layers.Conv2D(8, (3, 3), activation='relu') )/n",
    "model.add( keras.layers.MaxPooling2D((2, 2)) )/n",
    "model.add( keras.layers.Dropout(0.2))/n",
    "/n",
    "model.add( keras.layers.Conv2D(16, (3, 3), activation='relu') )/n",
    "model.add( keras.layers.MaxPooling2D((2, 2)) )/n",
    "model.add( keras.layers.Dropout(0.2))/n",
    "/n",
    "model.add( keras.layers.Flatten())/n",
    "model.add( keras.layers.Dense(100, activation='relu'))/n",
    "model.add( keras.layers.Dropout(0.5))/n",
    "/n",
    "model.add( keras.layers.Dense(10, activation='softmax'))/n"
   ]
  },
  {
   "cell_type": "markdown",
   "id": "4c54651a",
   "metadata": {},
   "source": [
    "# Model Summary"
   ]
  },
  {
   "cell_type": "code",
   "execution_count": 22,
   "id": "24520706",
   "metadata": {},
   "outputs": [
    {
     "name": "stdout",
     "output_type": "stream",
     "text": [
      "Model: /"sequential/"/n",
      "_________________________________________________________________/n",
      " Layer (type)                Output Shape              Param #   /n",
      "=================================================================/n",
      " conv2d (Conv2D)             (None, 26, 26, 8)         80        /n",
      "                                                                 /n",
      " max_pooling2d (MaxPooling2D  (None, 13, 13, 8)        0         /n",
      " )                                                               /n",
      "                                                                 /n",
      " dropout (Dropout)           (None, 13, 13, 8)         0         /n",
      "                                                                 /n",
      " conv2d_1 (Conv2D)           (None, 11, 11, 16)        1168      /n",
      "                                                                 /n",
      " max_pooling2d_1 (MaxPooling  (None, 5, 5, 16)         0         /n",
      " 2D)                                                             /n",
      "                                                                 /n",
      " dropout_1 (Dropout)         (None, 5, 5, 16)          0         /n",
      "                                                                 /n",
      " flatten (Flatten)           (None, 400)               0         /n",
      "                                                                 /n",
      " dense (Dense)               (None, 100)               40100     /n",
      "                                                                 /n",
      " dropout_2 (Dropout)         (None, 100)               0         /n",
      "                                                                 /n",
      " dense_1 (Dense)             (None, 10)                1010      /n",
      "                                                                 /n",
      "=================================================================/n",
      "Total params: 42,358/n",
      "Trainable params: 42,358/n",
      "Non-trainable params: 0/n",
      "_________________________________________________________________/n"
     ]
    }
   ],
   "source": [
    "model.summary()"
   ]
  },
  {
   "cell_type": "markdown",
   "id": "b8c2603c",
   "metadata": {},
   "source": [
    "# Compile the"
   ]
  },
  {
   "cell_type": "code",
   "execution_count": 77,
   "id": "6a5a0928",
   "metadata": {},
   "outputs": [],
   "source": [
    "model.compile(/n",
    "    optimizer='adam',/n",
    "    loss = 'sparse_categorical_crossentropy',/n",
    "    metrics=['accuracy'])"
   ]
  },
  {
   "cell_type": "code",
   "execution_count": 78,
   "id": "261e59a5",
   "metadata": {},
   "outputs": [],
   "source": [
    "# define early stopping callback/n",
    "callback = EarlyStopping(monitor='val_loss', patience=3, verbose=1, mode='auto')"
   ]
  },
  {
   "cell_type": "code",
   "execution_count": 25,
   "id": "52636aca",
   "metadata": {},
   "outputs": [
    {
     "name": "stdout",
     "output_type": "stream",
     "text": [
      "Epoch 1/15/n",
      "1050/1050 [==============================] - 18s 14ms/step - loss: 3.5092 - accuracy: 0.3246 - val_loss: 0.9706 - val_accuracy: 0.7340/n",
      "Epoch 2/15/n",
      "1050/1050 [==============================] - 15s 14ms/step - loss: 1.1601 - accuracy: 0.6200 - val_loss: 0.3292 - val_accuracy: 0.9119/n",
      "Epoch 3/15/n",
      "1050/1050 [==============================] - 15s 15ms/step - loss: 0.6180 - accuracy: 0.8100 - val_loss: 0.1666 - val_accuracy: 0.9519/n",
      "Epoch 4/15/n",
      "1050/1050 [==============================] - 13s 12ms/step - loss: 0.4171 - accuracy: 0.8737 - val_loss: 0.1241 - val_accuracy: 0.9630/n",
      "Epoch 5/15/n",
      "1050/1050 [==============================] - 13s 12ms/step - loss: 0.3275 - accuracy: 0.9040 - val_loss: 0.1004 - val_accuracy: 0.9714/n",
      "Epoch 6/15/n",
      "1050/1050 [==============================] - 13s 12ms/step - loss: 0.2742 - accuracy: 0.9181 - val_loss: 0.0991 - val_accuracy: 0.9714/n",
      "Epoch 7/15/n",
      "1050/1050 [==============================] - 13s 12ms/step - loss: 0.2537 - accuracy: 0.9267 - val_loss: 0.0801 - val_accuracy: 0.9768/n",
      "Epoch 8/15/n",
      "1050/1050 [==============================] - 13s 12ms/step - loss: 0.2249 - accuracy: 0.9374 - val_loss: 0.0757 - val_accuracy: 0.9781/n",
      "Epoch 9/15/n",
      "1050/1050 [==============================] - 12s 12ms/step - loss: 0.2049 - accuracy: 0.9418 - val_loss: 0.0760 - val_accuracy: 0.9761/n",
      "Epoch 10/15/n",
      "1050/1050 [==============================] - 12s 12ms/step - loss: 0.1850 - accuracy: 0.9478 - val_loss: 0.0788 - val_accuracy: 0.9782/n",
      "Epoch 11/15/n",
      "1050/1050 [==============================] - 13s 13ms/step - loss: 0.1702 - accuracy: 0.9505 - val_loss: 0.0625 - val_accuracy: 0.9811/n",
      "Epoch 12/15/n",
      "1050/1050 [==============================] - 15s 14ms/step - loss: 0.1718 - accuracy: 0.9507 - val_loss: 0.0660 - val_accuracy: 0.9813/n",
      "Epoch 13/15/n",
      "1050/1050 [==============================] - 13s 12ms/step - loss: 0.1633 - accuracy: 0.9543 - val_loss: 0.0622 - val_accuracy: 0.9810/n",
      "Epoch 14/15/n",
      "1050/1050 [==============================] - 12s 12ms/step - loss: 0.1532 - accuracy: 0.9564 - val_loss: 0.0592 - val_accuracy: 0.9823/n",
      "Epoch 15/15/n",
      "1050/1050 [==============================] - 12s 12ms/step - loss: 0.1459 - accuracy: 0.9572 - val_loss: 0.0587 - val_accuracy: 0.9830/n"
     ]
    }
   ],
   "source": [
    "Entrainement = model.fit(X_train, y_train, /n",
    "                         batch_size = 32,/n",
    "                         epochs = 15,/n",
    "                         verbose = 1, /n",
    "                         validation_data = (X_test, y_test),/n",
    "                         callbacks=[callback])"
   ]
  },
  {
   "cell_type": "code",
   "execution_count": 81,
   "id": "6feb3f12",
   "metadata": {},
   "outputs": [
    {
     "name": "stdout",
     "output_type": "stream",
     "text": [
      "loss :  0.05874168500304222/n",
      "acc :  0.9829761981964111/n"
     ]
    }
   ],
   "source": [
    "print('loss : ', score[0])/n",
    "print('acc : ', score[1])"
   ]
  },
  {
   "cell_type": "code",
   "execution_count": 79,
   "id": "5287edb5",
   "metadata": {},
   "outputs": [
    {
     "name": "stdout",
     "output_type": "stream",
     "text": [
      "263/263 [==============================] - 2s 5ms/step - loss: 0.0587 - accuracy: 0.9830/n"
     ]
    }
   ],
   "source": [
    "# ealuer model/n",
    "score = model.evaluate(X_test, y_test)"
   ]
  },
  {
   "cell_type": "code",
   "execution_count": 91,
   "id": "a0eef76f",
   "metadata": {},
   "outputs": [],
   "source": [
    "from keras import layers, Model, optimizers, regularizers"
   ]
  },
  {
   "cell_type": "code",
   "execution_count": 92,
   "id": "89c2cb8c",
   "metadata": {},
   "outputs": [
    {
     "name": "stdout",
     "output_type": "stream",
     "text": [
      "predicted probabilities:/n"
     ]
    },
    {
     "ename": "NameError",
     "evalue": "name 'predictions' is not defined",
     "output_type": "error",
     "traceback": [
      "/u001b[1;31m---------------------------------------------------------------------------/u001b[0m",
      "/u001b[1;31mNameError/u001b[0m                                 Traceback (most recent call last)",
      "/u001b[1;32m<ipython-input-92-285d0bd65dd9>/u001b[0m in /u001b[0;36m<module>/u001b[1;34m/u001b[0m/n/u001b[1;32m----> 1/u001b[1;33m /u001b[0mplot_prediction/u001b[0m/u001b[1;33m(/u001b[0m/u001b[1;36m3/u001b[0m/u001b[1;33m)/u001b[0m/u001b[1;33m/u001b[0m/u001b[1;33m/u001b[0m/u001b[0m/n/u001b[0m",
      "/u001b[1;32m<ipython-input-88-3776cec183a5>/u001b[0m in /u001b[0;36mplot_prediction/u001b[1;34m(index)/u001b[0m/n/u001b[0;32m      1/u001b[0m /u001b[1;32mdef/u001b[0m /u001b[0mplot_prediction/u001b[0m/u001b[1;33m(/u001b[0m/u001b[0mindex/u001b[0m/u001b[1;33m)/u001b[0m/u001b[1;33m:/u001b[0m/u001b[1;33m/u001b[0m/u001b[1;33m/u001b[0m/u001b[0m/n/u001b[0;32m      2/u001b[0m     /u001b[0mprint/u001b[0m/u001b[1;33m(/u001b[0m/u001b[1;34m'predicted probabilities:'/u001b[0m/u001b[1;33m)/u001b[0m/u001b[1;33m/u001b[0m/u001b[1;33m/u001b[0m/u001b[0m/n/u001b[1;32m----> 3/u001b[1;33m     /u001b[0mprint/u001b[0m/u001b[1;33m(/u001b[0m/u001b[0mpredictions/u001b[0m/u001b[1;33m[/u001b[0m/u001b[0mindex/u001b[0m/u001b[1;33m]/u001b[0m/u001b[1;33m)/u001b[0m/u001b[1;33m/u001b[0m/u001b[1;33m/u001b[0m/u001b[0m/n/u001b[0m/u001b[0;32m      4/u001b[0m     /u001b[0mprint/u001b[0m/u001b[1;33m(/u001b[0m/u001b[1;34m'predicted category'/u001b[0m/u001b[1;33m,/u001b[0m /u001b[0mnp/u001b[0m/u001b[1;33m./u001b[0m/u001b[0margmax/u001b[0m/u001b[1;33m(/u001b[0m/u001b[0mpredictions/u001b[0m/u001b[1;33m[/u001b[0m/u001b[0mindex/u001b[0m/u001b[1;33m]/u001b[0m/u001b[1;33m)/u001b[0m/u001b[1;33m)/u001b[0m/u001b[1;33m/u001b[0m/u001b[1;33m/u001b[0m/u001b[0m/n/u001b[0;32m      5/u001b[0m     /u001b[0mprint/u001b[0m/u001b[1;33m(/u001b[0m/u001b[1;34m'true probabilities:'/u001b[0m/u001b[1;33m)/u001b[0m/u001b[1;33m/u001b[0m/u001b[1;33m/u001b[0m/u001b[0m/n",
      "/u001b[1;31mNameError/u001b[0m: name 'predictions' is not defined"
     ]
    }
   ],
   "source": [
    "plot_prediction(3)"
   ]
  },
  {
   "cell_type": "code",
   "execution_count": 93,
   "id": "41ff6cfc",
   "metadata": {},
   "outputs": [],
   "source": [
    "def plot_prediction(index):/n",
    "    print('predicted probabilities:')/n",
    "    print(predictions[index])/n",
    "    print('predicted category', np.argmax(predictions[index]))/n",
    "    print('true probabilities:')/n",
    "    print(y_test[index])/n",
    "    print('true category', np.argmax(y_test[index]))/n",
    "    img = x_test[index].reshape(8,8)/n",
    "    plt.imshow(img)"
   ]
  },
  {
   "cell_type": "markdown",
   "id": "0b4c7d15",
   "metadata": {},
   "source": [
    "# ACCURACY"
   ]
  },
  {
   "cell_type": "code",
   "execution_count": 28,
   "id": "d6f4b17b",
   "metadata": {},
   "outputs": [
    {
     "data": {
      "image/png": "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",
      "text/plain": [
       "<Figure size 432x288 with 1 Axes>"
      ]
     },
     "metadata": {
      "needs_background": "light"
     },
     "output_type": "display_data"
    }
   ],
   "source": [
    "plt.plot(Entrainement.history['accuracy'])/n",
    "plt.plot(Entrainement.history['val_accuracy'])/n",
    "plt.title('model accuracy')/n",
    "plt.ylabel('accuracy')/n",
    "plt.xlabel('epoch')/n",
    "plt.legend(['train', 'test'], loc=/"upper left/")/n",
    "plt.show()"
   ]
  },
  {
   "cell_type": "markdown",
   "id": "fb684947",
   "metadata": {},
   "source": [
    "# LOSS"
   ]
  },
  {
   "cell_type": "code",
   "execution_count": 29,
   "id": "f9388939",
   "metadata": {},
   "outputs": [
    {
     "data": {
      "image/png": "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",
      "text/plain": [
       "<Figure size 432x288 with 1 Axes>"
      ]
     },
     "metadata": {
      "needs_background": "light"
     },
     "output_type": "display_data"
    }
   ],
   "source": [
    "plt.plot(Entrainement.history['loss'])/n",
    "plt.plot(Entrainement.history['val_loss'])/n",
    "plt.title('model losss')/n",
    "plt.ylabel('loss')/n",
    "plt.xlabel('epoch')/n",
    "plt.legend(['train', 'test'], loc=/"upper left/")/n",
    "plt.show()"
   ]
  },
  {
   "cell_type": "code",
   "execution_count": 85,
   "id": "ed31adc8",
   "metadata": {},
   "outputs": [],
   "source": [
    "y_Entrainement_predict = model.predict(X_train)/n",
    "y_pred = [np.argmax(y_Entrainement_predict, axis=-1)]"
   ]
  },
  {
   "cell_type": "code",
   "execution_count": 86,
   "id": "bca16d6e",
   "metadata": {},
   "outputs": [
    {
     "data": {
      "text/plain": [
       "[array([2, 3, 6, ..., 1, 8, 0], dtype=int64)]"
      ]
     },
     "execution_count": 86,
     "metadata": {},
     "output_type": "execute_result"
    }
   ],
   "source": [
    "y_pred"
   ]
  },
  {
   "cell_type": "markdown",
   "id": "a614a0ee",
   "metadata": {},
   "source": [
    "# POUR LE DEPLOIEMENT"
   ]
  },
  {
   "cell_type": "code",
   "execution_count": 32,
   "id": "fb52d9ba",
   "metadata": {},
   "outputs": [],
   "source": [
    "tf.keras.models.save_model(model,'model_weight.h5')"
   ]
  },
  {
   "cell_type": "code",
   "execution_count": 33,
   "id": "0c64fef3",
   "metadata": {},
   "outputs": [
    {
     "name": "stdout",
     "output_type": "stream",
     "text": [
      "Requirement already satisfied: streamlit in c://users//simplon//anaconda3//lib//site-packages (1.1.0)/n",
      "Requirement already satisfied: python-dateutil in c://users//simplon//anaconda3//lib//site-packages (from streamlit) (2.8.1)/n",
      "Requirement already satisfied: tzlocal in c://users//simplon//anaconda3//lib//site-packages (from streamlit) (4.0.1)/n",
      "Requirement already satisfied: altair>=3.2.0 in c://users//simplon//anaconda3//lib//site-packages (from streamlit) (4.1.0)/n",
      "Requirement already satisfied: toml in c://users//simplon//anaconda3//lib//site-packages (from streamlit) (0.10.2)/n",
      "Requirement already satisfied: pydeck>=0.1.dev5 in c://users//simplon//anaconda3//lib//site-packages (from streamlit) (0.7.1)/n",
      "Requirement already satisfied: gitpython!=3.1.19 in c://users//simplon//anaconda3//lib//site-packages (from streamlit) (3.1.24)/n",
      "Requirement already satisfied: protobuf!=3.11,>=3.6.0 in c://users//simplon//anaconda3//lib//site-packages (from streamlit) (3.17.3)/n",
      "Requirement already satisfied: watchdog in c://users//simplon//anaconda3//lib//site-packages (from streamlit) (1.0.2)/n",
      "Requirement already satisfied: packaging in c://users//simplon//anaconda3//lib//site-packages (from streamlit) (20.9)/n",
      "Requirement already satisfied: validators in c://users//simplon//anaconda3//lib//site-packages (from streamlit) (0.18.2)/n",
      "Requirement already satisfied: pyarrow in c://users//simplon//anaconda3//lib//site-packages (from streamlit) (5.0.0)/n",
      "Requirement already satisfied: astor in c://users//simplon//anaconda3//lib//site-packages (from streamlit) (0.8.1)/n",
      "Requirement already satisfied: cachetools>=4.0 in c://users//simplon//anaconda3//lib//site-packages (from streamlit) (4.2.4)/n",
      "Requirement already satisfied: base58 in c://users//simplon//anaconda3//lib//site-packages (from streamlit) (2.1.0)/n",
      "Requirement already satisfied: pillow>=6.2.0 in c://users//simplon//anaconda3//lib//site-packages (from streamlit) (8.2.0)/n",
      "Requirement already satisfied: numpy in c://users//simplon//anaconda3//lib//site-packages (from streamlit) (1.19.5)/n",
      "Requirement already satisfied: click<8.0,>=7.0 in c://users//simplon//anaconda3//lib//site-packages (from streamlit) (7.1.2)/n",
      "Requirement already satisfied: pandas>=0.21.0 in c://users//simplon//anaconda3//lib//site-packages (from streamlit) (1.3.4)/n",
      "Requirement already satisfied: requests in c://users//simplon//anaconda3//lib//site-packages (from streamlit) (2.25.1)/n",
      "Requirement already satisfied: blinker in c://users//simplon//anaconda3//lib//site-packages (from streamlit) (1.4)/n",
      "Requirement already satisfied: attrs in c://users//simplon//anaconda3//lib//site-packages (from streamlit) (20.3.0)/n",
      "Requirement already satisfied: tornado>=5.0 in c://users//simplon//anaconda3//lib//site-packages (from streamlit) (6.1)/n",
      "Requirement already satisfied: jsonschema in c://users//simplon//anaconda3//lib//site-packages (from altair>=3.2.0->streamlit) (3.2.0)/n",
      "Requirement already satisfied: jinja2 in c://users//simplon//anaconda3//lib//site-packages (from altair>=3.2.0->streamlit) (2.11.3)/n",
      "Requirement already satisfied: entrypoints in c://users//simplon//anaconda3//lib//site-packages (from altair>=3.2.0->streamlit) (0.3)/n",
      "Requirement already satisfied: toolz in c://users//simplon//anaconda3//lib//site-packages (from altair>=3.2.0->streamlit) (0.11.1)/n",
      "Requirement already satisfied: typing-extensions>=3.7.4.3 in c://users//simplon//anaconda3//lib//site-packages (from gitpython!=3.1.19->streamlit) (3.7.4.3)/n",
      "Requirement already satisfied: gitdb<5,>=4.0.1 in c://users//simplon//anaconda3//lib//site-packages (from gitpython!=3.1.19->streamlit) (4.0.9)/n",
      "Requirement already satisfied: smmap<6,>=3.0.1 in c://users//simplon//anaconda3//lib//site-packages (from gitdb<5,>=4.0.1->gitpython!=3.1.19->streamlit) (5.0.0)/n",
      "Requirement already satisfied: pytz>=2017.3 in c://users//simplon//anaconda3//lib//site-packages (from pandas>=0.21.0->streamlit) (2021.1)/n",
      "Requirement already satisfied: six>=1.9 in c://users//simplon//anaconda3//lib//site-packages (from protobuf!=3.11,>=3.6.0->streamlit) (1.15.0)/n",
      "Requirement already satisfied: ipywidgets>=7.0.0 in c://users//simplon//anaconda3//lib//site-packages (from pydeck>=0.1.dev5->streamlit) (7.6.3)/n",
      "Requirement already satisfied: traitlets>=4.3.2 in c://users//simplon//anaconda3//lib//site-packages (from pydeck>=0.1.dev5->streamlit) (5.0.5)/n",
      "Requirement already satisfied: ipykernel>=5.1.2 in c://users//simplon//anaconda3//lib//site-packages (from pydeck>=0.1.dev5->streamlit) (5.3.4)/n",
      "Requirement already satisfied: jupyter-client in c://users//simplon//anaconda3//lib//site-packages (from ipykernel>=5.1.2->pydeck>=0.1.dev5->streamlit) (6.1.12)/n",
      "Requirement already satisfied: ipython>=5.0.0 in c://users//simplon//anaconda3//lib//site-packages (from ipykernel>=5.1.2->pydeck>=0.1.dev5->streamlit) (7.22.0)/n",
      "Requirement already satisfied: prompt-toolkit!=3.0.0,!=3.0.1,<3.1.0,>=2.0.0 in c://users//simplon//anaconda3//lib//site-packages (from ipython>=5.0.0->ipykernel>=5.1.2->pydeck>=0.1.dev5->streamlit) (3.0.17)/n",
      "Requirement already satisfied: decorator in c://users//simplon//anaconda3//lib//site-packages (from ipython>=5.0.0->ipykernel>=5.1.2->pydeck>=0.1.dev5->streamlit) (5.0.6)/n",
      "Requirement already satisfied: pygments in c://users//simplon//anaconda3//lib//site-packages (from ipython>=5.0.0->ipykernel>=5.1.2->pydeck>=0.1.dev5->streamlit) (2.8.1)/n",
      "Requirement already satisfied: colorama in c://users//simplon//anaconda3//lib//site-packages (from ipython>=5.0.0->ipykernel>=5.1.2->pydeck>=0.1.dev5->streamlit) (0.4.4)/n",
      "Requirement already satisfied: pickleshare in c://users//simplon//anaconda3//lib//site-packages (from ipython>=5.0.0->ipykernel>=5.1.2->pydeck>=0.1.dev5->streamlit) (0.7.5)/n",
      "Requirement already satisfied: jedi>=0.16 in c://users//simplon//anaconda3//lib//site-packages (from ipython>=5.0.0->ipykernel>=5.1.2->pydeck>=0.1.dev5->streamlit) (0.17.2)/n",
      "Requirement already satisfied: setuptools>=18.5 in c://users//simplon//anaconda3//lib//site-packages (from ipython>=5.0.0->ipykernel>=5.1.2->pydeck>=0.1.dev5->streamlit) (52.0.0.post20210125)/n",
      "Requirement already satisfied: backcall in c://users//simplon//anaconda3//lib//site-packages (from ipython>=5.0.0->ipykernel>=5.1.2->pydeck>=0.1.dev5->streamlit) (0.2.0)/n",
      "Requirement already satisfied: jupyterlab-widgets>=1.0.0 in c://users//simplon//anaconda3//lib//site-packages (from ipywidgets>=7.0.0->pydeck>=0.1.dev5->streamlit) (1.0.0)/n",
      "Requirement already satisfied: widgetsnbextension~=3.5.0 in c://users//simplon//anaconda3//lib//site-packages (from ipywidgets>=7.0.0->pydeck>=0.1.dev5->streamlit) (3.5.1)/n",
      "Requirement already satisfied: nbformat>=4.2.0 in c://users//simplon//anaconda3//lib//site-packages (from ipywidgets>=7.0.0->pydeck>=0.1.dev5->streamlit) (5.1.3)/n",
      "Requirement already satisfied: parso<0.8.0,>=0.7.0 in c://users//simplon//anaconda3//lib//site-packages (from jedi>=0.16->ipython>=5.0.0->ipykernel>=5.1.2->pydeck>=0.1.dev5->streamlit) (0.7.0)/n",
      "Requirement already satisfied: MarkupSafe>=0.23 in c://users//simplon//anaconda3//lib//site-packages (from jinja2->altair>=3.2.0->streamlit) (1.1.1)/n",
      "Requirement already satisfied: jupyter-core in c://users//simplon//anaconda3//lib//site-packages (from nbformat>=4.2.0->ipywidgets>=7.0.0->pydeck>=0.1.dev5->streamlit) (4.7.1)/n",
      "Requirement already satisfied: ipython-genutils in c://users//simplon//anaconda3//lib//site-packages (from nbformat>=4.2.0->ipywidgets>=7.0.0->pydeck>=0.1.dev5->streamlit) (0.2.0)/n",
      "Requirement already satisfied: pyrsistent>=0.14.0 in c://users//simplon//anaconda3//lib//site-packages (from jsonschema->altair>=3.2.0->streamlit) (0.17.3)/n",
      "Requirement already satisfied: wcwidth in c://users//simplon//anaconda3//lib//site-packages (from prompt-toolkit!=3.0.0,!=3.0.1,<3.1.0,>=2.0.0->ipython>=5.0.0->ipykernel>=5.1.2->pydeck>=0.1.dev5->streamlit) (0.2.5)/n",
      "Requirement already satisfied: notebook>=4.4.1 in c://users//simplon//anaconda3//lib//site-packages (from widgetsnbextension~=3.5.0->ipywidgets>=7.0.0->pydeck>=0.1.dev5->streamlit) (6.3.0)/n",
      "Requirement already satisfied: argon2-cffi in c://users//simplon//anaconda3//lib//site-packages (from notebook>=4.4.1->widgetsnbextension~=3.5.0->ipywidgets>=7.0.0->pydeck>=0.1.dev5->streamlit) (20.1.0)/n",
      "Requirement already satisfied: pyzmq>=17 in c://users//simplon//anaconda3//lib//site-packages (from notebook>=4.4.1->widgetsnbextension~=3.5.0->ipywidgets>=7.0.0->pydeck>=0.1.dev5->streamlit) (20.0.0)/n",
      "Requirement already satisfied: terminado>=0.8.3 in c://users//simplon//anaconda3//lib//site-packages (from notebook>=4.4.1->widgetsnbextension~=3.5.0->ipywidgets>=7.0.0->pydeck>=0.1.dev5->streamlit) (0.9.4)/n",
      "Requirement already satisfied: prometheus-client in c://users//simplon//anaconda3//lib//site-packages (from notebook>=4.4.1->widgetsnbextension~=3.5.0->ipywidgets>=7.0.0->pydeck>=0.1.dev5->streamlit) (0.10.1)/n",
      "Requirement already satisfied: Send2Trash>=1.5.0 in c://users//simplon//anaconda3//lib//site-packages (from notebook>=4.4.1->widgetsnbextension~=3.5.0->ipywidgets>=7.0.0->pydeck>=0.1.dev5->streamlit) (1.5.0)/n",
      "Requirement already satisfied: nbconvert in c://users//simplon//anaconda3//lib//site-packages (from notebook>=4.4.1->widgetsnbextension~=3.5.0->ipywidgets>=7.0.0->pydeck>=0.1.dev5->streamlit) (6.0.7)/n",
      "Requirement already satisfied: pywin32>=1.0 in c://users//simplon//anaconda3//lib//site-packages (from jupyter-core->nbformat>=4.2.0->ipywidgets>=7.0.0->pydeck>=0.1.dev5->streamlit) (227)/n",
      "Requirement already satisfied: pywinpty>=0.5 in c://users//simplon//anaconda3//lib//site-packages (from terminado>=0.8.3->notebook>=4.4.1->widgetsnbextension~=3.5.0->ipywidgets>=7.0.0->pydeck>=0.1.dev5->streamlit) (0.5.7)/n",
      "Requirement already satisfied: cffi>=1.0.0 in c://users//simplon//anaconda3//lib//site-packages (from argon2-cffi->notebook>=4.4.1->widgetsnbextension~=3.5.0->ipywidgets>=7.0.0->pydeck>=0.1.dev5->streamlit) (1.14.5)/n",
      "Requirement already satisfied: pycparser in c://users//simplon//anaconda3//lib//site-packages (from cffi>=1.0.0->argon2-cffi->notebook>=4.4.1->widgetsnbextension~=3.5.0->ipywidgets>=7.0.0->pydeck>=0.1.dev5->streamlit) (2.20)/n",
      "Requirement already satisfied: mistune<2,>=0.8.1 in c://users//simplon//anaconda3//lib//site-packages (from nbconvert->notebook>=4.4.1->widgetsnbextension~=3.5.0->ipywidgets>=7.0.0->pydeck>=0.1.dev5->streamlit) (0.8.4)/n",
      "Requirement already satisfied: nbclient<0.6.0,>=0.5.0 in c://users//simplon//anaconda3//lib//site-packages (from nbconvert->notebook>=4.4.1->widgetsnbextension~=3.5.0->ipywidgets>=7.0.0->pydeck>=0.1.dev5->streamlit) (0.5.3)/n",
      "Requirement already satisfied: pandocfilters>=1.4.1 in c://users//simplon//anaconda3//lib//site-packages (from nbconvert->notebook>=4.4.1->widgetsnbextension~=3.5.0->ipywidgets>=7.0.0->pydeck>=0.1.dev5->streamlit) (1.4.3)/n",
      "Requirement already satisfied: defusedxml in c://users//simplon//anaconda3//lib//site-packages (from nbconvert->notebook>=4.4.1->widgetsnbextension~=3.5.0->ipywidgets>=7.0.0->pydeck>=0.1.dev5->streamlit) (0.7.1)/n",
      "Requirement already satisfied: testpath in c://users//simplon//anaconda3//lib//site-packages (from nbconvert->notebook>=4.4.1->widgetsnbextension~=3.5.0->ipywidgets>=7.0.0->pydeck>=0.1.dev5->streamlit) (0.4.4)/n",
      "Requirement already satisfied: bleach in c://users//simplon//anaconda3//lib//site-packages (from nbconvert->notebook>=4.4.1->widgetsnbextension~=3.5.0->ipywidgets>=7.0.0->pydeck>=0.1.dev5->streamlit) (3.3.0)/n",
      "Requirement already satisfied: jupyterlab-pygments in c://users//simplon//anaconda3//lib//site-packages (from nbconvert->notebook>=4.4.1->widgetsnbextension~=3.5.0->ipywidgets>=7.0.0->pydeck>=0.1.dev5->streamlit) (0.1.2)/n",
      "Requirement already satisfied: async-generator in c://users//simplon//anaconda3//lib//site-packages (from nbclient<0.6.0,>=0.5.0->nbconvert->notebook>=4.4.1->widgetsnbextension~=3.5.0->ipywidgets>=7.0.0->pydeck>=0.1.dev5->streamlit) (1.10)/n",
      "Requirement already satisfied: nest-asyncio in c://users//simplon//anaconda3//lib//site-packages (from nbclient<0.6.0,>=0.5.0->nbconvert->notebook>=4.4.1->widgetsnbextension~=3.5.0->ipywidgets>=7.0.0->pydeck>=0.1.dev5->streamlit) (1.5.1)/n",
      "Requirement already satisfied: webencodings in c://users//simplon//anaconda3//lib//site-packages (from bleach->nbconvert->notebook>=4.4.1->widgetsnbextension~=3.5.0->ipywidgets>=7.0.0->pydeck>=0.1.dev5->streamlit) (0.5.1)/n",
      "Requirement already satisfied: pyparsing>=2.0.2 in c://users//simplon//anaconda3//lib//site-packages (from packaging->streamlit) (2.4.7)/n",
      "Requirement already satisfied: urllib3<1.27,>=1.21.1 in c://users//simplon//anaconda3//lib//site-packages (from requests->streamlit) (1.26.4)/n",
      "Requirement already satisfied: certifi>=2017.4.17 in c://users//simplon//anaconda3//lib//site-packages (from requests->streamlit) (2020.12.5)/n",
      "Requirement already satisfied: chardet<5,>=3.0.2 in c://users//simplon//anaconda3//lib//site-packages (from requests->streamlit) (4.0.0)/n",
      "Requirement already satisfied: idna<3,>=2.5 in c://users//simplon//anaconda3//lib//site-packages (from requests->streamlit) (2.10)/n",
      "Requirement already satisfied: tzdata in c://users//simplon//anaconda3//lib//site-packages (from tzlocal->streamlit) (2021.5)/n",
      "Requirement already satisfied: backports.zoneinfo in c://users//simplon//anaconda3//lib//site-packages (from tzlocal->streamlit) (0.2.1)/n",
      "Requirement already satisfied: pytz-deprecation-shim in c://users//simplon//anaconda3//lib//site-packages (from tzlocal->streamlit) (0.1.0.post0)/n"
     ]
    }
   ],
   "source": [
    "!pip install streamlit"
   ]
  },
  {
   "cell_type": "code",
   "execution_count": 34,
   "id": "89fbcdca",
   "metadata": {},
   "outputs": [],
   "source": [
    "# %%writefile app.py/n",
    "# import streamlit as st/n",
    "/n",
    "/n",
    "# st.set_option('depreciation.showileUploaderEncoding', False)/n",
    "# @st.cache(allow_output_mutation=True)/n",
    "# def load_model():/n",
    "#     model=tf.keras.models.load_model('/content/my_model.h5')/n",
    "#     return model/n",
    "# model=load_model()/n",
    "# st.write(/"/"/"/n",
    "#         # Number Classification/n",
    "#          /"/"/")/n",
    "/n",
    "# file = st.file_uploader(/"Please upload an number image/", type=[/"jpg/", /"png/"])/n",
    "/n",
    "# import cv2/n",
    "# from PIL import Image, ImageOps/n",
    "# from numpy as np/n",
    "# def import_and_predict(image_data, model):/n",
    "    /n",
    "#     size = (180,180)/n",
    "#     image = ImageOps.fit(image_data, size, Image.ANTIALIAS)/n",
    "#     img = np.asarray(image)/n",
    "#     img_reshape = img[np.newaxis,...]/n",
    "#     predciction = model.predict(img_reshape)/n",
    "    /n",
    "#     return prediction/n",
    "# if file is None:/n",
    "#     st.text(/"Please upload an image file/")/n",
    "# else:/n",
    "#     image = Image.open(file)/n",
    "#     st.image(image, use_column_width=True)/n",
    "#     predictions = import_and_predict(image, model)/n",
    "#     class_names=['0', '1', '2', '3', '4', '5', '6', '7', '8', '9']/n",
    "#     string=/"This image most likely is: /"+class_names[np.argmax(predictions)]/n",
    "#     st.success(string)"
   ]
  },
  {
   "cell_type": "code",
   "execution_count": 35,
   "id": "b6ab66e0",
   "metadata": {},
   "outputs": [
    {
     "name": "stdout",
     "output_type": "stream",
     "text": [
      "Requirement already satisfied: opencv-python in c://users//simplon//anaconda3//lib//site-packages (4.5.4.60)/n",
      "Requirement already satisfied: numpy>=1.17.3 in c://users//simplon//anaconda3//lib//site-packages (from opencv-python) (1.19.5)/n",
      "Note: you may need to restart the kernel to use updated packages./n"
     ]
    }
   ],
   "source": [
    "pip install opencv-python"
   ]
  },
  {
   "cell_type": "code",
   "execution_count": null,
   "id": "b2e2ffd0",
   "metadata": {},
   "outputs": [],
   "source": []
  },
  {
   "cell_type": "code",
   "execution_count": 36,
   "id": "50ce5cb1",
   "metadata": {},
   "outputs": [],
   "source": [
    "# model.save('BC.h5')"
   ]
  },
  {
   "cell_type": "code",
   "execution_count": 37,
   "id": "1c580123",
   "metadata": {},
   "outputs": [],
   "source": [
    "# from keras.models import load_model/n",
    "# from keras.preprocessing.image import load_img,img_to_array/n",
    "/n",
    "# model1 = load_model('./BC.h5',compile=False)"
   ]
  },
  {
   "cell_type": "code",
   "execution_count": 38,
   "id": "b81e4b54",
   "metadata": {},
   "outputs": [],
   "source": [
    "# lab = training_set.class_indices/n",
    "# lab={k:v for v,k in lab.items()}"
   ]
  },
  {
   "cell_type": "code",
   "execution_count": 39,
   "id": "2c2190b9",
   "metadata": {},
   "outputs": [],
   "source": [
    "# def output(location):/n",
    "#     img=load_img(location,target_size=(224,224,3))/n",
    "#     img=img_to_array(img)/n",
    "#     img=img/255/n",
    "#     img=np.expand_dims(img,[0])/n",
    "#     answer=model1.predict(img)/n",
    "#     y_class = answer.argmax(axis=-1)/n",
    "#     y = /" /".join(str(x) for x in y_class)/n",
    "#     y = int(y)/n",
    "#     res = lab[y]/n",
    "#     return res"
   ]
  },
  {
   "cell_type": "code",
   "execution_count": null,
   "id": "39e78c11",
   "metadata": {},
   "outputs": [],
   "source": []
  },
  {
   "cell_type": "code",
   "execution_count": null,
   "id": "0f26004d",
   "metadata": {},
   "outputs": [],
   "source": []
  },
  {
   "cell_type": "code",
   "execution_count": null,
   "id": "fd3668bc",
   "metadata": {},
   "outputs": [],
   "source": []
  },
  {
   "cell_type": "code",
   "execution_count": null,
   "id": "f494c6da",
   "metadata": {},
   "outputs": [],
   "source": []
  },
  {
   "cell_type": "code",
   "execution_count": 40,
   "id": "5eabea18",
   "metadata": {},
   "outputs": [],
   "source": [
    "# print(len(X_train)), /n",
    "# print(len(X_test)), /n",
    "# print(len(y_train)), /n",
    "# print(len(y_test))"
   ]
  },
  {
   "cell_type": "code",
   "execution_count": 41,
   "id": "f2a30b18",
   "metadata": {},
   "outputs": [],
   "source": [
    "# (X_train, y_train), (X_train, y_train)"
   ]
  },
  {
   "cell_type": "code",
   "execution_count": 42,
   "id": "ea992f4b",
   "metadata": {},
   "outputs": [],
   "source": [
    "# X_train.shape, y_train.shape/n"
   ]
  },
  {
   "cell_type": "code",
   "execution_count": 43,
   "id": "86caeb26",
   "metadata": {},
   "outputs": [],
   "source": [
    "# X_train = X_train.reshape(-1, 28, 28, 1)"
   ]
  },
  {
   "cell_type": "code",
   "execution_count": 44,
   "id": "6d4ebc06",
   "metadata": {},
   "outputs": [],
   "source": [
    "# X_train_flattened = X_train.reshape(len(X_train), 28*28)/n",
    "# X_train_flattened.shape"
   ]
  },
  {
   "cell_type": "code",
   "execution_count": 45,
   "id": "16609727",
   "metadata": {},
   "outputs": [],
   "source": [
    "# data.reshape(3,1)"
   ]
  },
  {
   "cell_type": "code",
   "execution_count": 46,
   "id": "21248fc1",
   "metadata": {},
   "outputs": [],
   "source": [
    "# def shift_image(image, dx, dy):/n",
    "#     image = image.reshape((28, 28))/n",
    "#     shifted_image = shift(image, [dy, dx], cval=0, mode=/"constant/")/n",
    "#     return shifted_image.reshape([-1])"
   ]
  },
  {
   "cell_type": "code",
   "execution_count": 47,
   "id": "412b259f",
   "metadata": {},
   "outputs": [],
   "source": [
    "# X_train_augmented = [image for image in X_train]/n",
    "# y_train_augmented = [image for image in y_train]/n",
    "/n",
    "# for dx, dy in ((1,0), (-1,0), (0,1), (0,-1)):/n",
    "#      for image, label in zip(X_train, y_train):/n",
    "#              X_train_augmented.append(shift_image(image, dx, dy))/n",
    "#              y_train_augmented.append(label)"
   ]
  },
  {
   "cell_type": "code",
   "execution_count": 48,
   "id": "2b20b34b",
   "metadata": {},
   "outputs": [],
   "source": [
    "# X.reshape([-1, 28,28, 1])"
   ]
  },
  {
   "cell_type": "code",
   "execution_count": null,
   "id": "bd0b2639",
   "metadata": {},
   "outputs": [],
   "source": []
  },
  {
   "cell_type": "code",
   "execution_count": 49,
   "id": "1687b314",
   "metadata": {},
   "outputs": [],
   "source": [
    "# dataX.head()"
   ]
  },
  {
   "cell_type": "code",
   "execution_count": 50,
   "id": "e4ab5e5b",
   "metadata": {},
   "outputs": [],
   "source": [
    "# datay.head()"
   ]
  },
  {
   "cell_type": "markdown",
   "id": "de9dc97d",
   "metadata": {},
   "source": [
    "# DIMENSION"
   ]
  },
  {
   "cell_type": "code",
   "execution_count": 51,
   "id": "226858b3",
   "metadata": {},
   "outputs": [],
   "source": [
    "# add 3d dimension for image plot/n",
    "# X = np.expand_dims(X, axis=+2)"
   ]
  },
  {
   "cell_type": "code",
   "execution_count": 52,
   "id": "ecebed8f",
   "metadata": {},
   "outputs": [],
   "source": [
    "# add 3d dimension for image plot/n",
    "# data_norm = np.expand_dims(dataX, axis=+2)"
   ]
  },
  {
   "cell_type": "code",
   "execution_count": 53,
   "id": "2ec10dae",
   "metadata": {},
   "outputs": [],
   "source": [
    "# plot instances frequency per digit/n",
    "# sns.countplot(dataX=X, x=target)/n",
    "/n",
    "# plt.xlabel(/"digits/",fontsize=16)/n",
    "# plt.ylabel(/"frequency/",fontsize=16)/n",
    "# plt.title(/"Frequency Graph/",fontsize=20)/n",
    "# plt.show()"
   ]
  },
  {
   "cell_type": "code",
   "execution_count": 54,
   "id": "0827545f",
   "metadata": {
    "scrolled": true
   },
   "outputs": [],
   "source": [
    "rows = 5 # defining no. of rows/n",
    "cols = 6 # defining no. of columns/n",
    "/n",
    "# f = plt.figure(figsize=(2*cols, 2*rows)) # defining a figure/n",
    "/n",
    "# for i in range(rows*cols):/n",
    "#     f.add_subplot(rows, cols, i+1) # adding sub plot to figure on each iteration/n",
    "#     plt.imshow(data_norm[i].reshape([28,28]), cmap=/"Blues/")/n",
    "#     plt.axis(/"off/")/n",
    "#     plt.title(str(target[i]), y=-0.15, color=/"green/")"
   ]
  },
  {
   "cell_type": "code",
   "execution_count": 55,
   "id": "87b527e6",
   "metadata": {},
   "outputs": [],
   "source": [
    "# def viz_num(num):/n",
    "#     #Reshape the 768 values to a 28x28 image/n",
    "#     image = dataX.values[num].reshape([28,28])/n",
    "#     plt.title('Sample: %d  Label: %d' % (num, y[num]))/n",
    "#     plt.imshow(image, cmap=plt.get_cmap('gray'))/n",
    "#     plt.show()"
   ]
  },
  {
   "cell_type": "code",
   "execution_count": 56,
   "id": "45f4b7be",
   "metadata": {},
   "outputs": [],
   "source": [
    "# imprime des infos sur le datafrme comme le type d'index, les colonnes, les valeurs non-null et la mémoire/n",
    "# data.info()"
   ]
  },
  {
   "cell_type": "code",
   "execution_count": 57,
   "id": "3b5276f3",
   "metadata": {},
   "outputs": [],
   "source": [
    "# traitement des Valeur manquante, il y a 176 valeur manquante /n",
    "# data.isnull().sum()"
   ]
  },
  {
   "cell_type": "code",
   "execution_count": 58,
   "id": "b0b63dfa",
   "metadata": {},
   "outputs": [],
   "source": [
    "# nous compte le type de valeur (float, object)/n",
    "# data.dtypes.value_counts()"
   ]
  },
  {
   "cell_type": "code",
   "execution_count": 59,
   "id": "8648b5dd",
   "metadata": {},
   "outputs": [],
   "source": [
    "# dataX = np.array([0, 1, 2, 3, 4, 5, 6, 7, 8, 9])"
   ]
  },
  {
   "cell_type": "code",
   "execution_count": 60,
   "id": "59a448be",
   "metadata": {},
   "outputs": [],
   "source": [
    "# dataX[1:7:2]"
   ]
  },
  {
   "cell_type": "code",
   "execution_count": 61,
   "id": "f1d6c063",
   "metadata": {},
   "outputs": [],
   "source": [
    "# (X_train, y_train), (X_train, y_train)"
   ]
  },
  {
   "cell_type": "code",
   "execution_count": 62,
   "id": "5b3342ae",
   "metadata": {},
   "outputs": [],
   "source": [
    "# X_train = tf.keras.utils.normalize(X_train, axis=1)"
   ]
  },
  {
   "cell_type": "code",
   "execution_count": 63,
   "id": "04562144",
   "metadata": {},
   "outputs": [],
   "source": [
    "# data.reshape(3,1)"
   ]
  },
  {
   "cell_type": "code",
   "execution_count": 64,
   "id": "6a034cec",
   "metadata": {},
   "outputs": [],
   "source": [
    "# x_train = x_train.reshape(-1, 28, 28, 1)/n"
   ]
  },
  {
   "cell_type": "code",
   "execution_count": 65,
   "id": "05fd4618",
   "metadata": {},
   "outputs": [],
   "source": [
    "# pick a sample to plot/n",
    "# sample = 1/n",
    "# image = x_train[sample]# plot the sample/n",
    "# fig = plt.figure/n",
    "# plt.imshow(image, cmap='gray')/n",
    "# plt.show()"
   ]
  },
  {
   "cell_type": "code",
   "execution_count": null,
   "id": "7d245bcb",
   "metadata": {},
   "outputs": [],
   "source": []
  },
  {
   "cell_type": "code",
   "execution_count": null,
   "id": "7a20979d",
   "metadata": {},
   "outputs": [],
   "source": []
  },
  {
   "cell_type": "markdown",
   "id": "ab15e5df",
   "metadata": {},
   "source": [
    "# Flatten the image"
   ]
  },
  {
   "cell_type": "code",
   "execution_count": 66,
   "id": "dd8babb4",
   "metadata": {},
   "outputs": [],
   "source": [
    "# # Create the model/n",
    "# model = tf.keras.models.sequential()/n",
    "# model.add(tf.keras.layers.Flatten(input_shape=[28,28]))/n",
    "/n",
    "# print(/"shape of the image/", images[0:1].shape)/n",
    "# model_output = model.predict(images[0:1])/n",
    "# print(/"shape of the image after the flatten/", model_output.shape)"
   ]
  },
  {
   "cell_type": "code",
   "execution_count": null,
   "id": "0fd49ca4",
   "metadata": {},
   "outputs": [],
   "source": []
  },
  {
   "cell_type": "code",
   "execution_count": null,
   "id": "7e7e83ef",
   "metadata": {},
   "outputs": [],
   "source": []
  },
  {
   "cell_type": "code",
   "execution_count": 67,
   "id": "b3d607a0",
   "metadata": {},
   "outputs": [],
   "source": [
    "# pick a sample to plot/n",
    "# sample = 1/n",
    "# image = x_train[sample]# plot the sample/n",
    "# fig = plt.figure/n",
    "# plt.imshow(image, cmap='gray')/n",
    "# plt.show()"
   ]
  },
  {
   "cell_type": "markdown",
   "id": "cd5edffe",
   "metadata": {},
   "source": [
    "# Add the layers"
   ]
  },
  {
   "cell_type": "code",
   "execution_count": 68,
   "id": "38612263",
   "metadata": {},
   "outputs": [],
   "source": [
    "# Flatten"
   ]
  },
  {
   "cell_type": "code",
   "execution_count": 69,
   "id": "4464477e",
   "metadata": {},
   "outputs": [],
   "source": [
    "# model = tf.keras.models.Sequ[28,28ential()/n",
    "# model.add(tf.keras.layers.Flatten(input_shape=[28,28]))/n",
    "                                               /n",
    "# # Add the layers/n",
    "# model.add(tf.keras.layers.Dense(256, activation=/"relu/"))/n",
    "# model.add(tf.keras.layers.Dense(128, activation=/"relu/"))/n",
    "# model.add(tf.keras.layers.Dense(10, activation=/"softmax/"))/n",
    "/n",
    "# model_output = model.predict(images[0:1])/n",
    "# print(model_output, targets[0:1])"
   ]
  },
  {
   "cell_type": "markdown",
   "id": "493c4750",
   "metadata": {},
   "source": [
    "# Train the Model"
   ]
  },
  {
   "cell_type": "code",
   "execution_count": 70,
   "id": "2f48fd22",
   "metadata": {},
   "outputs": [],
   "source": [
    "# history = model.fit(images, targets, epochs=10)"
   ]
  }
 ],
 "metadata": {
  "kernelspec": {
   "display_name": "Python 3",
   "language": "python",
   "name": "python3"
  },
  "language_info": {
   "codemirror_mode": {
    "name": "ipython",
    "version": 3
   },
   "file_extension": ".py",
   "mimetype": "text/x-python",
   "name": "python",
   "nbconvert_exporter": "python",
   "pygments_lexer": "ipython3",
   "version": "3.8.8"
  }
 },
 "nbformat": 4,
 "nbformat_minor": 5
}
