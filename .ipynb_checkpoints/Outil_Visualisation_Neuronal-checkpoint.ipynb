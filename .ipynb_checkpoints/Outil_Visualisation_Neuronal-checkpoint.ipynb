{
 "cells": [
  {
   "cell_type": "code",
   "execution_count": 2,
   "id": "a57f8693",
   "metadata": {},
   "outputs": [
    {
     "name": "stdout",
     "output_type": "stream",
     "text": [
      "Collecting keras/n",
      "  Downloading keras-2.7.0-py2.py3-none-any.whl (1.3 MB)/n",
      "Installing collected packages: keras/n",
      "Successfully installed keras-2.7.0/n",
      "Note: you may need to restart the kernel to use updated packages./n"
     ]
    }
   ],
   "source": [
    "pip install keras"
   ]
  },
  {
   "cell_type": "code",
   "execution_count": 4,
   "id": "d31e600c",
   "metadata": {},
   "outputs": [
    {
     "name": "stdout",
     "output_type": "stream",
     "text": [
      "Collecting tensorflow/n",
      "  Downloading tensorflow-2.7.0-cp38-cp38-win_amd64.whl (430.8 MB)/n",
      "Requirement already satisfied: typing-extensions>=3.6.6 in c://users//simplon//anaconda3//lib//site-packages (from tensorflow) (3.7.4.3)/n",
      "Requirement already satisfied: six>=1.12.0 in c://users//simplon//anaconda3//lib//site-packages (from tensorflow) (1.15.0)/n",
      "Requirement already satisfied: protobuf>=3.9.2 in c://users//simplon//anaconda3//lib//site-packages (from tensorflow) (3.17.3)/n",
      "Collecting gast<0.5.0,>=0.2.1/n",
      "  Downloading gast-0.4.0-py3-none-any.whl (9.8 kB)/n",
      "Collecting grpcio<2.0,>=1.24.3/n",
      "  Downloading grpcio-1.42.0-cp38-cp38-win_amd64.whl (3.3 MB)/n",
      "Collecting astunparse>=1.6.0/n",
      "  Downloading astunparse-1.6.3-py2.py3-none-any.whl (12 kB)/n",
      "Requirement already satisfied: h5py>=2.9.0 in c://users//simplon//anaconda3//lib//site-packages (from tensorflow) (2.10.0)/n",
      "Collecting flatbuffers<3.0,>=1.12/n",
      "  Downloading flatbuffers-2.0-py2.py3-none-any.whl (26 kB)/n",
      "Collecting keras-preprocessing>=1.1.1/n",
      "  Downloading Keras_Preprocessing-1.1.2-py2.py3-none-any.whl (42 kB)/n",
      "Requirement already satisfied: wrapt>=1.11.0 in c://users//simplon//anaconda3//lib//site-packages (from tensorflow) (1.12.1)/n",
      "Collecting absl-py>=0.4.0/n",
      "  Downloading absl_py-1.0.0-py3-none-any.whl (126 kB)/n",
      "Collecting google-pasta>=0.1.1/n",
      "  Downloading google_pasta-0.2.0-py3-none-any.whl (57 kB)/n",
      "Collecting opt-einsum>=2.3.2/n",
      "  Downloading opt_einsum-3.3.0-py3-none-any.whl (65 kB)/n",
      "Collecting termcolor>=1.1.0/n",
      "  Downloading termcolor-1.1.0.tar.gz (3.9 kB)/n",
      "Requirement already satisfied: keras<2.8,>=2.7.0rc0 in c://users//simplon//anaconda3//lib//site-packages (from tensorflow) (2.7.0)/n",
      "Requirement already satisfied: numpy>=1.14.5 in c://users//simplon//anaconda3//lib//site-packages (from tensorflow) (1.19.5)/n",
      "Collecting tensorboard~=2.6/n",
      "  Downloading tensorboard-2.7.0-py3-none-any.whl (5.8 MB)/n",
      "Collecting libclang>=9.0.1/n",
      "  Downloading libclang-12.0.0-py2.py3-none-win_amd64.whl (13.1 MB)/n",
      "Requirement already satisfied: wheel<1.0,>=0.32.0 in c://users//simplon//anaconda3//lib//site-packages (from tensorflow) (0.36.2)/n",
      "Collecting tensorflow-io-gcs-filesystem>=0.21.0/n",
      "  Downloading tensorflow_io_gcs_filesystem-0.22.0-cp38-cp38-win_amd64.whl (1.5 MB)/n",
      "Collecting tensorflow-estimator<2.8,~=2.7.0rc0/n",
      "  Downloading tensorflow_estimator-2.7.0-py2.py3-none-any.whl (463 kB)/n",
      "Collecting tensorboard-plugin-wit>=1.6.0/n",
      "  Downloading tensorboard_plugin_wit-1.8.0-py3-none-any.whl (781 kB)/n",
      "Requirement already satisfied: setuptools>=41.0.0 in c://users//simplon//anaconda3//lib//site-packages (from tensorboard~=2.6->tensorflow) (52.0.0.post20210125)/n",
      "Collecting tensorboard-data-server<0.7.0,>=0.6.0/n",
      "  Downloading tensorboard_data_server-0.6.1-py3-none-any.whl (2.4 kB)/n",
      "Requirement already satisfied: requests<3,>=2.21.0 in c://users//simplon//anaconda3//lib//site-packages (from tensorboard~=2.6->tensorflow) (2.25.1)/n",
      "Collecting markdown>=2.6.8/n",
      "  Downloading Markdown-3.3.6-py3-none-any.whl (97 kB)/n",
      "Requirement already satisfied: werkzeug>=0.11.15 in c://users//simplon//anaconda3//lib//site-packages (from tensorboard~=2.6->tensorflow) (1.0.1)/n",
      "Collecting google-auth<3,>=1.6.3/n",
      "  Downloading google_auth-2.3.3-py2.py3-none-any.whl (155 kB)/n",
      "Collecting google-auth-oauthlib<0.5,>=0.4.1/n",
      "  Downloading google_auth_oauthlib-0.4.6-py2.py3-none-any.whl (18 kB)/n",
      "Requirement already satisfied: cachetools<5.0,>=2.0.0 in c://users//simplon//anaconda3//lib//site-packages (from google-auth<3,>=1.6.3->tensorboard~=2.6->tensorflow) (4.2.4)/n",
      "Collecting pyasn1-modules>=0.2.1/n",
      "  Downloading pyasn1_modules-0.2.8-py2.py3-none-any.whl (155 kB)/n",
      "Collecting rsa<5,>=3.1.4/n",
      "  Downloading rsa-4.8-py3-none-any.whl (39 kB)/n",
      "Collecting requests-oauthlib>=0.7.0/n",
      "  Using cached requests_oauthlib-1.3.0-py2.py3-none-any.whl (23 kB)/n",
      "Collecting importlib-metadata>=4.4/n",
      "  Downloading importlib_metadata-4.8.2-py3-none-any.whl (17 kB)/n",
      "Requirement already satisfied: zipp>=0.5 in c://users//simplon//anaconda3//lib//site-packages (from importlib-metadata>=4.4->markdown>=2.6.8->tensorboard~=2.6->tensorflow) (3.4.1)/n",
      "Collecting pyasn1<0.5.0,>=0.4.6/n",
      "  Downloading pyasn1-0.4.8-py2.py3-none-any.whl (77 kB)/n",
      "Requirement already satisfied: idna<3,>=2.5 in c://users//simplon//anaconda3//lib//site-packages (from requests<3,>=2.21.0->tensorboard~=2.6->tensorflow) (2.10)/n",
      "Requirement already satisfied: certifi>=2017.4.17 in c://users//simplon//anaconda3//lib//site-packages (from requests<3,>=2.21.0->tensorboard~=2.6->tensorflow) (2020.12.5)/n",
      "Requirement already satisfied: urllib3<1.27,>=1.21.1 in c://users//simplon//anaconda3//lib//site-packages (from requests<3,>=2.21.0->tensorboard~=2.6->tensorflow) (1.26.4)/n",
      "Requirement already satisfied: chardet<5,>=3.0.2 in c://users//simplon//anaconda3//lib//site-packages (from requests<3,>=2.21.0->tensorboard~=2.6->tensorflow) (4.0.0)/n",
      "Collecting oauthlib>=3.0.0/n",
      "  Using cached oauthlib-3.1.1-py2.py3-none-any.whl (146 kB)/n",
      "Building wheels for collected packages: termcolor/n",
      "  Building wheel for termcolor (setup.py): started/n",
      "  Building wheel for termcolor (setup.py): finished with status 'done'/n",
      "  Created wheel for termcolor: filename=termcolor-1.1.0-py3-none-any.whl size=4829 sha256=ff6595cb2c95b50b833daf15e33ba6cf697c598600e8bc2312f4d71153e3e70d/n",
      "  Stored in directory: c://users//simplon//appdata//local//pip//cache//wheels//a0//16//9c//5473df82468f958445479c59e784896fa24f4a5fc024b0f501/n",
      "Successfully built termcolor/n",
      "Installing collected packages: pyasn1, rsa, pyasn1-modules, oauthlib, requests-oauthlib, importlib-metadata, google-auth, tensorboard-plugin-wit, tensorboard-data-server, markdown, grpcio, google-auth-oauthlib, absl-py, termcolor, tensorflow-io-gcs-filesystem, tensorflow-estimator, tensorboard, opt-einsum, libclang, keras-preprocessing, google-pasta, gast, flatbuffers, astunparse, tensorflow/n",
      "  Attempting uninstall: importlib-metadata/n",
      "    Found existing installation: importlib-metadata 3.10.0/n",
      "    Uninstalling importlib-metadata-3.10.0:/n",
      "      Successfully uninstalled importlib-metadata-3.10.0/n",
      "Successfully installed absl-py-1.0.0 astunparse-1.6.3 flatbuffers-2.0 gast-0.4.0 google-auth-2.3.3 google-auth-oauthlib-0.4.6 google-pasta-0.2.0 grpcio-1.42.0 importlib-metadata-4.8.2 keras-preprocessing-1.1.2 libclang-12.0.0 markdown-3.3.6 oauthlib-3.1.1 opt-einsum-3.3.0 pyasn1-0.4.8 pyasn1-modules-0.2.8 requests-oauthlib-1.3.0 rsa-4.8 tensorboard-2.7.0 tensorboard-data-server-0.6.1 tensorboard-plugin-wit-1.8.0 tensorflow-2.7.0 tensorflow-estimator-2.7.0 tensorflow-io-gcs-filesystem-0.22.0 termcolor-1.1.0/n",
      "Note: you may need to restart the kernel to use updated packages./n"
     ]
    }
   ],
   "source": [
    "pip install --upgrade tensorflow"
   ]
  },
  {
   "cell_type": "code",
   "execution_count": 4,
   "id": "9e89cc01",
   "metadata": {},
   "outputs": [],
   "source": [
    "# Pandas and Numpy/n",
    "import pandas as pd/n",
    "import numpy as np/n",
    "import seaborn as sns/n",
    "/n",
    "# Matplotlib/n",
    "import matplotlib.pyplot as plt/n",
    "/n",
    "# Tensorflow/n",
    "import tensorflow as tf/n",
    "from tensorflow.keras.models import Sequential/n",
    "from tensorflow.keras.layers import Dense/n",
    "from tensorflow import keras/n",
    "/n",
    "from tensorflow.keras.models import Sequential/n",
    "from tensorflow.keras.layers import Dense, Activation/n",
    "from tensorflow.keras.callbacks import EarlyStopping/n",
    "from tensorflow.keras.optimizers import Adam, SGD, Adamax, RMSprop,Adadelta/n",
    "from tensorflow.keras.layers import Dropout/n",
    "from sklearn.utils import class_weight/n",
    "from tensorflow.keras.wrappers.scikit_learn import KerasClassifier/n",
    "from sklearn.metrics import classification_report, confusion_matrix/n",
    "from sklearn.metrics import plot_roc_curve, roc_auc_score, roc_curve, average_precision_score/n",
    "from sklearn.model_selection import cross_val_score, cross_validate/n",
    "from sklearn.model_selection import GridSearchCV/n",
    "from sklearn.model_selection import train_test_split/n",
    "/n",
    "# autre import/n",
    "import sys/n"
   ]
  },
  {
   "cell_type": "markdown",
   "id": "edcbdf17",
   "metadata": {},
   "source": [
    "# Load the dataset "
   ]
  },
  {
   "cell_type": "code",
   "execution_count": 5,
   "id": "130f96be",
   "metadata": {},
   "outputs": [],
   "source": [
    "# test_csv = tf.keras.dataset.test_csv/n",
    "# (images, targets), (_, _) = fashion_test_csv.load_data()/n",
    "/n",
    "# test_csv = pd.data(/"test_csv/")/n",
    "dataX = pd.read_csv('train.csv')/n",
    "datay = pd.read_csv('test.csv')"
   ]
  },
  {
   "cell_type": "code",
   "execution_count": 6,
   "id": "0314a98e",
   "metadata": {},
   "outputs": [
    {
     "data": {
      "text/html": [
       "<div>/n",
       "<style scoped>/n",
       "    .dataframe tbody tr th:only-of-type {/n",
       "        vertical-align: middle;/n",
       "    }/n",
       "/n",
       "    .dataframe tbody tr th {/n",
       "        vertical-align: top;/n",
       "    }/n",
       "/n",
       "    .dataframe thead th {/n",
       "        text-align: right;/n",
       "    }/n",
       "</style>/n",
       "<table border=/"1/" class=/"dataframe/">/n",
       "  <thead>/n",
       "    <tr style=/"text-align: right;/">/n",
       "      <th></th>/n",
       "      <th>label</th>/n",
       "      <th>pixel0</th>/n",
       "      <th>pixel1</th>/n",
       "      <th>pixel2</th>/n",
       "      <th>pixel3</th>/n",
       "      <th>pixel4</th>/n",
       "      <th>pixel5</th>/n",
       "      <th>pixel6</th>/n",
       "      <th>pixel7</th>/n",
       "      <th>pixel8</th>/n",
       "      <th>...</th>/n",
       "      <th>pixel774</th>/n",
       "      <th>pixel775</th>/n",
       "      <th>pixel776</th>/n",
       "      <th>pixel777</th>/n",
       "      <th>pixel778</th>/n",
       "      <th>pixel779</th>/n",
       "      <th>pixel780</th>/n",
       "      <th>pixel781</th>/n",
       "      <th>pixel782</th>/n",
       "      <th>pixel783</th>/n",
       "    </tr>/n",
       "  </thead>/n",
       "  <tbody>/n",
       "    <tr>/n",
       "      <th>0</th>/n",
       "      <td>1</td>/n",
       "      <td>0</td>/n",
       "      <td>0</td>/n",
       "      <td>0</td>/n",
       "      <td>0</td>/n",
       "      <td>0</td>/n",
       "      <td>0</td>/n",
       "      <td>0</td>/n",
       "      <td>0</td>/n",
       "      <td>0</td>/n",
       "      <td>...</td>/n",
       "      <td>0</td>/n",
       "      <td>0</td>/n",
       "      <td>0</td>/n",
       "      <td>0</td>/n",
       "      <td>0</td>/n",
       "      <td>0</td>/n",
       "      <td>0</td>/n",
       "      <td>0</td>/n",
       "      <td>0</td>/n",
       "      <td>0</td>/n",
       "    </tr>/n",
       "    <tr>/n",
       "      <th>1</th>/n",
       "      <td>0</td>/n",
       "      <td>0</td>/n",
       "      <td>0</td>/n",
       "      <td>0</td>/n",
       "      <td>0</td>/n",
       "      <td>0</td>/n",
       "      <td>0</td>/n",
       "      <td>0</td>/n",
       "      <td>0</td>/n",
       "      <td>0</td>/n",
       "      <td>...</td>/n",
       "      <td>0</td>/n",
       "      <td>0</td>/n",
       "      <td>0</td>/n",
       "      <td>0</td>/n",
       "      <td>0</td>/n",
       "      <td>0</td>/n",
       "      <td>0</td>/n",
       "      <td>0</td>/n",
       "      <td>0</td>/n",
       "      <td>0</td>/n",
       "    </tr>/n",
       "    <tr>/n",
       "      <th>2</th>/n",
       "      <td>1</td>/n",
       "      <td>0</td>/n",
       "      <td>0</td>/n",
       "      <td>0</td>/n",
       "      <td>0</td>/n",
       "      <td>0</td>/n",
       "      <td>0</td>/n",
       "      <td>0</td>/n",
       "      <td>0</td>/n",
       "      <td>0</td>/n",
       "      <td>...</td>/n",
       "      <td>0</td>/n",
       "      <td>0</td>/n",
       "      <td>0</td>/n",
       "      <td>0</td>/n",
       "      <td>0</td>/n",
       "      <td>0</td>/n",
       "      <td>0</td>/n",
       "      <td>0</td>/n",
       "      <td>0</td>/n",
       "      <td>0</td>/n",
       "    </tr>/n",
       "    <tr>/n",
       "      <th>3</th>/n",
       "      <td>4</td>/n",
       "      <td>0</td>/n",
       "      <td>0</td>/n",
       "      <td>0</td>/n",
       "      <td>0</td>/n",
       "      <td>0</td>/n",
       "      <td>0</td>/n",
       "      <td>0</td>/n",
       "      <td>0</td>/n",
       "      <td>0</td>/n",
       "      <td>...</td>/n",
       "      <td>0</td>/n",
       "      <td>0</td>/n",
       "      <td>0</td>/n",
       "      <td>0</td>/n",
       "      <td>0</td>/n",
       "      <td>0</td>/n",
       "      <td>0</td>/n",
       "      <td>0</td>/n",
       "      <td>0</td>/n",
       "      <td>0</td>/n",
       "    </tr>/n",
       "    <tr>/n",
       "      <th>4</th>/n",
       "      <td>0</td>/n",
       "      <td>0</td>/n",
       "      <td>0</td>/n",
       "      <td>0</td>/n",
       "      <td>0</td>/n",
       "      <td>0</td>/n",
       "      <td>0</td>/n",
       "      <td>0</td>/n",
       "      <td>0</td>/n",
       "      <td>0</td>/n",
       "      <td>...</td>/n",
       "      <td>0</td>/n",
       "      <td>0</td>/n",
       "      <td>0</td>/n",
       "      <td>0</td>/n",
       "      <td>0</td>/n",
       "      <td>0</td>/n",
       "      <td>0</td>/n",
       "      <td>0</td>/n",
       "      <td>0</td>/n",
       "      <td>0</td>/n",
       "    </tr>/n",
       "    <tr>/n",
       "      <th>...</th>/n",
       "      <td>...</td>/n",
       "      <td>...</td>/n",
       "      <td>...</td>/n",
       "      <td>...</td>/n",
       "      <td>...</td>/n",
       "      <td>...</td>/n",
       "      <td>...</td>/n",
       "      <td>...</td>/n",
       "      <td>...</td>/n",
       "      <td>...</td>/n",
       "      <td>...</td>/n",
       "      <td>...</td>/n",
       "      <td>...</td>/n",
       "      <td>...</td>/n",
       "      <td>...</td>/n",
       "      <td>...</td>/n",
       "      <td>...</td>/n",
       "      <td>...</td>/n",
       "      <td>...</td>/n",
       "      <td>...</td>/n",
       "      <td>...</td>/n",
       "    </tr>/n",
       "    <tr>/n",
       "      <th>41995</th>/n",
       "      <td>0</td>/n",
       "      <td>0</td>/n",
       "      <td>0</td>/n",
       "      <td>0</td>/n",
       "      <td>0</td>/n",
       "      <td>0</td>/n",
       "      <td>0</td>/n",
       "      <td>0</td>/n",
       "      <td>0</td>/n",
       "      <td>0</td>/n",
       "      <td>...</td>/n",
       "      <td>0</td>/n",
       "      <td>0</td>/n",
       "      <td>0</td>/n",
       "      <td>0</td>/n",
       "      <td>0</td>/n",
       "      <td>0</td>/n",
       "      <td>0</td>/n",
       "      <td>0</td>/n",
       "      <td>0</td>/n",
       "      <td>0</td>/n",
       "    </tr>/n",
       "    <tr>/n",
       "      <th>41996</th>/n",
       "      <td>1</td>/n",
       "      <td>0</td>/n",
       "      <td>0</td>/n",
       "      <td>0</td>/n",
       "      <td>0</td>/n",
       "      <td>0</td>/n",
       "      <td>0</td>/n",
       "      <td>0</td>/n",
       "      <td>0</td>/n",
       "      <td>0</td>/n",
       "      <td>...</td>/n",
       "      <td>0</td>/n",
       "      <td>0</td>/n",
       "      <td>0</td>/n",
       "      <td>0</td>/n",
       "      <td>0</td>/n",
       "      <td>0</td>/n",
       "      <td>0</td>/n",
       "      <td>0</td>/n",
       "      <td>0</td>/n",
       "      <td>0</td>/n",
       "    </tr>/n",
       "    <tr>/n",
       "      <th>41997</th>/n",
       "      <td>7</td>/n",
       "      <td>0</td>/n",
       "      <td>0</td>/n",
       "      <td>0</td>/n",
       "      <td>0</td>/n",
       "      <td>0</td>/n",
       "      <td>0</td>/n",
       "      <td>0</td>/n",
       "      <td>0</td>/n",
       "      <td>0</td>/n",
       "      <td>...</td>/n",
       "      <td>0</td>/n",
       "      <td>0</td>/n",
       "      <td>0</td>/n",
       "      <td>0</td>/n",
       "      <td>0</td>/n",
       "      <td>0</td>/n",
       "      <td>0</td>/n",
       "      <td>0</td>/n",
       "      <td>0</td>/n",
       "      <td>0</td>/n",
       "    </tr>/n",
       "    <tr>/n",
       "      <th>41998</th>/n",
       "      <td>6</td>/n",
       "      <td>0</td>/n",
       "      <td>0</td>/n",
       "      <td>0</td>/n",
       "      <td>0</td>/n",
       "      <td>0</td>/n",
       "      <td>0</td>/n",
       "      <td>0</td>/n",
       "      <td>0</td>/n",
       "      <td>0</td>/n",
       "      <td>...</td>/n",
       "      <td>0</td>/n",
       "      <td>0</td>/n",
       "      <td>0</td>/n",
       "      <td>0</td>/n",
       "      <td>0</td>/n",
       "      <td>0</td>/n",
       "      <td>0</td>/n",
       "      <td>0</td>/n",
       "      <td>0</td>/n",
       "      <td>0</td>/n",
       "    </tr>/n",
       "    <tr>/n",
       "      <th>41999</th>/n",
       "      <td>9</td>/n",
       "      <td>0</td>/n",
       "      <td>0</td>/n",
       "      <td>0</td>/n",
       "      <td>0</td>/n",
       "      <td>0</td>/n",
       "      <td>0</td>/n",
       "      <td>0</td>/n",
       "      <td>0</td>/n",
       "      <td>0</td>/n",
       "      <td>...</td>/n",
       "      <td>0</td>/n",
       "      <td>0</td>/n",
       "      <td>0</td>/n",
       "      <td>0</td>/n",
       "      <td>0</td>/n",
       "      <td>0</td>/n",
       "      <td>0</td>/n",
       "      <td>0</td>/n",
       "      <td>0</td>/n",
       "      <td>0</td>/n",
       "    </tr>/n",
       "  </tbody>/n",
       "</table>/n",
       "<p>42000 rows × 785 columns</p>/n",
       "</div>"
      ],
      "text/plain": [
       "       label  pixel0  pixel1  pixel2  pixel3  pixel4  pixel5  pixel6  pixel7  ///n",
       "0          1       0       0       0       0       0       0       0       0   /n",
       "1          0       0       0       0       0       0       0       0       0   /n",
       "2          1       0       0       0       0       0       0       0       0   /n",
       "3          4       0       0       0       0       0       0       0       0   /n",
       "4          0       0       0       0       0       0       0       0       0   /n",
       "...      ...     ...     ...     ...     ...     ...     ...     ...     ...   /n",
       "41995      0       0       0       0       0       0       0       0       0   /n",
       "41996      1       0       0       0       0       0       0       0       0   /n",
       "41997      7       0       0       0       0       0       0       0       0   /n",
       "41998      6       0       0       0       0       0       0       0       0   /n",
       "41999      9       0       0       0       0       0       0       0       0   /n",
       "/n",
       "       pixel8  ...  pixel774  pixel775  pixel776  pixel777  pixel778  ///n",
       "0           0  ...         0         0         0         0         0   /n",
       "1           0  ...         0         0         0         0         0   /n",
       "2           0  ...         0         0         0         0         0   /n",
       "3           0  ...         0         0         0         0         0   /n",
       "4           0  ...         0         0         0         0         0   /n",
       "...       ...  ...       ...       ...       ...       ...       ...   /n",
       "41995       0  ...         0         0         0         0         0   /n",
       "41996       0  ...         0         0         0         0         0   /n",
       "41997       0  ...         0         0         0         0         0   /n",
       "41998       0  ...         0         0         0         0         0   /n",
       "41999       0  ...         0         0         0         0         0   /n",
       "/n",
       "       pixel779  pixel780  pixel781  pixel782  pixel783  /n",
       "0             0         0         0         0         0  /n",
       "1             0         0         0         0         0  /n",
       "2             0         0         0         0         0  /n",
       "3             0         0         0         0         0  /n",
       "4             0         0         0         0         0  /n",
       "...         ...       ...       ...       ...       ...  /n",
       "41995         0         0         0         0         0  /n",
       "41996         0         0         0         0         0  /n",
       "41997         0         0         0         0         0  /n",
       "41998         0         0         0         0         0  /n",
       "41999         0         0         0         0         0  /n",
       "/n",
       "[42000 rows x 785 columns]"
      ]
     },
     "execution_count": 6,
     "metadata": {},
     "output_type": "execute_result"
    }
   ],
   "source": [
    "dataX"
   ]
  },
  {
   "cell_type": "code",
   "execution_count": 7,
   "id": "90f2bae0",
   "metadata": {},
   "outputs": [
    {
     "data": {
      "text/html": [
       "<div>/n",
       "<style scoped>/n",
       "    .dataframe tbody tr th:only-of-type {/n",
       "        vertical-align: middle;/n",
       "    }/n",
       "/n",
       "    .dataframe tbody tr th {/n",
       "        vertical-align: top;/n",
       "    }/n",
       "/n",
       "    .dataframe thead th {/n",
       "        text-align: right;/n",
       "    }/n",
       "</style>/n",
       "<table border=/"1/" class=/"dataframe/">/n",
       "  <thead>/n",
       "    <tr style=/"text-align: right;/">/n",
       "      <th></th>/n",
       "      <th>pixel0</th>/n",
       "      <th>pixel1</th>/n",
       "      <th>pixel2</th>/n",
       "      <th>pixel3</th>/n",
       "      <th>pixel4</th>/n",
       "      <th>pixel5</th>/n",
       "      <th>pixel6</th>/n",
       "      <th>pixel7</th>/n",
       "      <th>pixel8</th>/n",
       "      <th>pixel9</th>/n",
       "      <th>...</th>/n",
       "      <th>pixel774</th>/n",
       "      <th>pixel775</th>/n",
       "      <th>pixel776</th>/n",
       "      <th>pixel777</th>/n",
       "      <th>pixel778</th>/n",
       "      <th>pixel779</th>/n",
       "      <th>pixel780</th>/n",
       "      <th>pixel781</th>/n",
       "      <th>pixel782</th>/n",
       "      <th>pixel783</th>/n",
       "    </tr>/n",
       "  </thead>/n",
       "  <tbody>/n",
       "    <tr>/n",
       "      <th>0</th>/n",
       "      <td>0</td>/n",
       "      <td>0</td>/n",
       "      <td>0</td>/n",
       "      <td>0</td>/n",
       "      <td>0</td>/n",
       "      <td>0</td>/n",
       "      <td>0</td>/n",
       "      <td>0</td>/n",
       "      <td>0</td>/n",
       "      <td>0</td>/n",
       "      <td>...</td>/n",
       "      <td>0</td>/n",
       "      <td>0</td>/n",
       "      <td>0</td>/n",
       "      <td>0</td>/n",
       "      <td>0</td>/n",
       "      <td>0</td>/n",
       "      <td>0</td>/n",
       "      <td>0</td>/n",
       "      <td>0</td>/n",
       "      <td>0</td>/n",
       "    </tr>/n",
       "    <tr>/n",
       "      <th>1</th>/n",
       "      <td>0</td>/n",
       "      <td>0</td>/n",
       "      <td>0</td>/n",
       "      <td>0</td>/n",
       "      <td>0</td>/n",
       "      <td>0</td>/n",
       "      <td>0</td>/n",
       "      <td>0</td>/n",
       "      <td>0</td>/n",
       "      <td>0</td>/n",
       "      <td>...</td>/n",
       "      <td>0</td>/n",
       "      <td>0</td>/n",
       "      <td>0</td>/n",
       "      <td>0</td>/n",
       "      <td>0</td>/n",
       "      <td>0</td>/n",
       "      <td>0</td>/n",
       "      <td>0</td>/n",
       "      <td>0</td>/n",
       "      <td>0</td>/n",
       "    </tr>/n",
       "    <tr>/n",
       "      <th>2</th>/n",
       "      <td>0</td>/n",
       "      <td>0</td>/n",
       "      <td>0</td>/n",
       "      <td>0</td>/n",
       "      <td>0</td>/n",
       "      <td>0</td>/n",
       "      <td>0</td>/n",
       "      <td>0</td>/n",
       "      <td>0</td>/n",
       "      <td>0</td>/n",
       "      <td>...</td>/n",
       "      <td>0</td>/n",
       "      <td>0</td>/n",
       "      <td>0</td>/n",
       "      <td>0</td>/n",
       "      <td>0</td>/n",
       "      <td>0</td>/n",
       "      <td>0</td>/n",
       "      <td>0</td>/n",
       "      <td>0</td>/n",
       "      <td>0</td>/n",
       "    </tr>/n",
       "    <tr>/n",
       "      <th>3</th>/n",
       "      <td>0</td>/n",
       "      <td>0</td>/n",
       "      <td>0</td>/n",
       "      <td>0</td>/n",
       "      <td>0</td>/n",
       "      <td>0</td>/n",
       "      <td>0</td>/n",
       "      <td>0</td>/n",
       "      <td>0</td>/n",
       "      <td>0</td>/n",
       "      <td>...</td>/n",
       "      <td>0</td>/n",
       "      <td>0</td>/n",
       "      <td>0</td>/n",
       "      <td>0</td>/n",
       "      <td>0</td>/n",
       "      <td>0</td>/n",
       "      <td>0</td>/n",
       "      <td>0</td>/n",
       "      <td>0</td>/n",
       "      <td>0</td>/n",
       "    </tr>/n",
       "    <tr>/n",
       "      <th>4</th>/n",
       "      <td>0</td>/n",
       "      <td>0</td>/n",
       "      <td>0</td>/n",
       "      <td>0</td>/n",
       "      <td>0</td>/n",
       "      <td>0</td>/n",
       "      <td>0</td>/n",
       "      <td>0</td>/n",
       "      <td>0</td>/n",
       "      <td>0</td>/n",
       "      <td>...</td>/n",
       "      <td>0</td>/n",
       "      <td>0</td>/n",
       "      <td>0</td>/n",
       "      <td>0</td>/n",
       "      <td>0</td>/n",
       "      <td>0</td>/n",
       "      <td>0</td>/n",
       "      <td>0</td>/n",
       "      <td>0</td>/n",
       "      <td>0</td>/n",
       "    </tr>/n",
       "    <tr>/n",
       "      <th>...</th>/n",
       "      <td>...</td>/n",
       "      <td>...</td>/n",
       "      <td>...</td>/n",
       "      <td>...</td>/n",
       "      <td>...</td>/n",
       "      <td>...</td>/n",
       "      <td>...</td>/n",
       "      <td>...</td>/n",
       "      <td>...</td>/n",
       "      <td>...</td>/n",
       "      <td>...</td>/n",
       "      <td>...</td>/n",
       "      <td>...</td>/n",
       "      <td>...</td>/n",
       "      <td>...</td>/n",
       "      <td>...</td>/n",
       "      <td>...</td>/n",
       "      <td>...</td>/n",
       "      <td>...</td>/n",
       "      <td>...</td>/n",
       "      <td>...</td>/n",
       "    </tr>/n",
       "    <tr>/n",
       "      <th>27995</th>/n",
       "      <td>0</td>/n",
       "      <td>0</td>/n",
       "      <td>0</td>/n",
       "      <td>0</td>/n",
       "      <td>0</td>/n",
       "      <td>0</td>/n",
       "      <td>0</td>/n",
       "      <td>0</td>/n",
       "      <td>0</td>/n",
       "      <td>0</td>/n",
       "      <td>...</td>/n",
       "      <td>0</td>/n",
       "      <td>0</td>/n",
       "      <td>0</td>/n",
       "      <td>0</td>/n",
       "      <td>0</td>/n",
       "      <td>0</td>/n",
       "      <td>0</td>/n",
       "      <td>0</td>/n",
       "      <td>0</td>/n",
       "      <td>0</td>/n",
       "    </tr>/n",
       "    <tr>/n",
       "      <th>27996</th>/n",
       "      <td>0</td>/n",
       "      <td>0</td>/n",
       "      <td>0</td>/n",
       "      <td>0</td>/n",
       "      <td>0</td>/n",
       "      <td>0</td>/n",
       "      <td>0</td>/n",
       "      <td>0</td>/n",
       "      <td>0</td>/n",
       "      <td>0</td>/n",
       "      <td>...</td>/n",
       "      <td>0</td>/n",
       "      <td>0</td>/n",
       "      <td>0</td>/n",
       "      <td>0</td>/n",
       "      <td>0</td>/n",
       "      <td>0</td>/n",
       "      <td>0</td>/n",
       "      <td>0</td>/n",
       "      <td>0</td>/n",
       "      <td>0</td>/n",
       "    </tr>/n",
       "    <tr>/n",
       "      <th>27997</th>/n",
       "      <td>0</td>/n",
       "      <td>0</td>/n",
       "      <td>0</td>/n",
       "      <td>0</td>/n",
       "      <td>0</td>/n",
       "      <td>0</td>/n",
       "      <td>0</td>/n",
       "      <td>0</td>/n",
       "      <td>0</td>/n",
       "      <td>0</td>/n",
       "      <td>...</td>/n",
       "      <td>0</td>/n",
       "      <td>0</td>/n",
       "      <td>0</td>/n",
       "      <td>0</td>/n",
       "      <td>0</td>/n",
       "      <td>0</td>/n",
       "      <td>0</td>/n",
       "      <td>0</td>/n",
       "      <td>0</td>/n",
       "      <td>0</td>/n",
       "    </tr>/n",
       "    <tr>/n",
       "      <th>27998</th>/n",
       "      <td>0</td>/n",
       "      <td>0</td>/n",
       "      <td>0</td>/n",
       "      <td>0</td>/n",
       "      <td>0</td>/n",
       "      <td>0</td>/n",
       "      <td>0</td>/n",
       "      <td>0</td>/n",
       "      <td>0</td>/n",
       "      <td>0</td>/n",
       "      <td>...</td>/n",
       "      <td>0</td>/n",
       "      <td>0</td>/n",
       "      <td>0</td>/n",
       "      <td>0</td>/n",
       "      <td>0</td>/n",
       "      <td>0</td>/n",
       "      <td>0</td>/n",
       "      <td>0</td>/n",
       "      <td>0</td>/n",
       "      <td>0</td>/n",
       "    </tr>/n",
       "    <tr>/n",
       "      <th>27999</th>/n",
       "      <td>0</td>/n",
       "      <td>0</td>/n",
       "      <td>0</td>/n",
       "      <td>0</td>/n",
       "      <td>0</td>/n",
       "      <td>0</td>/n",
       "      <td>0</td>/n",
       "      <td>0</td>/n",
       "      <td>0</td>/n",
       "      <td>0</td>/n",
       "      <td>...</td>/n",
       "      <td>0</td>/n",
       "      <td>0</td>/n",
       "      <td>0</td>/n",
       "      <td>0</td>/n",
       "      <td>0</td>/n",
       "      <td>0</td>/n",
       "      <td>0</td>/n",
       "      <td>0</td>/n",
       "      <td>0</td>/n",
       "      <td>0</td>/n",
       "    </tr>/n",
       "  </tbody>/n",
       "</table>/n",
       "<p>28000 rows × 784 columns</p>/n",
       "</div>"
      ],
      "text/plain": [
       "       pixel0  pixel1  pixel2  pixel3  pixel4  pixel5  pixel6  pixel7  pixel8  ///n",
       "0           0       0       0       0       0       0       0       0       0   /n",
       "1           0       0       0       0       0       0       0       0       0   /n",
       "2           0       0       0       0       0       0       0       0       0   /n",
       "3           0       0       0       0       0       0       0       0       0   /n",
       "4           0       0       0       0       0       0       0       0       0   /n",
       "...       ...     ...     ...     ...     ...     ...     ...     ...     ...   /n",
       "27995       0       0       0       0       0       0       0       0       0   /n",
       "27996       0       0       0       0       0       0       0       0       0   /n",
       "27997       0       0       0       0       0       0       0       0       0   /n",
       "27998       0       0       0       0       0       0       0       0       0   /n",
       "27999       0       0       0       0       0       0       0       0       0   /n",
       "/n",
       "       pixel9  ...  pixel774  pixel775  pixel776  pixel777  pixel778  ///n",
       "0           0  ...         0         0         0         0         0   /n",
       "1           0  ...         0         0         0         0         0   /n",
       "2           0  ...         0         0         0         0         0   /n",
       "3           0  ...         0         0         0         0         0   /n",
       "4           0  ...         0         0         0         0         0   /n",
       "...       ...  ...       ...       ...       ...       ...       ...   /n",
       "27995       0  ...         0         0         0         0         0   /n",
       "27996       0  ...         0         0         0         0         0   /n",
       "27997       0  ...         0         0         0         0         0   /n",
       "27998       0  ...         0         0         0         0         0   /n",
       "27999       0  ...         0         0         0         0         0   /n",
       "/n",
       "       pixel779  pixel780  pixel781  pixel782  pixel783  /n",
       "0             0         0         0         0         0  /n",
       "1             0         0         0         0         0  /n",
       "2             0         0         0         0         0  /n",
       "3             0         0         0         0         0  /n",
       "4             0         0         0         0         0  /n",
       "...         ...       ...       ...       ...       ...  /n",
       "27995         0         0         0         0         0  /n",
       "27996         0         0         0         0         0  /n",
       "27997         0         0         0         0         0  /n",
       "27998         0         0         0         0         0  /n",
       "27999         0         0         0         0         0  /n",
       "/n",
       "[28000 rows x 784 columns]"
      ]
     },
     "execution_count": 7,
     "metadata": {},
     "output_type": "execute_result"
    }
   ],
   "source": [
    "datay"
   ]
  },
  {
   "cell_type": "code",
   "execution_count": 4,
   "id": "4d395123",
   "metadata": {},
   "outputs": [
    {
     "data": {
      "text/plain": [
       "42000"
      ]
     },
     "execution_count": 4,
     "metadata": {},
     "output_type": "execute_result"
    }
   ],
   "source": [
    "len(dataX)"
   ]
  },
  {
   "cell_type": "code",
   "execution_count": 8,
   "id": "f6a16a01",
   "metadata": {},
   "outputs": [
    {
     "data": {
      "text/plain": [
       "28000"
      ]
     },
     "execution_count": 8,
     "metadata": {},
     "output_type": "execute_result"
    }
   ],
   "source": [
    "len(datay)"
   ]
  },
  {
   "cell_type": "markdown",
   "id": "cd30041d",
   "metadata": {},
   "source": [
    "# prendre 80% de dataX pour en faire le jeu d'entrainement et garder 20% pour les reste"
   ]
  },
  {
   "cell_type": "code",
   "execution_count": 378,
   "id": "98281a60",
   "metadata": {},
   "outputs": [],
   "source": [
    "# TRAIN = dataX.iloc[0:33600, :]/n",
    "# TRAIN"
   ]
  },
  {
   "cell_type": "code",
   "execution_count": 379,
   "id": "80438ada",
   "metadata": {
    "scrolled": true
   },
   "outputs": [],
   "source": [
    "# TEST = dataX.iloc[33600::, :]/n",
    "# TEST"
   ]
  },
  {
   "cell_type": "code",
   "execution_count": 5,
   "id": "8ab0adcd",
   "metadata": {},
   "outputs": [],
   "source": [
    "X = dataX.drop(/"label/", axis=1)/n",
    "y = dataX.label"
   ]
  },
  {
   "cell_type": "code",
   "execution_count": 6,
   "id": "3c0f235f",
   "metadata": {},
   "outputs": [
    {
     "data": {
      "text/plain": [
       "((42000, 784), (42000,))"
      ]
     },
     "execution_count": 6,
     "metadata": {},
     "output_type": "execute_result"
    }
   ],
   "source": [
    "X.shape, y.shape"
   ]
  },
  {
   "cell_type": "code",
   "execution_count": 7,
   "id": "1a11be49",
   "metadata": {},
   "outputs": [],
   "source": [
    "X = np.expand_dims(X, axis=+2)"
   ]
  },
  {
   "cell_type": "code",
   "execution_count": 8,
   "id": "b19a474c",
   "metadata": {},
   "outputs": [],
   "source": [
    "X = X.reshape(-1, 28, 28, 1)"
   ]
  },
  {
   "cell_type": "code",
   "execution_count": 9,
   "id": "f5b5d488",
   "metadata": {},
   "outputs": [
    {
     "data": {
      "text/plain": [
       "(42000, 28, 28, 1)"
      ]
     },
     "execution_count": 9,
     "metadata": {},
     "output_type": "execute_result"
    }
   ],
   "source": [
    "X.shape"
   ]
  },
  {
   "cell_type": "code",
   "execution_count": 10,
   "id": "87b5fe95",
   "metadata": {},
   "outputs": [],
   "source": [
    "X_train, X_test, y_train, y_test = train_test_split(X, y, stratify = y, test_size = 0.2, random_state =42)"
   ]
  },
  {
   "cell_type": "code",
   "execution_count": 11,
   "id": "7d38b166",
   "metadata": {},
   "outputs": [
    {
     "data": {
      "text/plain": [
       "(33600, 33600, 8400, 8400)"
      ]
     },
     "execution_count": 11,
     "metadata": {},
     "output_type": "execute_result"
    }
   ],
   "source": [
    "len(X_train), len(y_train), len(X_test), len(y_test)"
   ]
  },
  {
   "cell_type": "code",
   "execution_count": null,
   "id": "40c33de0",
   "metadata": {},
   "outputs": [],
   "source": []
  },
  {
   "cell_type": "code",
   "execution_count": 29,
   "id": "5c6fc155",
   "metadata": {},
   "outputs": [],
   "source": [
    "# plot instances frequency per digit/n",
    "# sns.countplot(data=X, x=y)/n",
    "/n",
    "# plt.xlabel(/"digits/",fontsize=16)/n",
    "# plt.ylabel(/"frequency/",fontsize=16)/n",
    "# plt.title(/"Frequency Graph/",fontsize=20)/n",
    "# plt.show()"
   ]
  },
  {
   "cell_type": "code",
   "execution_count": 65,
   "id": "8ab6228d",
   "metadata": {},
   "outputs": [],
   "source": [
    "# add 3d dimension for image plot/n",
    "# X = np.expand_dims(X, axis=+2"
   ]
  },
  {
   "cell_type": "code",
   "execution_count": 14,
   "id": "05528caa",
   "metadata": {},
   "outputs": [],
   "source": [
    "# normalizing pixels to convert into digit image/n",
    "digit_img = X/255.0"
   ]
  },
  {
   "cell_type": "code",
   "execution_count": 38,
   "id": "c4fe293f",
   "metadata": {},
   "outputs": [
    {
     "data": {
      "image/png": "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/n",
      "text/plain": [
       "<Figure size 864x720 with 30 Axes>"
      ]
     },
     "metadata": {
      "needs_background": "light"
     },
     "output_type": "display_data"
    }
   ],
   "source": [
    "rows = 5 # defining no. of rows/n",
    "cols = 6 # defining no. of columns/n",
    "/n",
    "f = plt.figure(figsize=(2*cols, 2*rows)) # defining a figure/n",
    "/n",
    "for i in range(rows*cols):/n",
    "    f.add_subplot(rows, cols, i+1) # adding sub plot to figure on each iteration/n",
    "    plt.imshow(digit_img[i].reshape([28,28]), cmap=/"Blues/")/n",
    "    plt.axis(/"off/")/n",
    "    plt.title(str(y[i]), y=-0.15, color=/"green/")"
   ]
  },
  {
   "cell_type": "markdown",
   "id": "8ece6cee",
   "metadata": {},
   "source": [
    "# Model/n",
    "/n",
    "from tensorflow.keras.models import Sequential/n",
    "from tensorflow.keras.layers import Dense, Dropout, Conv2D, MaxPooling2D, Flatten/n",
    "from tensorflow.keras.optimizers import RMSprop"
   ]
  },
  {
   "cell_type": "code",
   "execution_count": 97,
   "id": "5e990e15",
   "metadata": {},
   "outputs": [],
   "source": [
    "model = keras.models.Sequential()/n",
    "/n",
    "model.add( keras.layers.Input((28, 28, 1)) )/n",
    "/n",
    "model.add( keras.layers.Conv2D(8, (3, 3), activation='relu') )/n",
    "model.add( keras.layers.MaxPooling2D((2, 2)) )/n",
    "model.add( keras.layers.Dropout(0.2))/n",
    "/n",
    "model.add( keras.layers.Conv2D(16, (3, 3), activation='relu') )/n",
    "model.add( keras.layers.MaxPooling2D((2, 2)) )/n",
    "model.add( keras.layers.Dropout(0.2))/n",
    "/n",
    "model.add( keras.layers.Flatten())/n",
    "model.add( keras.layers.Dense(100, activation='relu'))/n",
    "model.add( keras.layers.Dropout(0.5))/n",
    "/n",
    "model.add( keras.layers.Dense(10, activation='softmax'))/n"
   ]
  },
  {
   "cell_type": "markdown",
   "id": "4c54651a",
   "metadata": {},
   "source": [
    "# Model Summary"
   ]
  },
  {
   "cell_type": "code",
   "execution_count": 98,
   "id": "24520706",
   "metadata": {},
   "outputs": [
    {
     "name": "stdout",
     "output_type": "stream",
     "text": [
      "Model: /"sequential_2/"/n",
      "_________________________________________________________________/n",
      " Layer (type)                Output Shape              Param #   /n",
      "=================================================================/n",
      " conv2d_4 (Conv2D)           (None, 26, 26, 8)         80        /n",
      "                                                                 /n",
      " max_pooling2d_4 (MaxPooling  (None, 13, 13, 8)        0         /n",
      " 2D)                                                             /n",
      "                                                                 /n",
      " dropout_6 (Dropout)         (None, 13, 13, 8)         0         /n",
      "                                                                 /n",
      " conv2d_5 (Conv2D)           (None, 11, 11, 16)        1168      /n",
      "                                                                 /n",
      " max_pooling2d_5 (MaxPooling  (None, 5, 5, 16)         0         /n",
      " 2D)                                                             /n",
      "                                                                 /n",
      " dropout_7 (Dropout)         (None, 5, 5, 16)          0         /n",
      "                                                                 /n",
      " flatten_3 (Flatten)         (None, 400)               0         /n",
      "                                                                 /n",
      " dense_7 (Dense)             (None, 100)               40100     /n",
      "                                                                 /n",
      " dropout_8 (Dropout)         (None, 100)               0         /n",
      "                                                                 /n",
      " dense_8 (Dense)             (None, 10)                1010      /n",
      "                                                                 /n",
      "=================================================================/n",
      "Total params: 42,358/n",
      "Trainable params: 42,358/n",
      "Non-trainable params: 0/n",
      "_________________________________________________________________/n"
     ]
    }
   ],
   "source": [
    "model.summary()"
   ]
  },
  {
   "cell_type": "markdown",
   "id": "b8c2603c",
   "metadata": {},
   "source": [
    "# Compile the"
   ]
  },
  {
   "cell_type": "code",
   "execution_count": 102,
   "id": "6a5a0928",
   "metadata": {},
   "outputs": [],
   "source": [
    "model.compile(/n",
    "    optimizer='adam',/n",
    "    loss = 'sparse_categorical_crossentropy',/n",
    "    metrics=['accuracy'])"
   ]
  },
  {
   "cell_type": "code",
   "execution_count": 103,
   "id": "261e59a5",
   "metadata": {},
   "outputs": [],
   "source": [
    "# define early stopping callback/n",
    "callback = EarlyStopping(monitor='val_loss', patience=3, verbose=1, mode='auto')"
   ]
  },
  {
   "cell_type": "code",
   "execution_count": 104,
   "id": "52636aca",
   "metadata": {},
   "outputs": [
    {
     "name": "stdout",
     "output_type": "stream",
     "text": [
      "Epoch 1/15/n",
      "1050/1050 [==============================] - 15s 14ms/step - loss: 3.1341 - accuracy: 0.2701 - val_loss: 1.1323 - val_accuracy: 0.6096/n",
      "Epoch 2/15/n",
      "1050/1050 [==============================] - 14s 13ms/step - loss: 1.1832 - accuracy: 0.6050 - val_loss: 0.3312 - val_accuracy: 0.9182/n",
      "Epoch 3/15/n",
      "1050/1050 [==============================] - 14s 13ms/step - loss: 0.6142 - accuracy: 0.8129 - val_loss: 0.1622 - val_accuracy: 0.9546/n",
      "Epoch 4/15/n",
      "1050/1050 [==============================] - 14s 13ms/step - loss: 0.4159 - accuracy: 0.8731 - val_loss: 0.1148 - val_accuracy: 0.9663/n",
      "Epoch 5/15/n",
      "1050/1050 [==============================] - 14s 13ms/step - loss: 0.3295 - accuracy: 0.8984 - val_loss: 0.1076 - val_accuracy: 0.9694/n",
      "Epoch 6/15/n",
      "1050/1050 [==============================] - 14s 13ms/step - loss: 0.2725 - accuracy: 0.9182 - val_loss: 0.0906 - val_accuracy: 0.9725/n",
      "Epoch 7/15/n",
      "1050/1050 [==============================] - 14s 13ms/step - loss: 0.2380 - accuracy: 0.9290 - val_loss: 0.0833 - val_accuracy: 0.9748/n",
      "Epoch 8/15/n",
      "1050/1050 [==============================] - 14s 13ms/step - loss: 0.2169 - accuracy: 0.9360 - val_loss: 0.0701 - val_accuracy: 0.9785/n",
      "Epoch 9/15/n",
      "1050/1050 [==============================] - 14s 13ms/step - loss: 0.1956 - accuracy: 0.9426 - val_loss: 0.0771 - val_accuracy: 0.9762/n",
      "Epoch 10/15/n",
      "1050/1050 [==============================] - 14s 13ms/step - loss: 0.1825 - accuracy: 0.9466 - val_loss: 0.0665 - val_accuracy: 0.9804/n",
      "Epoch 11/15/n",
      "1050/1050 [==============================] - 14s 13ms/step - loss: 0.1779 - accuracy: 0.9493 - val_loss: 0.0641 - val_accuracy: 0.9806/n",
      "Epoch 12/15/n",
      "1050/1050 [==============================] - 14s 14ms/step - loss: 0.1682 - accuracy: 0.9526 - val_loss: 0.0701 - val_accuracy: 0.9792/n",
      "Epoch 13/15/n",
      "1050/1050 [==============================] - 14s 13ms/step - loss: 0.1572 - accuracy: 0.9548 - val_loss: 0.0636 - val_accuracy: 0.9799/n",
      "Epoch 14/15/n",
      "1050/1050 [==============================] - 14s 13ms/step - loss: 0.1607 - accuracy: 0.9545 - val_loss: 0.0596 - val_accuracy: 0.9806/n",
      "Epoch 15/15/n",
      "1050/1050 [==============================] - 14s 13ms/step - loss: 0.1484 - accuracy: 0.9579 - val_loss: 0.0653 - val_accuracy: 0.9806/n"
     ]
    }
   ],
   "source": [
    "Entrainement = model.fit(X_train, y_train, /n",
    "                         batch_size = 32,/n",
    "                         epochs = 15,/n",
    "                         verbose = 1, /n",
    "                         validation_data = (X_test, y_test),/n",
    "                         callbacks=[callback])"
   ]
  },
  {
   "cell_type": "code",
   "execution_count": 91,
   "id": "5287edb5",
   "metadata": {},
   "outputs": [
    {
     "name": "stdout",
     "output_type": "stream",
     "text": [
      "263/263 [==============================] - 1s 6ms/step - loss: 0.0597 - accuracy: 0.9836/n"
     ]
    }
   ],
   "source": [
    "# ealuer model/n",
    "score = model.evaluate(X_test, y_test)"
   ]
  },
  {
   "cell_type": "code",
   "execution_count": 92,
   "id": "6feb3f12",
   "metadata": {},
   "outputs": [
    {
     "name": "stdout",
     "output_type": "stream",
     "text": [
      "loss :  0.0597490519285202/n",
      "acc :  0.9835714101791382/n"
     ]
    }
   ],
   "source": [
    "print('loss : ', score[0])/n",
    "print('acc : ', score[1])"
   ]
  },
  {
   "cell_type": "markdown",
   "id": "0b4c7d15",
   "metadata": {},
   "source": [
    "# ACCURACY"
   ]
  },
  {
   "cell_type": "code",
   "execution_count": 93,
   "id": "d6f4b17b",
   "metadata": {},
   "outputs": [
    {
     "data": {
      "image/png": "iVBORw0KGgoAAAANSUhEUgAAAYIAAAEWCAYAAABrDZDcAAAAOXRFWHRTb2Z0d2FyZQBNYXRwbG90bGliIHZlcnNpb24zLjMuNCwgaHR0cHM6Ly9tYXRwbG90bGliLm9yZy8QVMy6AAAACXBIWXMAAAsTAAALEwEAmpwYAAAvnElEQVR4nO3deXxcdbn48c+TyWRPkzTpnpSW2pUKLZRSEBRFpJWluCGbCqgFFcX7cwHuver13vu7F38uFxW0AreCynpBBb2VTVnUUuiSAqW0dKEk6Zqm2feZeX5/nJNkMk3SoeTkZOY879drXnP2eWaafp9zvt/z/R5RVYwxxgRXht8BGGOM8ZclAmOMCThLBMYYE3CWCIwxJuAsERhjTMBZIjDGmICzRGACRUTuFpF/T3Lb3SLyQa9jMsZvlgiMMSbgLBEYk4JEJNPvGEz6sERgRh23SuYbIvKKiLSKyH+LyAQR+ZOINIvI0yJSErf9RSLymog0iMizIjI3bt1CEdno7vcgkJPwWReIyCZ33zUicmKSMZ4vIpUi0iQi1SLyLwnrz3SP1+Cuv8pdnisiPxSRt0SkUUT+5i47W0RqBvgdPuhO/4uIPCwivxGRJuAqEVksIi+4n7FPRG4Tkay4/U8QkadE5LCIHBCRfxSRiSLSJiKlcdudIiK1IhJO5rub9GOJwIxWHwPOBWYBFwJ/Av4RKMP5u/0KgIjMAu4HvgqMA1YDfxCRLLdQ/D3wa2As8D/ucXH3PRlYBVwLlAK/AB4Tkewk4msFPg0UA+cDXxCRi93jTnXj/akb0wJgk7vfD4BTgDPcmL4JxJL8TZYDD7ufeS8QBf4B5zc5HTgH+KIbQyHwNPA4MBl4F/BnVd0PPAtcEnfcK4EHVLU7yThMmrFEYEarn6rqAVXdA/wVeFFVK1W1E/gdsNDd7pPA/6rqU25B9gMgF6egXQKEgVtVtVtVHwbWxX3G54FfqOqLqhpV1XuATne/Ianqs6r6qqrGVPUVnGT0Pnf1FcDTqnq/+7l1qrpJRDKAa4AbVHWP+5lr3O+UjBdU9ffuZ7ar6gZVXauqEVXdjZPIemK4ANivqj9U1Q5VbVbVF9119+AU/ohICLgMJ1magLJEYEarA3HT7QPMF7jTk4G3elaoagyoBqa46/Zo/5EV34qbPg74mlu10iAiDUCFu9+QROQ0EXnGrVJpBK7DOTPHPcbOAXYrw6maGmhdMqoTYpglIn8Ukf1uddF/JBEDwKPAPBE5Hueqq1FVXzrGmEwasERgUt1enAIdABERnEJwD7APmOIu6zE1broa+L+qWhz3ylPV+5P43PuAx4AKVS0CVgI9n1MNzBhgn0NAxyDrWoG8uO8RwqlWipc4VPDPga3ATFUdg1N1drQYUNUO4CGcK5dPYVcDgWeJwKS6h4DzReQct7HzazjVO2uAF4AI8BURyRSRjwKL4/a9E7jOPbsXEcl3G4ELk/jcQuCwqnaIyGLg8rh19wIfFJFL3M8tFZEF7tXKKuBHIjJZREIicrrbJvEGkON+fhj4Z+BobRWFQBPQIiJzgC/ErfsjMFFEvioi2SJSKCKnxa3/FXAVcBHwmyS+r0ljlghMSlPVbTj13T/FOeO+ELhQVbtUtQv4KE6BV4/TnvDbuH3X47QT3Oau3+Fum4wvAv8qIs3At3ESUs9xq4AP4ySlwzgNxSe5q78OvIrTVnEY+B6QoaqN7jHvwrmaaQX63UU0gK/jJKBmnKT2YFwMzTjVPhcC+4HtwPvj1v8dp5F6o9u+YAJM7ME0xgSTiPwFuE9V7/I7FuMvSwTGBJCInAo8hdPG0ex3PMZfVjVkTMCIyD04fQy+aknAgF0RGGNM4NkVgTHGBFzKDVxVVlam06ZN8zsMY4xJKRs2bDikqol9U4AUTATTpk1j/fr1fodhjDEpRUTeGmydZ1VDIrJKRA6KyOZB1ouI/EREdogzyuTJXsVijDFmcF62EdwNLB1i/TJgpvtagdNd3hhjzAjzLBGo6vM4PScHsxz4lTrWAsUiMsmreIwxxgzMzzaCKfQfTbHGXbYvcUMRWYFz1cDUqVMTV9Pd3U1NTQ0dHR3eRDqK5OTkUF5eTjhszxAxxgwPPxOBDLBswE4NqnoHcAfAokWLjtimpqaGwsJCpk2bRv+BJtOLqlJXV0dNTQ3Tp0/3OxxjTJrwsx9BDc5wwT3KcYYUfts6OjooLS1N6yQAICKUlpYG4srHGDNy/EwEjwGfdu8eWoLzcIwjqoWSle5JoEdQvqcxZuR4VjUkIvcDZwNl7kO5v4Pz2EBUdSXOs2U/jDP0bxtwtVexGGMCRtV9xfq/SFgWi0GsG6Ldfe+905EBliW5Tt3HUIsAMsA7gyzvOdEbZN3khTD1qE9Sfds8SwSqetlR1ivwJa8+fyQ1NDRw33338cUvfvFt7ffhD3+Y++67j+LiYm8CM2a4xGIQaYeuNuh2X11t0N0K3e3Q1dq3LNrZV0BGu+IKzK5Blsetiw2wXc/yfoX6AIV8/LKBmxtHkHgTw3u+mlqJIEgaGhr42c9+dkQiiEajhEKhQfdbvXq116GZ4RKLQVsdNO2B5n3Oe9NeaIqbbjnoFEKSARkZICHICDnvgy6Lf0+Y7rd9hvsKOWeG8fv2Lu/5jIRl/baVvuWxiFOId7f1FeSJhXpPQd/ddmy/m4QgFIZQlvOeETfd84pfFs5xpjMy3WVZEMp0tun3fTPivk8Gzhlz4rr4bYZYn5HZF2PPdEZPbEdbl9V/u5518VW4PVcnJPHes/1g22TmHPOf8FAsEQyDm266iZ07d7JgwQLC4TAFBQVMmjSJTZs2sWXLFi6++GKqq6vp6OjghhtuYMWKFUDfcBktLS0sW7aMM888kzVr1jBlyhQeffRRcnNzff5mHlOFziZoOwzt9QO/Ih2QlQ9ZBc57OK9vOit+Oh/CPe+5/f8jHk20G5r3xxXwcYV7/LJYd//9JASFk2DMJJgwD2Z8wCkQNAqxaNx7TzVE4rKok2Dit+/dLgaRrr51qLtc+/btd9yEs+N+y+L2i18uGc5vGHZ/y3Ce8/vljYVwedzv7a7rWX/EsoRjZGa7BWfYSUxBJ/L2/h59kHaJ4Lt/eI0te5uG9ZjzJo/hOxeeMOj6W265hc2bN7Np0yaeffZZzj//fDZv3tx7i+eqVasYO3Ys7e3tnHrqqXzsYx+jtLS03zG2b9/O/fffz5133skll1zCI488wpVXXjms38NTHU3OGfNgBXq/wr5nusEppAaTVeicXXW3OQkhadKXHBKTRM+rs7mvgG85wBGX8Zk5MGYyFE6GiiXOdPyrcDIUjHfOUo1JcWmXCEaDxYsX97vP/yc/+Qm/+93vAKiurmb79u1HJILp06ezYMECAE455RR27949UuEmLxaDxmo49Ibzqt3W994+RCfyrELILYG8Eue9aIrznjvWfS9xzkJ7pnteobhOc7GoU2XR8+pu7T8/4PIWp3qjZ7qjwSn8u1qdK4kxk2DCCTBmintmP6WvoM8tGfVnccYMl7RLBEOduY+U/Pz83ulnn32Wp59+mhdeeIG8vDzOPvvsAfsBZGdn906HQiHa29tHJNYBRbrg8M6+gr6nsK/b0b+uOHcsjJsNcy+E0hmQV3b0Av1YZYQgZ4zzMsYMq7RLBH4oLCykuXngJ/41NjZSUlJCXl4eW7duZe3atSMc3RA6muDQdji0rf/Zff3u/lU2RVOhbCZMOxPKZjmFf9lsyC8d9NDGmNRhiWAYlJaW8p73vIf58+eTm5vLhAkTetctXbqUlStXcuKJJzJ79myWLBn+W78GpOrUgzfvcxs990PzXmf60Han0G+O67+XEXbO6iecAPM/6hT4ZbOcBJCVP/jnGGNSXso9s3jRokWa+GCa119/nblz5/oU0ch7fcsW5k4udAry5n1Og2ezW9j33umyz6kvT5RTBGNnuGf1s/reS6YNTxWOMeYdU1W6o0pHJEpHd5TO7hjt3VGKc8OMH3Nst5CKyAZVXTTQOrsiGI1U++7p7tfpxu1Y07gXHrqk/z6hLCic6DR6TpgPMz/kzk92GkULJznzdnZvUlDPCauqc39X77y7zJlW4s9rE5dr3LF6p2MQVSUSixGNKZGoOu8xJabx87He5dG4lzMf613es31XNEZHd9R9OdPtPdORKJ3x8wnbdXRH6Yg4n5foC2fP4Malc4b997VEMJpEu6CtHtrrINLZtzwjs6+jSlYe5LTChT/uX8jnldpdLialqCpN7RFqWzo42NzJoZYuaps7+14tfdOHWzsZoFxMCRkCOeEQOeEQueEQ2eEMcjJD5IQzyM0KUZwbJsddnutul+Nuk5sVIjscIiczg5xwiFkTCj2J0RKB3zQGHY3Offadbv+HcD4UjYds9z56SeiUk9MKc68a8VCNSUZ7V9QtyDvc9yML+EPudFc0dsT+WaEMygqyGFeYzZTiHBZUFFGan01myDnREcTpo+Vu7/TX6jsJ6pns2c6Zdrdz9+pdLkJmhhDK6HsP9c5n9C0Pxa0XITMkhDIyBt03K5RBtlvwh0My6geLtETgl6425977tsPOHToZYSiY4NySGfamG7lJXdGY0h2N0RWNEYk6086r/3TE3aZneqBtBpvuisT6z0djdEcS5ntekb54eo8VidEZjdEVObJwF4HS/CzKCrIZV5jNjHH5jCvMZpw7P64wm/GF2YwryGFMbuaoLzjTjSWCkRSN9BX+kXZAnMbbvFLn7N/++AMpGlMONHVQfbiN6vp2972Nmvp2ag63caC5c8D64uGSmSGEQxmEQ0JWZoY77cyHQxlxy4SC7EyyQhlk9qzr2Tazb74oL9xbwJcVOAX82PwsMkM23MRoZYnAa73j6dQ59+2jzlg4ReWQU+IMqGXSmqpS19pFTVwhX324nZr6NqoPt7GnoZ3uaF9BLwITx+RQUZLHkuNLmViUQ044RGbIqXLIzBDCmf0L68yMDLIyB5/OzMhw9xHC7nSmW4WRkWEnIEFnpdAwGHAY6u4Op9G3rd650ycjE/LLnLP/cN9gcrfeeisrVqwgLy/Ph8jNO9UdjdHaGaG5I0Jjezd7GpzCvibhzL6tq/+YSqX5WZSX5HLClCKWzp9ExdhcKkryqBibx+TiHLIzbQwjM3IsEQyD3mGor1vhDKTWVtc3FEN2kTPsQs6YIxt9cRLBlVdeaYlghMViSktXhJYOpxBv6eymqcOZb+mM0NzRTUtHxFnWM9/Zt32zu6yj+8j6cICC7EzKS3I5rjSfM981rl9BX16SS362/dczo4f9Nb5Tqtz0za+xc+cOFrz7BM5972mMHz+eh/74NJ3dUT7ykY/y3e9+l9bWVi655BJqamqIRqN861vf4sCBA+zdu5f3v//9lJWV8cwzz/j9bdJOa2eENw40s21/M1v3O+9vHGimrrXrqPuKOAV6YXYmhTlhCnIyKcnPomJsHoU5YQpzMp31ve9hJhc7VTrFeWFr8DQpI/0SwZ9ugv2vDu8xJ74blt1y5PJoF9Tv5pavXcPmV15m09+f5sm/V/Lw7//AS+srUVUuuuginn/+eWpra5k8eTL/+7//CzhjEBUVFfGjH/2IZ555hrKysuGNOWAi0Ri761p7C/ue9+r6tt6ORbnhELMmFHDO3PFMLMplTFwBXpDjFOiF2ZnudJi8cMjqz00gpF8iGCkdTdDwltMPoHCSM359cQVPPvNjnnzqKRYuXAhAS0sL27dv56yzzuLrX/86N954IxdccAFnnXWWz18gNakqB5s72bq/ma37mnoL/R21Lb23LWYITCvLZ/6UMXzs5HJmTyxkzsRCpo7Ns4LdmAGkXyIY6Mx9OKk6Y/m0HHAK/5Lp0Lk/brVy8803c+211x6x64YNG1i9ejU333wzH/rQh/j2t7/tbawprr0ryha3sN+2v8k5yz/QTENb35PCJozJZvbEMZw5s4zZEwqZPbGQd40vICdsja3GJCv9EoGXot3OEM1dLU4D8JhyyAj1G4b6vPPO41vf+hZXXHEFBQUF7Nmzh3A4TCQSYezYsVx55ZUUFBRw9913A31DWFvVEHRFYrxc08CaHXWs2XmIyqqG3p6nBdmZzJpQwLL5k5gz0SnwZ08opCQ/y+eojUl9lgiS1dnsJIFYDIqnOreBuuKHoV62bBmXX345p59+OgAFBQX85je/YceOHXzjG98gIyODcDjMz3/+cwBWrFjBsmXLmDRpUuAai6MxZfOeRl7YVceanXWse/Mw7d1RRGD+5CKufs80Fk0by5yJhZSX5FrjqzEesWGoj0YVWvY7Qzxn5jjDNYf9fah8qg67HYspbxxsds/463jxzTqaOyIAzJ5QyOkzSjl9RilLppdSlGdDYhsznGwY6mMV7Yb6t6Cr2RkDqKjcHlb+Nqgqu+vaWLPzEGt21rF2Z13vbZvTSvO44MTJnDGjlCXHlzKuMPsoRzPGeMXTRCAiS4EfAyHgLlW9JWF9CbAKmAF0ANeo6mYvY0paZ7OTBGIRKKqwYZ6TtLehnTU7nTr+F3bWsa/ReT7zxDE5vG/2OM6YUcbpM0qZUuzvVZUxpo9niUBEQsDtwLlADbBORB5T1S1xm/0jsElVPyIic9ztzzmWz1PV4alDVnXuCGreB6Fs5wlePlcFxRuNVXmbqht4cF01L+w8xO46p0f12PwsTp9RyhkzSjljRhnTSvOsjt+YUcrLK4LFwA5V3QUgIg8Ay4H4RDAP+E8AVd0qItNEZIKqHng7H5STk0NdXR2lpaXvrLCJRqBht3M1kFMCxRWjqipIVamrqyMnx/9hqlWVZ9+o5RfP7WTtrsMUZGey5PhSPn36NM54VymzxhfaPfvGpAgvE8EUoDpuvgY4LWGbl4GPAn8TkcXAcUA50C8RiMgKYAXA1KlTj/ig8vJyampqqK2tPfZoI53OGEGxKOSWQHY7HHjj2I/nkZycHMrLy337/Eg0xh9f2cfK53aydX8zk4py+Ofz53Lp4qkU2Pg5xqQkL//nDnQ6mFivcQvwYxHZBLwKVAKRI3ZSvQO4A5y7hhLXh8Nhpk+ffmxRxmKw5ifw53+FkuPgE3fDpJOO7VhprL0ryoPrqrjzr2+yp6GdmeML+MEnTuKikyaTlWnjzBuTyrxMBDVARdx8ObA3fgNVbQKuBhCnTudN9zUy2g7D766D7U/AvOVw0U+dB8WYXvWtXdzzwm7uWbOb+rZuFh1XwncvOoEPzBlvVT/GpAkvE8E6YKaITAf2AJcCl8dvICLFQJuqdgGfA553k4P3qtfBw1c7DcPLvg+LP293BcWpqW/jrr++yYPrqmnvjvLBueO57n0zWDRtrN+hGWOGmWeJQFUjInI98ATO7aOrVPU1EbnOXb8SmAv8SkSiOI3In/UqnrjAYO3P4Klvw5gpcM0TMOVkzz82VWzd38QvntvFYy/vRYDlC6Zw7fuOZ9aEQr9DM8Z4xNPWPVVdDaxOWLYybvoFYKaXMfTTXg+PXg9b/whzLoDlt0Nu8Yh9/Gilqrz45mFWPreTZ7fVkpcV4qozpvHZM6cz2e73NybtBec2j72V8NCnoWkvnPefsOQLga8KisWUJ7ccYOVzO9lU3UBpfhZfO3cWnzr9OIrzbDA3Y4IiOIkg2g0ScqqCygccbiMwOiNRfl+5h188v4tdta1UjM3l35afwCcWVdjwzcYEUHASQcViuH49hILzlRPFYsqqv7/JnX/dxYGmTuZNGsNPLlvIh+dPJDNkt4AaE1TBKhUDnASiMeWbD7/CIxtrOGNGKd//+EmcNbPMhn0wxgQsEQRUJBrj/zz0Mo+9vJf/c+4svnLOyLXPG2NGP0sEaa4rEuOGByr50+b93Lh0Dl84e4bfIRljRhlLBGmsMxLlS/du5OnXD/KtC+bx2TOPcRgOY0xas0SQpjq6o1z76w0890Yt/3bxfD615Di/QzLGjFKWCNJQW1eEz/9qPWt21vG9j72bT5565IitxhjTwxJBmmnpjHDNL9ex/q3D/PATJ/HRk/0bstoYkxosEaSRpo5urlr1Ei/XNPLjSxdy4UmT/Q7JGJMCLBGkiYa2Lj696iVe39fE7ZefzNL5E/0OyRiTIiwRpIHDrV1cedeL7DjYwsorT+GcuRP8DskYk0IsEaS42uZOrrhrLW/VtXHXZxbx3lnj/A7JGJNiLBGksP2NHVx+11r2NXTwy6tO5Yx3lfkdkjEmBVkiSFF7Gtq5/M61HGru5J5rFrN4uj05zBhzbCwRpKDqw21cdudaGtu7+fXnTuPkqSV+h2SMSWGWCFLMm4daufzOtbR3R7nvc0t4d3mR3yEZY1KcJYIUsuNgM5fd+SLRmHLf55Ywb/IYv0MyxqQBSwQpYuv+Jq6480VEhAdWLLGHyRtjho0lghSweU8jn/rvF8nKzOC+zy9hxrgCv0MyxqQRez7hKLepuoHL71xLXlYmD117uiUBY8ywsyuCUWz97sNc9ct1jM3P4r7Pn0Z5SZ7fIRlj0pBdEYxSa3fV8elVLzG+MJsHr11iScAY4xm7IhiFGtu7+cJvNjC5OJf7Pnca48fk+B2SMSaNeXpFICJLRWSbiOwQkZsGWF8kIn8QkZdF5DURudrLeFLFL57bSX1bN7d+coElAWOM5zxLBCISAm4HlgHzgMtEZF7CZl8CtqjqScDZwA9FJMurmFLB/sYOVv39TZYvmMz8KdZZzBjjPS+vCBYDO1R1l6p2AQ8AyxO2UaBQRAQoAA4DEQ9jGvVuffoNojHl6x+a7XcoxpiA8DIRTAGq4+Zr3GXxbgPmAnuBV4EbVDWWeCARWSEi60VkfW1trVfx+m77gWYeWl/NlUuOo2KsNQ4bY0aGl4lABlimCfPnAZuAycAC4DYROWLcBFW9Q1UXqeqicePSd7z9//fENvKyMvnyB2b6HYoxJkC8TAQ1QEXcfDnOmX+8q4HfqmMH8CYwx8OYRq31uw/z1JYDXPe+4xmbH+hmEmPMCPMyEawDZorIdLcB+FLgsYRtqoBzAERkAjAb2OVhTKOSqvKff9rK+MJsrjlzut/hGGMCxrN+BKoaEZHrgSeAELBKVV8Tkevc9SuBfwPuFpFXcaqSblTVQ17FNFo9ueUAG96q5z8+8m7ysqxrhzFmZHla6qjqamB1wrKVcdN7gQ95GcNoF4nG+H+Pb+X4cflcsqjc73CMMQFkQ0z47H821LCztpVvnjeHzJD9cxhjRp6VPD5q74ryX0+9wSnHlXDeCRP8DscYE1CWCHy06u9vcrC5k5uWzcHpU2eMMSPPEoFPDrd2sfLZnXxw7gROnTbW73CMMQFmicAnt/1lB61dEW5cakNJGGP8ZYnAB9WH2/j12t184pQKZtqzh40xPrNE4IMfPrmNDBH+4dxZfodijDGWCEba5j2N/H7TXq45czoTi+xZA8YY/1kiGGHfe3wrxXlhrnvfDL9DMcYYwBLBiPrb9kP8dfshrn//uyjKDfsdjjHGAJYIRkwsptzy+OtMKc7lU6cf53c4xhjTK6lEICKPiMj5ImKJ4xj94ZW9bN7TxNfPm0V2ZsjvcIwxpleyBfvPgcuB7SJyi4gE8pkBx6orEuMHT25j7qQxLD8p8SFtxhjjr6QSgao+rapXACcDu4GnRGSNiFwtIlbZfRT3vvgW1YfbuWnZHDIybCgJY8zoknRVj4iUAlcBnwMqgR/jJIanPIksTTR3dPPTv+zgjBmlvHdmmd/hGGPMEZJ6HoGI/BbnEZK/Bi5U1X3uqgdFZL1XwaWDO57fxeHWLhtYzhgzaiX7YJrbVPUvA61Q1UXDGE9aOdjUwV1/fZMLTpzEieXFfodjjDEDSrZqaK6IFPfMiEiJiHzRm5DSx61/3k53NMY3zrOB5Ywxo1eyieDzqtrQM6Oq9cDnPYkoTeysbeHBddVccdpUjivN9zscY4wZVLKJIEPiKrhFJARkeRNSevj+49vIyczgy+fM9DsUY4wZUrKJ4AngIRE5R0Q+ANwPPO5dWKltY1U9j7+2n2vfN4Oygmy/wzHGmCEl21h8I3At8AVAgCeBu7wKKpWpKres3kpZQTafPXO63+EYY8xRJZUIVDWG07v4596Gk/r+svUgL+0+zL9fPJ/87GTzrDHG+CfZfgQzgf8E5gG9g+ir6vEexZWSojHle49v5fiyfD55aoXf4RhjTFKSbSP4Jc7VQAR4P/ArnM5lQxKRpSKyTUR2iMhNA6z/hohscl+bRSQqIin7JPdHNtTwxoEWvnHebMIhG5/PGJMaki2tclX1z4Co6luq+i/AB4bawb2z6HZgGc6VxGUiMi9+G1X9vqouUNUFwM3Ac6p6+G1+h1GhozvKj556gwUVxSydP9HvcIwxJmnJVmJ3uENQbxeR64E9wPij7LMY2KGquwBE5AFgObBlkO0vw7kbKSX98u+72d/Uwa2XLrChJIwxKSXZK4KvAnnAV4BTgCuBzxxlnylAddx8jbvsCCKSBywFHhlk/QoRWS8i62tra5MMeeQ0tHXxs2d38IE541lyfKnf4RhjzNty1ETgVvFcoqotqlqjqler6sdUde3Rdh1gmQ6y7YXA3werFlLVO1R1kaouGjdu3NFCHnG3P7OD1s4INy61xzQYY1LPUROBqkaBU+Tt13fUAPG3zpQDewfZ9lJStFqopr6Ne9a8xcdOLmf2xEK/wzHGmLct2TaCSuBREfkfoLVnoar+doh91gEzRWQ6TpvCpThPOetHRIqA9+FUN6WcVX/bDQL/cO4sv0MxxphjkmwiGAvU0f9OIQUGTQSqGnEblp8AQsAqVX1NRK5z1690N/0I8KSqtg5yqFHtpd11LJ42lsnFuX6HYowxxyTZnsVXH8vBVXU1sDph2cqE+buBu4/l+H5r74ry+r5mvnj2DL9DMcaYY5Zsz+JfMkBDr6peM+wRpZBX9zQSjSkLpxb7HYoxxhyzZKuG/hg3nYNTnTNYw29gbKyqB2BBRYnPkRhjzLFLtmqo3/39InI/8LQnEaWQyqp6ppXmMTbfHs1gjEldxzogzkxg6nAGkmpUlY1VDSycalcDxpjUlmwbQTP92wj24zyjILD2NnZQ29xp7QPGmJSXbNWQ9ZRKUOm2Dyy09gFjTIpLqmpIRD7idvzqmS8WkYs9iyoFVFY1kJ2ZwZxJliONMakt2TaC76hqY8+MqjYA3/EkohRRWVXPieVF9twBY0zKS7YUG2i7wD6HsTMSZfPeJmsoNsakhWQTwXoR+ZGIzBCR40Xkv4ANXgY2mr2+r5muSIyFFcV+h2KMMe9Ysongy0AX8CDwENAOfMmroEa73oZiuyIwxqSBZO8aagWOeOZwUFVWNTCpKIeJRTl+h2KMMe9YsncNPSUixXHzJSLyhGdRjXKV1fXWf8AYkzaSrRoqc+8UAkBV6zn6M4vTUm1zJ9WH263/gDEmbSSbCGIi0jukhIhMY/DHTqa1TdUNAHZFYIxJG8neAvpPwN9E5Dl3/r3ACm9CGt0qq+rJzBDmTyk6+sbGGJMCkm0sflxEFuEU/puAR3HuHAqcyqoG5k0eQ0445HcoxhgzLJIddO5zwA04D6DfBCwBXqD/oyvTXjSmvFzTwCWLKvwOxRhjhk2ybQQ3AKcCb6nq+4GFQK1nUY1S2/Y309YVtfYBY0xaSTYRdKhqB4CIZKvqVmC2d2GNTpXVNuKoMSb9JNtYXOP2I/g98JSI1BPAR1VWVjVQmp9Fxdhcv0Mxxphhk2xj8UfcyX8RkWeAIuBxz6IapSqrnI5kIuJ3KMYYM2ze9giiqvrc0bdKP41t3eysbeWjJ5f7HYoxxgwrG0w/SZtqGgBsxFFjTNrxNBGIyFIR2SYiO0RkwEHrRORsEdkkIq/FdVgbdSqr6hGBEy0RGGPSjGcPlxGREHA7cC5QA6wTkcdUdUvcNsXAz4ClqlolIqN2/KLKqgZmTyikIDuwz+MxxqQpL68IFgM7VHWXqnYBDwDLE7a5HPitqlYBqOpBD+M5ZrGYsqm6wfoPGGPSkpeJYApQHTdf4y6LNwsoEZFnRWSDiHzaw3iO2Zt1rTS2d1v/AWNMWvKynmOgeywTRyzNBE4BzgFygRdEZK2qvtHvQCIrcAe5mzp1KiOtsqoBsBFHjTHpycsrghogflCeco7shFYDPK6qrap6CHgeOCnxQKp6h6ouUtVF48aN8yzgwVRW1VOYncmMcQUj/tnGGOM1LxPBOmCmiEwXkSzgUuCxhG0eBc4SkUwRyQNOA173MKZjUlnVwIKpxWRkWEcyY0z68SwRqGoEuB54Aqdwf0hVXxOR60TkOneb13F6KL8CvATcpaqbvYrpWLR1Rdi6v8n6Dxhj0pan90Kq6mpgdcKylQnz3we+72Uc78QrNY3EFBZOtYZiY0x6sp7FR9HTULzArgiMMWnKEsFRVFbVM70sn5L8LL9DMcYYT1giGIKqsrGqwdoHjDFpzRLBEGrq2znU0mn9B4wxac0SwRAqqxsAayg2xqQ3SwRDqKyqJyecweyJhX6HYowxnrFEMITKqgZOLC8mHLKfyRiTvqyEG0RnJMqWvU3WPmCMSXuWCAbx2t4muqIxG3HUGJP2LBEMwkYcNcYEhSWCQVRW1TOlOJcJY3L8DsUYYzxliWAQPSOOGmNMurNEMICDTR3saWi3HsXGmECwRDAA60hmjAkSSwQDqKxqIBwSTpg8xu9QjDHGc5YIBlBZVc+8yUXkhEN+h2KMMZ6zRJAgEo3xSk2jtQ8YYwLDEkGCbQeaae+OWv8BY0xgWCJI0NOR7GRrKDbGBIQlggQbq+opK8iivCTX71CMMWZEWCJIsKmqgQUVJYiI36EYY8yIsEQQp761i12HWq19wBgTKJYI4myqaQBsoDljTLBYIohTWdVAhsCJ5cV+h2KMMSPGEkGcyqp6Zk0opCA70+9QjDFmxHiaCERkqYhsE5EdInLTAOvPFpFGEdnkvr7tZTxDicWUTdUNNr6QMSZwPDv1FZEQcDtwLlADrBORx1R1S8Kmf1XVC7yKI1m7DrXQ3BGx9gFjTOB4eUWwGNihqrtUtQt4AFju4ee9Ixt7O5IV+xqHMcaMNC8TwRSgOm6+xl2W6HQReVlE/iQiJwx0IBFZISLrRWR9bW2tF7FSWdXAmJxMji8r8OT4xhgzWnmZCAbqkaUJ8xuB41T1JOCnwO8HOpCq3qGqi1R10bhx44Y3SldlVT0LppaQkWEdyYwxweJlIqgBKuLmy4G98RuoapOqtrjTq4GwiJR5GNOAWjojvHGg2UYcNcYEkpeJYB0wU0Smi0gWcCnwWPwGIjJR3LEcRGSxG0+dhzEN6JWaBmJqHcmMMcHk2V1DqhoRkeuBJ4AQsEpVXxOR69z1K4GPA18QkQjQDlyqqonVR57rGXF0gV0RGGMCyNOeU251z+qEZSvjpm8DbvMyhmRUVjVw/Lh8ivOy/A7FGGNGXOB7Fqsqm6rrWVhhHcmMMcEU+ERQU9/OoZYuax8wxgRW4BPBxqp6wBqKjTHBFfhEUFnVQG44xOwJhX6HYowxvrBEUFXPieVFZIYC/1MYYwIq0KVfR3eU1/Y22YijxphAC3QieG1vI5GYWvuAMSbQAp0IejqS2dASxpggC3wimFKcy/gxOX6HYowxvgl4Iqi3aiFjTOAFNhHsb+xgb2OHNRQbYwIvsIlgU7V1JDPGGAhwIqisaiArlMEJk8f4HYoxxvgq0Ilg3uQxZGeG/A7FGGN8FchE0B2N8cqeBqsWMsYYApoItu1vpqM7Zg3FxhhDQBNBpTvi6Ml2RWCMMUFNBA2MK8xmSnGu36EYY4zvgpkIqhtYWFGMiPgdijHG+C5wieBwaxdvHmq19gFjjHEFLhFYRzJjjOkvcImgsqqBDIETy4v8DsUYY0aFQCaCORPHkJeV6XcoxhgzKgQqEURjyqZq60hmjDHxPE0EIrJURLaJyA4RuWmI7U4VkaiIfNzLeHbWttDSGbGGYmOMieNZIhCREHA7sAyYB1wmIvMG2e57wBNexdKjpyOZXREYY0wfL68IFgM7VHWXqnYBDwDLB9juy8AjwEEPYwGc9oGi3DDTS/O9/ihjjEkZXiaCKUB13HyNu6yXiEwBPgKsHOpAIrJCRNaLyPra2tpjDqiyqoEFFcVkZFhHMmOM6eFlIhiotNWE+VuBG1U1OtSBVPUOVV2kqovGjRt3TME0d3TzxsFmqxYyxpgEXt5DWQNUxM2XA3sTtlkEPOAO9VAGfFhEIqr6++EO5pWaRlSxhmJjjEngZSJYB8wUkenAHuBS4PL4DVR1es+0iNwN/NGLJACQlZnBB+aMZ0F5sReHN8aYlOVZIlDViIhcj3M3UAhYpaqvich17voh2wWG26nTxnLqVWNH8iONMSYleNq9VlVXA6sTlg2YAFT1Ki9jMcYYM7BA9Sw2xhhzJEsExhgTcJYIjDEm4CwRGGNMwFkiMMaYgLNEYIwxAWeJwBhjAk5UE4f/Gd1EpBZ46xh3LwMODWM4XkuleFMpVkiteFMpVkiteFMpVnhn8R6nqgMO1pZyieCdEJH1qrrI7ziSlUrxplKskFrxplKskFrxplKs4F28VjVkjDEBZ4nAGGMCLmiJ4A6/A3ibUineVIoVUiveVIoVUiveVIoVPIo3UG0ExhhjjhS0KwJjjDEJLBEYY0zABSYRiMhSEdkmIjtE5Ca/4xmMiFSIyDMi8rqIvCYiN/gdUzJEJCQilSLyR79jGYqIFIvIwyKy1f2NT/c7pqGIyD+4fwebReR+EcnxO6Z4IrJKRA6KyOa4ZWNF5CkR2e6+j4rnww4S6/fdv4VXROR3IlLsY4j9DBRv3Lqvi4iKSNlwfFYgEoGIhIDbgWXAPOAyEZnnb1SDigBfU9W5wBLgS6M41ng3AK/7HUQSfgw8rqpzgJMYxTGLyBTgK8AiVZ2P86S/S/2N6gh3A0sTlt0E/FlVZwJ/dudHg7s5MtangPmqeiLwBnDzSAc1hLs5Ml5EpAI4F6garg8KRCIAFgM7VHWXqnYBDwDLfY5pQKq6T1U3utPNOAXVFH+jGpqIlAPnA3f5HctQRGQM8F7gvwFUtUtVG3wN6ugygVwRyQTygL0+x9OPqj4PHE5YvBy4x52+B7h4JGMazECxquqTqhpxZ9cC5SMe2CAG+W0B/gv4JjBsd/oEJRFMAarj5msY5YUrgIhMAxYCL/ocytHcivOHGfM5jqM5HqgFfulWY90lIvl+BzUYVd0D/ADnzG8f0KiqT/obVVImqOo+cE5sgPE+x5Osa4A/+R3EUETkImCPqr48nMcNSiKQAZaN6vtmRaQAeAT4qqo2+R3PYETkAuCgqm7wO5YkZAInAz9X1YVAK6On2uIIbt36cmA6MBnIF5Er/Y0qPYnIP+FUy97rdyyDEZE84J+Abw/3sYOSCGqAirj5ckbZJXY8EQnjJIF7VfW3fsdzFO8BLhKR3ThVbh8Qkd/4G9KgaoAaVe25wnoYJzGMVh8E3lTVWlXtBn4LnOFzTMk4ICKTANz3gz7HMyQR+QxwAXCFju6OVTNwTgpedv+/lQMbRWTiOz1wUBLBOmCmiEwXkSycBrfHfI5pQCIiOHXYr6vqj/yO52hU9WZVLVfVaTi/619UdVSetarqfqBaRGa7i84BtvgY0tFUAUtEJM/9uziHUdy4Hecx4DPu9GeAR32MZUgishS4EbhIVdv8jmcoqvqqqo5X1Wnu/7ca4GT37/odCUQicBuDrgeewPmP9JCqvuZvVIN6D/ApnDPrTe7rw34HlUa+DNwrIq8AC4D/8DecwblXLg8DG4FXcf6/jqohEUTkfuAFYLaI1IjIZ4FbgHNFZDvO3S23+Bljj0FivQ0oBJ5y/6+t9DXIOIPE681nje4rIWOMMV4LxBWBMcaYwVkiMMaYgLNEYIwxAWeJwBhjAs4SgTHGBJwlAmNGkIicPdpHaDXBY4nAGGMCzhKBMQMQkStF5CW3k9Ev3OcttIjID0Vko4j8WUTGudsuEJG1cWPal7jL3yUiT4vIy+4+M9zDF8Q9E+Fet9ewMb6xRGBMAhGZC3wSeI+qLgCiwBVAPrBRVU8GngO+4+7yK+BGd0z7V+OW3wvcrqon4YwRtM9dvhD4Ks6zMY7H6U1ujG8y/Q7AmFHoHOAUYJ17sp6LM3BaDHjQ3eY3wG9FpAgoVtXn3OX3AP8jIoXAFFX9HYCqdgC4x3tJVWvc+U3ANOBvnn8rYwZhicCYIwlwj6r2e1qViHwrYbuhxmcZqrqnM246iv0/ND6zqiFjjvRn4OMiMh56n8F7HM7/l4+721wO/E1VG4F6ETnLXf4p4Dn3GRI1InKxe4xsdzx5Y0YdOxMxJoGqbhGRfwaeFJEMoBv4Es6DbE4QkQ1AI047AjhDLa90C/pdwNXu8k8BvxCRf3WP8YkR/BrGJM1GHzUmSSLSoqoFfsdhzHCzqiFjjAk4uyIwxpiAsysCY4wJOEsExhgTcJYIjDEm4CwRGGNMwFkiMMaYgPv/c1mOsiHl448AAAAASUVORK5CYII=/n",
      "text/plain": [
       "<Figure size 432x288 with 1 Axes>"
      ]
     },
     "metadata": {
      "needs_background": "light"
     },
     "output_type": "display_data"
    }
   ],
   "source": [
    "plt.plot(Entrainement.history['accuracy'])/n",
    "plt.plot(Entrainement.history['val_accuracy'])/n",
    "plt.title('model accuracy')/n",
    "plt.ylabel('accuracy')/n",
    "plt.xlabel('epoch')/n",
    "plt.legend(['train', 'test'], loc=/"upper left/")/n",
    "plt.show()"
   ]
  },
  {
   "cell_type": "markdown",
   "id": "fb684947",
   "metadata": {},
   "source": [
    "# LOSS"
   ]
  },
  {
   "cell_type": "code",
   "execution_count": 94,
   "id": "f9388939",
   "metadata": {},
   "outputs": [
    {
     "data": {
      "image/png": "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/n",
      "text/plain": [
       "<Figure size 432x288 with 1 Axes>"
      ]
     },
     "metadata": {
      "needs_background": "light"
     },
     "output_type": "display_data"
    }
   ],
   "source": [
    "plt.plot(Entrainement.history['loss'])/n",
    "plt.plot(Entrainement.history['val_loss'])/n",
    "plt.title('model losss')/n",
    "plt.ylabel('loss')/n",
    "plt.xlabel('epoch')/n",
    "plt.legend(['train', 'test'], loc=/"upper left/")/n",
    "plt.show()"
   ]
  },
  {
   "cell_type": "code",
   "execution_count": 95,
   "id": "ed31adc8",
   "metadata": {},
   "outputs": [],
   "source": [
    "y_Entrainement_predict = model.predict(X_train)/n",
    "y_pred = [np.argmax(y_Entrainement_predict, axis=-1)]"
   ]
  },
  {
   "cell_type": "code",
   "execution_count": 96,
   "id": "bca16d6e",
   "metadata": {},
   "outputs": [
    {
     "data": {
      "text/plain": [
       "[array([2, 3, 6, ..., 1, 8, 0], dtype=int64)]"
      ]
     },
     "execution_count": 96,
     "metadata": {},
     "output_type": "execute_result"
    }
   ],
   "source": [
    "y_pred"
   ]
  },
  {
   "cell_type": "markdown",
   "id": "a614a0ee",
   "metadata": {},
   "source": [
    "# POUR LE DEPLOIEMENT"
   ]
  },
  {
   "cell_type": "code",
   "execution_count": 110,
   "id": "fb52d9ba",
   "metadata": {},
   "outputs": [],
   "source": [
    "tf.keras.models.save_model(model,'my_model2.hdf5')"
   ]
  },
  {
   "cell_type": "code",
   "execution_count": 111,
   "id": "0c64fef3",
   "metadata": {},
   "outputs": [
    {
     "name": "stdout",
     "output_type": "stream",
     "text": [
      "Requirement already satisfied: streamlit in c://users//simplon//anaconda3//lib//site-packages (1.1.0)/n",
      "Requirement already satisfied: altair>=3.2.0 in c://users//simplon//anaconda3//lib//site-packages (from streamlit) (4.1.0)/n",
      "Requirement already satisfied: blinker in c://users//simplon//anaconda3//lib//site-packages (from streamlit) (1.4)/n",
      "Requirement already satisfied: requests in c://users//simplon//anaconda3//lib//site-packages (from streamlit) (2.25.1)/n",
      "Requirement already satisfied: tornado>=5.0 in c://users//simplon//anaconda3//lib//site-packages (from streamlit) (6.1)/n",
      "Requirement already satisfied: python-dateutil in c://users//simplon//anaconda3//lib//site-packages (from streamlit) (2.8.1)/n",
      "Requirement already satisfied: astor in c://users//simplon//anaconda3//lib//site-packages (from streamlit) (0.8.1)/n",
      "Requirement already satisfied: packaging in c://users//simplon//anaconda3//lib//site-packages (from streamlit) (20.9)/n",
      "Requirement already satisfied: gitpython!=3.1.19 in c://users//simplon//anaconda3//lib//site-packages (from streamlit) (3.1.24)/n",
      "Requirement already satisfied: protobuf!=3.11,>=3.6.0 in c://users//simplon//anaconda3//lib//site-packages (from streamlit) (3.17.3)/n",
      "Requirement already satisfied: pydeck>=0.1.dev5 in c://users//simplon//anaconda3//lib//site-packages (from streamlit) (0.7.1)/n",
      "Requirement already satisfied: tzlocal in c://users//simplon//anaconda3//lib//site-packages (from streamlit) (4.0.1)/n",
      "Requirement already satisfied: pillow>=6.2.0 in c://users//simplon//anaconda3//lib//site-packages (from streamlit) (8.2.0)/n",
      "Requirement already satisfied: pyarrow in c://users//simplon//anaconda3//lib//site-packages (from streamlit) (5.0.0)/n",
      "Requirement already satisfied: click<8.0,>=7.0 in c://users//simplon//anaconda3//lib//site-packages (from streamlit) (7.1.2)/n",
      "Requirement already satisfied: watchdog in c://users//simplon//anaconda3//lib//site-packages (from streamlit) (1.0.2)/n",
      "Requirement already satisfied: numpy in c://users//simplon//anaconda3//lib//site-packages (from streamlit) (1.19.5)/n",
      "Requirement already satisfied: cachetools>=4.0 in c://users//simplon//anaconda3//lib//site-packages (from streamlit) (4.2.4)/n",
      "Requirement already satisfied: toml in c://users//simplon//anaconda3//lib//site-packages (from streamlit) (0.10.2)/n",
      "Requirement already satisfied: base58 in c://users//simplon//anaconda3//lib//site-packages (from streamlit) (2.1.0)/n",
      "Requirement already satisfied: validators in c://users//simplon//anaconda3//lib//site-packages (from streamlit) (0.18.2)/n",
      "Requirement already satisfied: pandas>=0.21.0 in c://users//simplon//anaconda3//lib//site-packages (from streamlit) (1.3.4)/n",
      "Requirement already satisfied: attrs in c://users//simplon//anaconda3//lib//site-packages (from streamlit) (20.3.0)/n",
      "Requirement already satisfied: toolz in c://users//simplon//anaconda3//lib//site-packages (from altair>=3.2.0->streamlit) (0.11.1)/n",
      "Requirement already satisfied: entrypoints in c://users//simplon//anaconda3//lib//site-packages (from altair>=3.2.0->streamlit) (0.3)/n",
      "Requirement already satisfied: jinja2 in c://users//simplon//anaconda3//lib//site-packages (from altair>=3.2.0->streamlit) (2.11.3)/n",
      "Requirement already satisfied: jsonschema in c://users//simplon//anaconda3//lib//site-packages (from altair>=3.2.0->streamlit) (3.2.0)/n",
      "Requirement already satisfied: typing-extensions>=3.7.4.3 in c://users//simplon//anaconda3//lib//site-packages (from gitpython!=3.1.19->streamlit) (3.7.4.3)/n",
      "Requirement already satisfied: gitdb<5,>=4.0.1 in c://users//simplon//anaconda3//lib//site-packages (from gitpython!=3.1.19->streamlit) (4.0.9)/n",
      "Requirement already satisfied: smmap<6,>=3.0.1 in c://users//simplon//anaconda3//lib//site-packages (from gitdb<5,>=4.0.1->gitpython!=3.1.19->streamlit) (5.0.0)/n",
      "Requirement already satisfied: pytz>=2017.3 in c://users//simplon//anaconda3//lib//site-packages (from pandas>=0.21.0->streamlit) (2021.1)/n",
      "Requirement already satisfied: six>=1.9 in c://users//simplon//anaconda3//lib//site-packages (from protobuf!=3.11,>=3.6.0->streamlit) (1.15.0)/n",
      "Requirement already satisfied: traitlets>=4.3.2 in c://users//simplon//anaconda3//lib//site-packages (from pydeck>=0.1.dev5->streamlit) (5.0.5)/n",
      "Requirement already satisfied: ipykernel>=5.1.2 in c://users//simplon//anaconda3//lib//site-packages (from pydeck>=0.1.dev5->streamlit) (5.3.4)/n",
      "Requirement already satisfied: ipywidgets>=7.0.0 in c://users//simplon//anaconda3//lib//site-packages (from pydeck>=0.1.dev5->streamlit) (7.6.3)/n",
      "Requirement already satisfied: jupyter-client in c://users//simplon//anaconda3//lib//site-packages (from ipykernel>=5.1.2->pydeck>=0.1.dev5->streamlit) (6.1.12)/n",
      "Requirement already satisfied: ipython>=5.0.0 in c://users//simplon//anaconda3//lib//site-packages (from ipykernel>=5.1.2->pydeck>=0.1.dev5->streamlit) (7.22.0)/n",
      "Requirement already satisfied: setuptools>=18.5 in c://users//simplon//anaconda3//lib//site-packages (from ipython>=5.0.0->ipykernel>=5.1.2->pydeck>=0.1.dev5->streamlit) (52.0.0.post20210125)/n",
      "Requirement already satisfied: decorator in c://users//simplon//anaconda3//lib//site-packages (from ipython>=5.0.0->ipykernel>=5.1.2->pydeck>=0.1.dev5->streamlit) (5.0.6)/n",
      "Requirement already satisfied: backcall in c://users//simplon//anaconda3//lib//site-packages (from ipython>=5.0.0->ipykernel>=5.1.2->pydeck>=0.1.dev5->streamlit) (0.2.0)/n",
      "Requirement already satisfied: jedi>=0.16 in c://users//simplon//anaconda3//lib//site-packages (from ipython>=5.0.0->ipykernel>=5.1.2->pydeck>=0.1.dev5->streamlit) (0.17.2)/n",
      "Requirement already satisfied: prompt-toolkit!=3.0.0,!=3.0.1,<3.1.0,>=2.0.0 in c://users//simplon//anaconda3//lib//site-packages (from ipython>=5.0.0->ipykernel>=5.1.2->pydeck>=0.1.dev5->streamlit) (3.0.17)/n",
      "Requirement already satisfied: colorama in c://users//simplon//anaconda3//lib//site-packages (from ipython>=5.0.0->ipykernel>=5.1.2->pydeck>=0.1.dev5->streamlit) (0.4.4)/n",
      "Requirement already satisfied: pygments in c://users//simplon//anaconda3//lib//site-packages (from ipython>=5.0.0->ipykernel>=5.1.2->pydeck>=0.1.dev5->streamlit) (2.8.1)/n",
      "Requirement already satisfied: pickleshare in c://users//simplon//anaconda3//lib//site-packages (from ipython>=5.0.0->ipykernel>=5.1.2->pydeck>=0.1.dev5->streamlit) (0.7.5)/n",
      "Requirement already satisfied: widgetsnbextension~=3.5.0 in c://users//simplon//anaconda3//lib//site-packages (from ipywidgets>=7.0.0->pydeck>=0.1.dev5->streamlit) (3.5.1)/n",
      "Requirement already satisfied: jupyterlab-widgets>=1.0.0 in c://users//simplon//anaconda3//lib//site-packages (from ipywidgets>=7.0.0->pydeck>=0.1.dev5->streamlit) (1.0.0)/n",
      "Requirement already satisfied: nbformat>=4.2.0 in c://users//simplon//anaconda3//lib//site-packages (from ipywidgets>=7.0.0->pydeck>=0.1.dev5->streamlit) (5.1.3)/n",
      "Requirement already satisfied: parso<0.8.0,>=0.7.0 in c://users//simplon//anaconda3//lib//site-packages (from jedi>=0.16->ipython>=5.0.0->ipykernel>=5.1.2->pydeck>=0.1.dev5->streamlit) (0.7.0)/n",
      "Requirement already satisfied: MarkupSafe>=0.23 in c://users//simplon//anaconda3//lib//site-packages (from jinja2->altair>=3.2.0->streamlit) (1.1.1)/n",
      "Requirement already satisfied: ipython-genutils in c://users//simplon//anaconda3//lib//site-packages (from nbformat>=4.2.0->ipywidgets>=7.0.0->pydeck>=0.1.dev5->streamlit) (0.2.0)/n",
      "Requirement already satisfied: jupyter-core in c://users//simplon//anaconda3//lib//site-packages (from nbformat>=4.2.0->ipywidgets>=7.0.0->pydeck>=0.1.dev5->streamlit) (4.7.1)/n",
      "Requirement already satisfied: pyrsistent>=0.14.0 in c://users//simplon//anaconda3//lib//site-packages (from jsonschema->altair>=3.2.0->streamlit) (0.17.3)/n",
      "Requirement already satisfied: wcwidth in c://users//simplon//anaconda3//lib//site-packages (from prompt-toolkit!=3.0.0,!=3.0.1,<3.1.0,>=2.0.0->ipython>=5.0.0->ipykernel>=5.1.2->pydeck>=0.1.dev5->streamlit) (0.2.5)/n",
      "Requirement already satisfied: notebook>=4.4.1 in c://users//simplon//anaconda3//lib//site-packages (from widgetsnbextension~=3.5.0->ipywidgets>=7.0.0->pydeck>=0.1.dev5->streamlit) (6.3.0)/n",
      "Requirement already satisfied: pyzmq>=17 in c://users//simplon//anaconda3//lib//site-packages (from notebook>=4.4.1->widgetsnbextension~=3.5.0->ipywidgets>=7.0.0->pydeck>=0.1.dev5->streamlit) (20.0.0)/n",
      "Requirement already satisfied: Send2Trash>=1.5.0 in c://users//simplon//anaconda3//lib//site-packages (from notebook>=4.4.1->widgetsnbextension~=3.5.0->ipywidgets>=7.0.0->pydeck>=0.1.dev5->streamlit) (1.5.0)/n",
      "Requirement already satisfied: prometheus-client in c://users//simplon//anaconda3//lib//site-packages (from notebook>=4.4.1->widgetsnbextension~=3.5.0->ipywidgets>=7.0.0->pydeck>=0.1.dev5->streamlit) (0.10.1)/n",
      "Requirement already satisfied: argon2-cffi in c://users//simplon//anaconda3//lib//site-packages (from notebook>=4.4.1->widgetsnbextension~=3.5.0->ipywidgets>=7.0.0->pydeck>=0.1.dev5->streamlit) (20.1.0)/n",
      "Requirement already satisfied: nbconvert in c://users//simplon//anaconda3//lib//site-packages (from notebook>=4.4.1->widgetsnbextension~=3.5.0->ipywidgets>=7.0.0->pydeck>=0.1.dev5->streamlit) (6.0.7)/n",
      "Requirement already satisfied: terminado>=0.8.3 in c://users//simplon//anaconda3//lib//site-packages (from notebook>=4.4.1->widgetsnbextension~=3.5.0->ipywidgets>=7.0.0->pydeck>=0.1.dev5->streamlit) (0.9.4)/n",
      "Requirement already satisfied: pywin32>=1.0 in c://users//simplon//anaconda3//lib//site-packages (from jupyter-core->nbformat>=4.2.0->ipywidgets>=7.0.0->pydeck>=0.1.dev5->streamlit) (227)/n",
      "Requirement already satisfied: pywinpty>=0.5 in c://users//simplon//anaconda3//lib//site-packages (from terminado>=0.8.3->notebook>=4.4.1->widgetsnbextension~=3.5.0->ipywidgets>=7.0.0->pydeck>=0.1.dev5->streamlit) (0.5.7)/n",
      "Requirement already satisfied: cffi>=1.0.0 in c://users//simplon//anaconda3//lib//site-packages (from argon2-cffi->notebook>=4.4.1->widgetsnbextension~=3.5.0->ipywidgets>=7.0.0->pydeck>=0.1.dev5->streamlit) (1.14.5)/n",
      "Requirement already satisfied: pycparser in c://users//simplon//anaconda3//lib//site-packages (from cffi>=1.0.0->argon2-cffi->notebook>=4.4.1->widgetsnbextension~=3.5.0->ipywidgets>=7.0.0->pydeck>=0.1.dev5->streamlit) (2.20)/n",
      "Requirement already satisfied: bleach in c://users//simplon//anaconda3//lib//site-packages (from nbconvert->notebook>=4.4.1->widgetsnbextension~=3.5.0->ipywidgets>=7.0.0->pydeck>=0.1.dev5->streamlit) (3.3.0)/n",
      "Requirement already satisfied: defusedxml in c://users//simplon//anaconda3//lib//site-packages (from nbconvert->notebook>=4.4.1->widgetsnbextension~=3.5.0->ipywidgets>=7.0.0->pydeck>=0.1.dev5->streamlit) (0.7.1)/n",
      "Requirement already satisfied: pandocfilters>=1.4.1 in c://users//simplon//anaconda3//lib//site-packages (from nbconvert->notebook>=4.4.1->widgetsnbextension~=3.5.0->ipywidgets>=7.0.0->pydeck>=0.1.dev5->streamlit) (1.4.3)/n",
      "Requirement already satisfied: testpath in c://users//simplon//anaconda3//lib//site-packages (from nbconvert->notebook>=4.4.1->widgetsnbextension~=3.5.0->ipywidgets>=7.0.0->pydeck>=0.1.dev5->streamlit) (0.4.4)/n",
      "Requirement already satisfied: nbclient<0.6.0,>=0.5.0 in c://users//simplon//anaconda3//lib//site-packages (from nbconvert->notebook>=4.4.1->widgetsnbextension~=3.5.0->ipywidgets>=7.0.0->pydeck>=0.1.dev5->streamlit) (0.5.3)/n",
      "Requirement already satisfied: mistune<2,>=0.8.1 in c://users//simplon//anaconda3//lib//site-packages (from nbconvert->notebook>=4.4.1->widgetsnbextension~=3.5.0->ipywidgets>=7.0.0->pydeck>=0.1.dev5->streamlit) (0.8.4)/n",
      "Requirement already satisfied: jupyterlab-pygments in c://users//simplon//anaconda3//lib//site-packages (from nbconvert->notebook>=4.4.1->widgetsnbextension~=3.5.0->ipywidgets>=7.0.0->pydeck>=0.1.dev5->streamlit) (0.1.2)/n",
      "Requirement already satisfied: async-generator in c://users//simplon//anaconda3//lib//site-packages (from nbclient<0.6.0,>=0.5.0->nbconvert->notebook>=4.4.1->widgetsnbextension~=3.5.0->ipywidgets>=7.0.0->pydeck>=0.1.dev5->streamlit) (1.10)/n",
      "Requirement already satisfied: nest-asyncio in c://users//simplon//anaconda3//lib//site-packages (from nbclient<0.6.0,>=0.5.0->nbconvert->notebook>=4.4.1->widgetsnbextension~=3.5.0->ipywidgets>=7.0.0->pydeck>=0.1.dev5->streamlit) (1.5.1)/n",
      "Requirement already satisfied: webencodings in c://users//simplon//anaconda3//lib//site-packages (from bleach->nbconvert->notebook>=4.4.1->widgetsnbextension~=3.5.0->ipywidgets>=7.0.0->pydeck>=0.1.dev5->streamlit) (0.5.1)/n",
      "Requirement already satisfied: pyparsing>=2.0.2 in c://users//simplon//anaconda3//lib//site-packages (from packaging->streamlit) (2.4.7)/n",
      "Requirement already satisfied: chardet<5,>=3.0.2 in c://users//simplon//anaconda3//lib//site-packages (from requests->streamlit) (4.0.0)/n",
      "Requirement already satisfied: urllib3<1.27,>=1.21.1 in c://users//simplon//anaconda3//lib//site-packages (from requests->streamlit) (1.26.4)/n",
      "Requirement already satisfied: certifi>=2017.4.17 in c://users//simplon//anaconda3//lib//site-packages (from requests->streamlit) (2020.12.5)/n",
      "Requirement already satisfied: idna<3,>=2.5 in c://users//simplon//anaconda3//lib//site-packages (from requests->streamlit) (2.10)/n",
      "Requirement already satisfied: tzdata in c://users//simplon//anaconda3//lib//site-packages (from tzlocal->streamlit) (2021.5)/n",
      "Requirement already satisfied: backports.zoneinfo in c://users//simplon//anaconda3//lib//site-packages (from tzlocal->streamlit) (0.2.1)/n",
      "Requirement already satisfied: pytz-deprecation-shim in c://users//simplon//anaconda3//lib//site-packages (from tzlocal->streamlit) (0.1.0.post0)/n"
     ]
    }
   ],
   "source": [
    "!pip install streamlit"
   ]
  },
  {
   "cell_type": "code",
   "execution_count": 2,
   "id": "89fbcdca",
   "metadata": {},
   "outputs": [
    {
     "name": "stdout",
     "output_type": "stream",
     "text": [
      "Writing app.py/n"
     ]
    }
   ],
   "source": [
    "%%writefile app.py/n",
    "import streamlit as st/n",
    "/n",
    "/n",
    "st.set_option('depreciation.showileUploaderEncoding', False)/n",
    "@st.cache(allow_output_mutation=True)/n",
    "def load_model():/n",
    "    model=tf.keras.models.load_model('/content/my_model2.hdf5')/n",
    "    return model/n",
    "model=load_model()/n",
    "st.write(/"/"/"/n",
    "        # Number Classification/n",
    "         /"/"/")/n",
    "/n",
    "file = st.file_uploader(/"Please upload an number image/", type=[/"jpg/", /"png/"])/n",
    "/n",
    "import cv2/n",
    "from PIL import Image, ImageOps/n",
    "from numpy as np/n",
    "def import_and_predict(image_data, model):/n",
    "    /n",
    "    size = (180,180)/n",
    "    image = ImageOps.fit(image_data, size, Image.ANTIALIAS)/n",
    "    img = np.asarray(image)/n",
    "    img_reshape = img[np.newaxis,...]/n",
    "    predciction = model.predict(img_reshape)/n",
    "    /n",
    "    return prediction/n",
    "if file is None:/n",
    "    st.text(/"Please upload an image file/")/n",
    "else:/n",
    "    image = Image.open(file)/n",
    "    st.image(image, use_column_width=True)/n",
    "    predictions = import_and_predict(image, model)/n",
    "    class_names=['0', '1', '2', '3', '4', '5', '6', '7', '8', '9']/n",
    "    string=/"This image most likely is: /"+class_names[np.argmax(predictions)]/n",
    "    st.success(string)"
   ]
  },
  {
   "cell_type": "code",
   "execution_count": 3,
   "id": "b6ab66e0",
   "metadata": {},
   "outputs": [
    {
     "name": "stdout",
     "output_type": "stream",
     "text": [
      "Collecting opencv-python/n",
      "  Downloading opencv_python-4.5.4.60-cp38-cp38-win_amd64.whl (35.1 MB)/n",
      "Requirement already satisfied: numpy>=1.17.3 in c://users//simplon//anaconda3//lib//site-packages (from opencv-python) (1.19.5)/n",
      "Installing collected packages: opencv-python/n",
      "Successfully installed opencv-python-4.5.4.60/n",
      "Note: you may need to restart the kernel to use updated packages./n"
     ]
    }
   ],
   "source": [
    "pip install opencv-python"
   ]
  },
  {
   "cell_type": "code",
   "execution_count": null,
   "id": "b2e2ffd0",
   "metadata": {},
   "outputs": [],
   "source": []
  },
  {
   "cell_type": "code",
   "execution_count": 105,
   "id": "50ce5cb1",
   "metadata": {},
   "outputs": [],
   "source": [
    "# model.save('BC.h5')"
   ]
  },
  {
   "cell_type": "code",
   "execution_count": 106,
   "id": "1c580123",
   "metadata": {},
   "outputs": [],
   "source": [
    "# from keras.models import load_model/n",
    "# from keras.preprocessing.image import load_img,img_to_array/n",
    "/n",
    "# model1 = load_model('./BC.h5',compile=False)"
   ]
  },
  {
   "cell_type": "code",
   "execution_count": 109,
   "id": "b81e4b54",
   "metadata": {},
   "outputs": [
    {
     "ename": "NameError",
     "evalue": "name 'training_set' is not defined",
     "output_type": "error",
     "traceback": [
      "/u001b[1;31m---------------------------------------------------------------------------/u001b[0m",
      "/u001b[1;31mNameError/u001b[0m                                 Traceback (most recent call last)",
      "/u001b[1;32m<ipython-input-109-7fd79cd9ce09>/u001b[0m in /u001b[0;36m<module>/u001b[1;34m/u001b[0m/n/u001b[1;32m----> 1/u001b[1;33m /u001b[0mlab/u001b[0m /u001b[1;33m=/u001b[0m /u001b[0mtraining_set/u001b[0m/u001b[1;33m./u001b[0m/u001b[0mclass_indices/u001b[0m/u001b[1;33m/u001b[0m/u001b[1;33m/u001b[0m/u001b[0m/n/u001b[0m/u001b[0;32m      2/u001b[0m /u001b[0mlab/u001b[0m/u001b[1;33m=/u001b[0m/u001b[1;33m{/u001b[0m/u001b[0mk/u001b[0m/u001b[1;33m:/u001b[0m/u001b[0mv/u001b[0m /u001b[1;32mfor/u001b[0m /u001b[0mv/u001b[0m/u001b[1;33m,/u001b[0m/u001b[0mk/u001b[0m /u001b[1;32min/u001b[0m /u001b[0mlab/u001b[0m/u001b[1;33m./u001b[0m/u001b[0mitems/u001b[0m/u001b[1;33m(/u001b[0m/u001b[1;33m)/u001b[0m/u001b[1;33m}/u001b[0m/u001b[1;33m/u001b[0m/u001b[1;33m/u001b[0m/u001b[0m/n",
      "/u001b[1;31mNameError/u001b[0m: name 'training_set' is not defined"
     ]
    }
   ],
   "source": [
    "# lab = training_set.class_indices/n",
    "# lab={k:v for v,k in lab.items()}"
   ]
  },
  {
   "cell_type": "code",
   "execution_count": 108,
   "id": "2c2190b9",
   "metadata": {},
   "outputs": [],
   "source": [
    "# def output(location):/n",
    "#     img=load_img(location,target_size=(224,224,3))/n",
    "#     img=img_to_array(img)/n",
    "#     img=img/255/n",
    "#     img=np.expand_dims(img,[0])/n",
    "#     answer=model1.predict(img)/n",
    "#     y_class = answer.argmax(axis=-1)/n",
    "#     y = /" /".join(str(x) for x in y_class)/n",
    "#     y = int(y)/n",
    "#     res = lab[y]/n",
    "#     return res"
   ]
  },
  {
   "cell_type": "code",
   "execution_count": null,
   "id": "39e78c11",
   "metadata": {},
   "outputs": [],
   "source": []
  },
  {
   "cell_type": "code",
   "execution_count": null,
   "id": "0f26004d",
   "metadata": {},
   "outputs": [],
   "source": []
  },
  {
   "cell_type": "code",
   "execution_count": null,
   "id": "fd3668bc",
   "metadata": {},
   "outputs": [],
   "source": []
  },
  {
   "cell_type": "code",
   "execution_count": null,
   "id": "f494c6da",
   "metadata": {},
   "outputs": [],
   "source": []
  },
  {
   "cell_type": "code",
   "execution_count": 274,
   "id": "5eabea18",
   "metadata": {},
   "outputs": [],
   "source": [
    "# print(len(X_train)), /n",
    "# print(len(X_test)), /n",
    "# print(len(y_train)), /n",
    "# print(len(y_test))"
   ]
  },
  {
   "cell_type": "code",
   "execution_count": 275,
   "id": "f2a30b18",
   "metadata": {},
   "outputs": [],
   "source": [
    "# (X_train, y_train), (X_train, y_train)"
   ]
  },
  {
   "cell_type": "code",
   "execution_count": 276,
   "id": "ea992f4b",
   "metadata": {},
   "outputs": [],
   "source": [
    "# X_train.shape, y_train.shape/n"
   ]
  },
  {
   "cell_type": "code",
   "execution_count": 259,
   "id": "86caeb26",
   "metadata": {},
   "outputs": [],
   "source": [
    "# X_train = X_train.reshape(-1, 28, 28, 1)"
   ]
  },
  {
   "cell_type": "code",
   "execution_count": 236,
   "id": "6d4ebc06",
   "metadata": {},
   "outputs": [],
   "source": [
    "# X_train_flattened = X_train.reshape(len(X_train), 28*28)/n",
    "# X_train_flattened.shape"
   ]
  },
  {
   "cell_type": "code",
   "execution_count": 231,
   "id": "16609727",
   "metadata": {},
   "outputs": [],
   "source": [
    "# data.reshape(3,1)"
   ]
  },
  {
   "cell_type": "code",
   "execution_count": 277,
   "id": "21248fc1",
   "metadata": {},
   "outputs": [],
   "source": [
    "# def shift_image(image, dx, dy):/n",
    "#     image = image.reshape((28, 28))/n",
    "#     shifted_image = shift(image, [dy, dx], cval=0, mode=/"constant/")/n",
    "#     return shifted_image.reshape([-1])"
   ]
  },
  {
   "cell_type": "code",
   "execution_count": 279,
   "id": "412b259f",
   "metadata": {},
   "outputs": [],
   "source": [
    "# X_train_augmented = [image for image in X_train]/n",
    "# y_train_augmented = [image for image in y_train]/n",
    "/n",
    "# for dx, dy in ((1,0), (-1,0), (0,1), (0,-1)):/n",
    "#      for image, label in zip(X_train, y_train):/n",
    "#              X_train_augmented.append(shift_image(image, dx, dy))/n",
    "#              y_train_augmented.append(label)"
   ]
  },
  {
   "cell_type": "code",
   "execution_count": 284,
   "id": "2b20b34b",
   "metadata": {},
   "outputs": [],
   "source": [
    "# X.reshape([-1, 28,28, 1])"
   ]
  },
  {
   "cell_type": "code",
   "execution_count": null,
   "id": "bd0b2639",
   "metadata": {},
   "outputs": [],
   "source": []
  },
  {
   "cell_type": "code",
   "execution_count": 61,
   "id": "1687b314",
   "metadata": {},
   "outputs": [],
   "source": [
    "# dataX.head()"
   ]
  },
  {
   "cell_type": "code",
   "execution_count": 62,
   "id": "e4ab5e5b",
   "metadata": {},
   "outputs": [],
   "source": [
    "# datay.head()"
   ]
  },
  {
   "cell_type": "markdown",
   "id": "de9dc97d",
   "metadata": {},
   "source": [
    "# DIMENSION"
   ]
  },
  {
   "cell_type": "code",
   "execution_count": 246,
   "id": "226858b3",
   "metadata": {},
   "outputs": [],
   "source": [
    "# add 3d dimension for image plot/n",
    "# X = np.expand_dims(X, axis=+2)"
   ]
  },
  {
   "cell_type": "code",
   "execution_count": 247,
   "id": "ecebed8f",
   "metadata": {},
   "outputs": [],
   "source": [
    "# add 3d dimension for image plot/n",
    "# data_norm = np.expand_dims(dataX, axis=+2)"
   ]
  },
  {
   "cell_type": "code",
   "execution_count": 249,
   "id": "2ec10dae",
   "metadata": {},
   "outputs": [],
   "source": [
    "# plot instances frequency per digit/n",
    "# sns.countplot(dataX=X, x=target)/n",
    "/n",
    "# plt.xlabel(/"digits/",fontsize=16)/n",
    "# plt.ylabel(/"frequency/",fontsize=16)/n",
    "# plt.title(/"Frequency Graph/",fontsize=20)/n",
    "# plt.show()"
   ]
  },
  {
   "cell_type": "code",
   "execution_count": 228,
   "id": "0827545f",
   "metadata": {
    "scrolled": true
   },
   "outputs": [],
   "source": [
    "rows = 5 # defining no. of rows/n",
    "cols = 6 # defining no. of columns/n",
    "/n",
    "# f = plt.figure(figsize=(2*cols, 2*rows)) # defining a figure/n",
    "/n",
    "# for i in range(rows*cols):/n",
    "#     f.add_subplot(rows, cols, i+1) # adding sub plot to figure on each iteration/n",
    "#     plt.imshow(data_norm[i].reshape([28,28]), cmap=/"Blues/")/n",
    "#     plt.axis(/"off/")/n",
    "#     plt.title(str(target[i]), y=-0.15, color=/"green/")"
   ]
  },
  {
   "cell_type": "code",
   "execution_count": 66,
   "id": "87b527e6",
   "metadata": {},
   "outputs": [],
   "source": [
    "# def viz_num(num):/n",
    "#     #Reshape the 768 values to a 28x28 image/n",
    "#     image = dataX.values[num].reshape([28,28])/n",
    "#     plt.title('Sample: %d  Label: %d' % (num, y[num]))/n",
    "#     plt.imshow(image, cmap=plt.get_cmap('gray'))/n",
    "#     plt.show()"
   ]
  },
  {
   "cell_type": "code",
   "execution_count": 68,
   "id": "45f4b7be",
   "metadata": {},
   "outputs": [],
   "source": [
    "# imprime des infos sur le datafrme comme le type d'index, les colonnes, les valeurs non-null et la mémoire/n",
    "# data.info()"
   ]
  },
  {
   "cell_type": "code",
   "execution_count": 69,
   "id": "3b5276f3",
   "metadata": {},
   "outputs": [],
   "source": [
    "# traitement des Valeur manquante, il y a 176 valeur manquante /n",
    "# data.isnull().sum()"
   ]
  },
  {
   "cell_type": "code",
   "execution_count": 70,
   "id": "b0b63dfa",
   "metadata": {},
   "outputs": [],
   "source": [
    "# nous compte le type de valeur (float, object)/n",
    "# data.dtypes.value_counts()"
   ]
  },
  {
   "cell_type": "code",
   "execution_count": 50,
   "id": "8648b5dd",
   "metadata": {},
   "outputs": [],
   "source": [
    "# dataX = np.array([0, 1, 2, 3, 4, 5, 6, 7, 8, 9])"
   ]
  },
  {
   "cell_type": "code",
   "execution_count": 71,
   "id": "59a448be",
   "metadata": {},
   "outputs": [],
   "source": [
    "# dataX[1:7:2]"
   ]
  },
  {
   "cell_type": "code",
   "execution_count": 55,
   "id": "f1d6c063",
   "metadata": {},
   "outputs": [],
   "source": [
    "# (X_train, y_train), (X_train, y_train)"
   ]
  },
  {
   "cell_type": "code",
   "execution_count": 57,
   "id": "5b3342ae",
   "metadata": {},
   "outputs": [],
   "source": [
    "# X_train = tf.keras.utils.normalize(X_train, axis=1)"
   ]
  },
  {
   "cell_type": "code",
   "execution_count": 56,
   "id": "04562144",
   "metadata": {},
   "outputs": [],
   "source": [
    "# data.reshape(3,1)"
   ]
  },
  {
   "cell_type": "code",
   "execution_count": 58,
   "id": "6a034cec",
   "metadata": {},
   "outputs": [],
   "source": [
    "# x_train = x_train.reshape(-1, 28, 28, 1)/n"
   ]
  },
  {
   "cell_type": "code",
   "execution_count": 59,
   "id": "05fd4618",
   "metadata": {},
   "outputs": [],
   "source": [
    "# pick a sample to plot/n",
    "# sample = 1/n",
    "# image = x_train[sample]# plot the sample/n",
    "# fig = plt.figure/n",
    "# plt.imshow(image, cmap='gray')/n",
    "# plt.show()"
   ]
  },
  {
   "cell_type": "code",
   "execution_count": null,
   "id": "7d245bcb",
   "metadata": {},
   "outputs": [],
   "source": []
  },
  {
   "cell_type": "code",
   "execution_count": null,
   "id": "7a20979d",
   "metadata": {},
   "outputs": [],
   "source": []
  },
  {
   "cell_type": "markdown",
   "id": "ab15e5df",
   "metadata": {},
   "source": [
    "# Flatten the image"
   ]
  },
  {
   "cell_type": "code",
   "execution_count": 31,
   "id": "dd8babb4",
   "metadata": {},
   "outputs": [],
   "source": [
    "# # Create the model/n",
    "# model = tf.keras.models.sequential()/n",
    "# model.add(tf.keras.layers.Flatten(input_shape=[28,28]))/n",
    "/n",
    "# print(/"shape of the image/", images[0:1].shape)/n",
    "# model_output = model.predict(images[0:1])/n",
    "# print(/"shape of the image after the flatten/", model_output.shape)"
   ]
  },
  {
   "cell_type": "code",
   "execution_count": null,
   "id": "0fd49ca4",
   "metadata": {},
   "outputs": [],
   "source": []
  },
  {
   "cell_type": "code",
   "execution_count": null,
   "id": "7e7e83ef",
   "metadata": {},
   "outputs": [],
   "source": []
  },
  {
   "cell_type": "code",
   "execution_count": 20,
   "id": "b3d607a0",
   "metadata": {},
   "outputs": [],
   "source": [
    "# pick a sample to plot/n",
    "# sample = 1/n",
    "# image = x_train[sample]# plot the sample/n",
    "# fig = plt.figure/n",
    "# plt.imshow(image, cmap='gray')/n",
    "# plt.show()"
   ]
  },
  {
   "cell_type": "markdown",
   "id": "cd5edffe",
   "metadata": {},
   "source": [
    "# Add the layers"
   ]
  },
  {
   "cell_type": "code",
   "execution_count": 6,
   "id": "38612263",
   "metadata": {},
   "outputs": [],
   "source": [
    "# Flatten"
   ]
  },
  {
   "cell_type": "code",
   "execution_count": 73,
   "id": "4464477e",
   "metadata": {},
   "outputs": [],
   "source": [
    "# model = tf.keras.models.Sequ[28,28ential()/n",
    "# model.add(tf.keras.layers.Flatten(input_shape=[28,28]))/n",
    "                                               /n",
    "# # Add the layers/n",
    "# model.add(tf.keras.layers.Dense(256, activation=/"relu/"))/n",
    "# model.add(tf.keras.layers.Dense(128, activation=/"relu/"))/n",
    "# model.add(tf.keras.layers.Dense(10, activation=/"softmax/"))/n",
    "/n",
    "# model_output = model.predict(images[0:1])/n",
    "# print(model_output, targets[0:1])"
   ]
  },
  {
   "cell_type": "markdown",
   "id": "493c4750",
   "metadata": {},
   "source": [
    "# Train the Model"
   ]
  },
  {
   "cell_type": "code",
   "execution_count": null,
   "id": "2f48fd22",
   "metadata": {},
   "outputs": [],
   "source": [
    "# history = model.fit(images, targets, epochs=10)"
   ]
  }
 ],
 "metadata": {
  "kernelspec": {
   "display_name": "Python 3",
   "language": "python",
   "name": "python3"
  },
  "language_info": {
   "codemirror_mode": {
    "name": "ipython",
    "version": 3
   },
   "file_extension": ".py",
   "mimetype": "text/x-python",
   "name": "python",
   "nbconvert_exporter": "python",
   "pygments_lexer": "ipython3",
   "version": "3.8.8"
  }
 },
 "nbformat": 4,
 "nbformat_minor": 5
}
